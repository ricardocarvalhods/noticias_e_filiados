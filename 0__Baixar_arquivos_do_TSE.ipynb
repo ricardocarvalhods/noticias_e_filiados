{
 "cells": [
  {
   "cell_type": "code",
   "execution_count": null,
   "id": "f3e7c521",
   "metadata": {},
   "outputs": [],
   "source": [
    "!pip install wget"
   ]
  },
  {
   "cell_type": "code",
   "execution_count": null,
   "id": "ee24e3d7",
   "metadata": {},
   "outputs": [],
   "source": [
    "import wget\n",
    "from datetime import datetime"
   ]
  },
  {
   "cell_type": "code",
   "execution_count": null,
   "id": "1ab2fae5",
   "metadata": {},
   "outputs": [],
   "source": [
    "PARTIDOS = [\n",
    "    \"avante\",\"cidadania\",\"dc\",\"dem\",\"mdb\",\"novo\",\"patriota\",\"pcb\",\"pcdob\",\n",
    "    \"pco\",\"pdt\",\"phs\",\"pl\",\"pmb\",\"pmn\",\"pode\",\"pp\",\"ppl\",\"pros\",\"prp\",\"prtb\",\n",
    "    \"psb\",\"psc\",\"psd\",\"psdb\",\"psl\",\"psol\",\"pstu\",\"pt\",\"ptb\",\"ptc\",\"pv\",\n",
    "    \"rede\",\"republicanos\",\"solidariedade\",\"up\"\n",
    "]"
   ]
  },
  {
   "cell_type": "code",
   "execution_count": null,
   "id": "7b0b5d6e",
   "metadata": {},
   "outputs": [],
   "source": [
    "# URL BASE DO TSE\n",
    "url_base = \"http://agencia.tse.jus.br/estatistica/sead/odsele/filiacao_partidaria/filiados_{}.zip\""
   ]
  },
  {
   "cell_type": "code",
   "execution_count": null,
   "id": "1f6493ae",
   "metadata": {},
   "outputs": [],
   "source": [
    "# BAIXAR ARQUIVOS .zip\n",
    "\n",
    "tempo_anterior = datetime.now()\n",
    "\n",
    "for part in PARTIDOS:\n",
    "    # Baixar\n",
    "    file_name = wget.download(url_base.format(part))\n",
    "\n",
    "    # Mensagem de progresso\n",
    "    tempo_atual = datetime.now()\n",
    "    print(tempo_atual, \"- COMPLETO:\", part, \"- TEMPO (s):\", (tempo_atual-tempo_anterior).total_seconds())\n",
    "    tempo_anterior = tempo_atual"
   ]
  }
 ],
 "metadata": {
  "kernelspec": {
   "display_name": "Python 3",
   "language": "python",
   "name": "python3"
  },
  "language_info": {
   "codemirror_mode": {
    "name": "ipython",
    "version": 3
   },
   "file_extension": ".py",
   "mimetype": "text/x-python",
   "name": "python",
   "nbconvert_exporter": "python",
   "pygments_lexer": "ipython3",
   "version": "3.8.5"
  }
 },
 "nbformat": 4,
 "nbformat_minor": 5
}
