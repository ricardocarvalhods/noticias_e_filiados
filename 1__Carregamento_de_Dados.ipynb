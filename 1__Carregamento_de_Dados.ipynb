{
 "cells": [
  {
   "cell_type": "code",
   "execution_count": null,
   "id": "91353947",
   "metadata": {},
   "outputs": [],
   "source": [
    "import zipfile\n",
    "import os\n",
    "import numpy as np\n",
    "import pandas as pd\n",
    "import glob\n",
    "from tqdm.notebook import tqdm\n",
    "import unicodedata\n",
    "import re \n",
    "import wget\n",
    "from datetime import datetime\n",
    "import seaborn as sns\n",
    "\n",
    "tqdm.pandas()\n",
    "\n",
    "def limpar_texto(texto):\n",
    "    # Se vazio, retorna\n",
    "    if texto is None or len(texto.strip()) == 0:\n",
    "        return texto\n",
    "\n",
    "    # Remover acentos\n",
    "    result = unicodedata.normalize('NFKD', texto).encode('ASCII', 'ignore').decode('ASCII')\n",
    "\n",
    "    # Remover caracteres especiais\n",
    "    lista = '-#?º°ª.:/;~^`[{]}\\\\|!$%\"\\'&*()=+,><\\t\\r\\n…'\n",
    "    for i in range(0, len(lista)):\n",
    "        result = result.replace(lista[i], ' ')\n",
    "\n",
    "    # Transformar multiplos espacos em apenas um\n",
    "    result = re.sub(' +', ' ', result)\n",
    "\n",
    "    # Transformar em LOWER case\n",
    "    result = result.lower()\n",
    "\n",
    "    return result"
   ]
  },
  {
   "cell_type": "markdown",
   "id": "75e12acc",
   "metadata": {},
   "source": [
    "# Obter dados de Filiados (TSE)"
   ]
  },
  {
   "cell_type": "code",
   "execution_count": 1,
   "id": "fa1a67f0",
   "metadata": {
    "scrolled": true
   },
   "outputs": [
    {
     "name": "stdout",
     "output_type": "stream",
     "text": [
      "filiados_prtb.zip\n",
      "filiados_prtb.csv\n",
      "----\n",
      "filiados_dem.zip\n",
      "filiados_dem.csv\n",
      "----\n",
      "filiados_pcb.zip\n",
      "filiados_pcb.csv\n",
      "----\n",
      "filiados_pmn.zip\n",
      "filiados_pmn.csv\n",
      "----\n",
      "filiados_phs.zip\n",
      "filiados_phs.csv\n",
      "----\n",
      "filiados_rede.zip\n",
      "filiados_rede.csv\n",
      "----\n",
      "filiados_republicanos.zip\n",
      "filiados_republicanos.csv\n",
      "----\n",
      "filiados_novo.zip\n",
      "filiados_novo.csv\n",
      "----\n",
      "20210721_Expulsoes.zip\n",
      "----\n",
      "filiados_dc.zip\n",
      "filiados_dc.csv\n",
      "----\n",
      "20210721_Expulsoes (1).zip\n",
      "----\n",
      "filiados_mdb.zip\n",
      "filiados_mdb.csv\n",
      "----\n",
      "filiados_pstu.zip\n",
      "filiados_pstu.csv\n",
      "----\n",
      "filiados_pp.zip\n",
      "filiados_pp.csv\n",
      "----\n",
      "filiados_avante.zip\n",
      "filiados_avante.csv\n",
      "----\n",
      "filiados_psl.zip\n",
      "filiados_psl.csv\n",
      "----\n",
      "filiados_pt.zip\n",
      "filiados_pt.csv\n",
      "----\n",
      "filiados_psol.zip\n",
      "filiados_psol.csv\n",
      "----\n",
      "filiados_patriota.zip\n",
      "filiados_patriota.csv\n",
      "----\n",
      "filiados_pv.zip\n",
      "filiados_pv.csv\n",
      "----\n",
      "filiados_pdt.zip\n",
      "filiados_pdt.csv\n",
      "----\n",
      "filiados_pl.zip\n",
      "filiados_pl.csv\n",
      "----\n",
      "filiados_solidariedade.zip\n",
      "filiados_solidariedade.csv\n",
      "----\n",
      "filiados_cidadania.zip\n",
      "filiados_cidadania.csv\n",
      "----\n",
      "filiados_psd.zip\n",
      "filiados_psd.csv\n",
      "----\n",
      "202106_Servidores.zip\n",
      "----\n",
      "filiados_pode.zip\n",
      "filiados_pode.csv\n",
      "----\n",
      "filiados_ppl.zip\n",
      "filiados_ppl.csv\n",
      "----\n",
      "filiados_psb.zip\n",
      "filiados_psb.csv\n",
      "----\n",
      "filiados_prp.zip\n",
      "filiados_prp.csv\n",
      "----\n",
      "filiados_psc.zip\n",
      "filiados_psc.csv\n",
      "----\n",
      "filiados_pmb.zip\n",
      "filiados_pmb.csv\n",
      "----\n",
      "filiados_pcdob.zip\n",
      "filiados_pcdob.csv\n",
      "----\n",
      "filiados_ptc.zip\n",
      "filiados_ptc.csv\n",
      "----\n",
      "filiados_ptb.zip\n",
      "filiados_ptb.csv\n",
      "----\n",
      "filiados_pco.zip\n",
      "filiados_pco.csv\n",
      "----\n",
      "filiados_psdb.zip\n",
      "filiados_psdb.csv\n",
      "----\n",
      "filiados_up.zip\n",
      "filiados_up.csv\n",
      "----\n",
      "filiados_pros.zip\n",
      "filiados_pros.csv\n",
      "----\n"
     ]
    }
   ],
   "source": [
    "df_filiados = []\n",
    "\n",
    "# Obter arquivos .zip no diretorio atual\n",
    "arquivos_zip = glob.glob(\"*.zip\")\n",
    "\n",
    "for arq_zip in arquivos_zip:\n",
    "    print(arq_zip)\n",
    "\n",
    "    # Abrir arquivo .zip\n",
    "    archive = zipfile.ZipFile(arq_zip, 'r')\n",
    "    for fname in archive.namelist():\n",
    "        if fname.startswith(\"filiados\") and fname.split(\".\")[-1] == \"csv\":\n",
    "            # Abrir arquivo .csv dentro do arquivo .zip: Criar DataFrame\n",
    "            df = pd.read_csv(archive.open(fname), encoding='latin1', sep=\";\", low_memory=False)\n",
    "            df_filiados.append(df)\n",
    "            print(fname)\n",
    "    print(\"----\")"
   ]
  },
  {
   "cell_type": "code",
   "execution_count": 2,
   "id": "826acc79",
   "metadata": {},
   "outputs": [
    {
     "data": {
      "text/plain": [
       "True"
      ]
     },
     "execution_count": 2,
     "metadata": {},
     "output_type": "execute_result"
    }
   ],
   "source": [
    "# Checar tamanho\n",
    "len(df_filiados)==36"
   ]
  },
  {
   "cell_type": "code",
   "execution_count": 3,
   "id": "7c87c590",
   "metadata": {},
   "outputs": [],
   "source": [
    "# Concatenar lista de DataFrames em um único DataFrame\n",
    "df_filiados = pd.concat(df_filiados, ignore_index=True)"
   ]
  },
  {
   "cell_type": "code",
   "execution_count": 4,
   "id": "a77f8b4e",
   "metadata": {},
   "outputs": [
    {
     "data": {
      "text/plain": [
       "(24666625, 19)"
      ]
     },
     "execution_count": 4,
     "metadata": {},
     "output_type": "execute_result"
    }
   ],
   "source": [
    "df_filiados.shape"
   ]
  },
  {
   "cell_type": "code",
   "execution_count": 5,
   "id": "e3c08ab3",
   "metadata": {},
   "outputs": [],
   "source": [
    "# Padroniza colunas: Espaco vira Underscore e virar lowercase\n",
    "df_filiados.columns = [col.replace(\" \", \"_\").lower() for col in df_filiados.columns]"
   ]
  },
  {
   "cell_type": "code",
   "execution_count": 6,
   "id": "1ee7e827",
   "metadata": {},
   "outputs": [
    {
     "name": "stdout",
     "output_type": "stream",
     "text": [
      "<class 'pandas.core.frame.DataFrame'>\n",
      "RangeIndex: 24666625 entries, 0 to 24666624\n",
      "Data columns (total 19 columns):\n",
      " #   Column                  Dtype  \n",
      "---  ------                  -----  \n",
      " 0   data_da_extracao        object \n",
      " 1   hora_da_extracao        object \n",
      " 2   numero_da_inscricao     object \n",
      " 3   nome_do_filiado         object \n",
      " 4   sigla_do_partido        object \n",
      " 5   nome_do_partido         object \n",
      " 6   uf                      object \n",
      " 7   codigo_do_municipio     int64  \n",
      " 8   nome_do_municipio       object \n",
      " 9   zona_eleitoral          int64  \n",
      " 10  secao_eleitoral         float64\n",
      " 11  data_da_filiacao        object \n",
      " 12  situacao_do_registro    object \n",
      " 13  tipo_do_registro        object \n",
      " 14  data_do_processamento   object \n",
      " 15  data_da_desfiliacao     object \n",
      " 16  data_do_cancelamento    object \n",
      " 17  data_da_regularizacao   object \n",
      " 18  motivo_do_cancelamento  object \n",
      "dtypes: float64(1), int64(2), object(16)\n",
      "memory usage: 3.5+ GB\n"
     ]
    }
   ],
   "source": [
    "df_filiados.info()"
   ]
  },
  {
   "cell_type": "code",
   "execution_count": 7,
   "id": "049974e1",
   "metadata": {},
   "outputs": [
    {
     "data": {
      "text/html": [
       "<div>\n",
       "<style scoped>\n",
       "    .dataframe tbody tr th:only-of-type {\n",
       "        vertical-align: middle;\n",
       "    }\n",
       "\n",
       "    .dataframe tbody tr th {\n",
       "        vertical-align: top;\n",
       "    }\n",
       "\n",
       "    .dataframe thead th {\n",
       "        text-align: right;\n",
       "    }\n",
       "</style>\n",
       "<table border=\"1\" class=\"dataframe\">\n",
       "  <thead>\n",
       "    <tr style=\"text-align: right;\">\n",
       "      <th></th>\n",
       "      <th>data_da_extracao</th>\n",
       "      <th>hora_da_extracao</th>\n",
       "      <th>numero_da_inscricao</th>\n",
       "      <th>nome_do_filiado</th>\n",
       "      <th>sigla_do_partido</th>\n",
       "      <th>nome_do_partido</th>\n",
       "      <th>uf</th>\n",
       "      <th>codigo_do_municipio</th>\n",
       "      <th>nome_do_municipio</th>\n",
       "      <th>zona_eleitoral</th>\n",
       "      <th>secao_eleitoral</th>\n",
       "      <th>data_da_filiacao</th>\n",
       "      <th>situacao_do_registro</th>\n",
       "      <th>tipo_do_registro</th>\n",
       "      <th>data_do_processamento</th>\n",
       "      <th>data_da_desfiliacao</th>\n",
       "      <th>data_do_cancelamento</th>\n",
       "      <th>data_da_regularizacao</th>\n",
       "      <th>motivo_do_cancelamento</th>\n",
       "    </tr>\n",
       "  </thead>\n",
       "  <tbody>\n",
       "    <tr>\n",
       "      <th>0</th>\n",
       "      <td>01/07/2021</td>\n",
       "      <td>22:19:48</td>\n",
       "      <td>9831503</td>\n",
       "      <td>TEREZA DE MARIA VAL COSTA</td>\n",
       "      <td>PRTB</td>\n",
       "      <td>PARTIDO RENOVADOR TRABALHISTA BRASILEIRO</td>\n",
       "      <td>PI</td>\n",
       "      <td>10391</td>\n",
       "      <td>BURITI DOS LOPES</td>\n",
       "      <td>33</td>\n",
       "      <td>29.0</td>\n",
       "      <td>28/09/2007</td>\n",
       "      <td>REGULAR</td>\n",
       "      <td>OFICIAL</td>\n",
       "      <td>NaN</td>\n",
       "      <td>NaN</td>\n",
       "      <td>NaN</td>\n",
       "      <td>NaN</td>\n",
       "      <td>NaN</td>\n",
       "    </tr>\n",
       "    <tr>\n",
       "      <th>1</th>\n",
       "      <td>01/07/2021</td>\n",
       "      <td>22:19:48</td>\n",
       "      <td>195981473</td>\n",
       "      <td>EDISON DE LIMA BATISTA</td>\n",
       "      <td>PRTB</td>\n",
       "      <td>PARTIDO RENOVADOR TRABALHISTA BRASILEIRO</td>\n",
       "      <td>ES</td>\n",
       "      <td>57053</td>\n",
       "      <td>VITÓRIA</td>\n",
       "      <td>52</td>\n",
       "      <td>452.0</td>\n",
       "      <td>07/10/2011</td>\n",
       "      <td>CANCELADO</td>\n",
       "      <td>OFICIAL</td>\n",
       "      <td>NaN</td>\n",
       "      <td>NaN</td>\n",
       "      <td>08/12/2011</td>\n",
       "      <td>NaN</td>\n",
       "      <td>JUDICIAL</td>\n",
       "    </tr>\n",
       "    <tr>\n",
       "      <th>2</th>\n",
       "      <td>01/07/2021</td>\n",
       "      <td>22:19:48</td>\n",
       "      <td>196052631</td>\n",
       "      <td>RITA DE CASSIA COELHO DE ARAUJO PEIXOTO</td>\n",
       "      <td>PRTB</td>\n",
       "      <td>PARTIDO RENOVADOR TRABALHISTA BRASILEIRO</td>\n",
       "      <td>RR</td>\n",
       "      <td>3123</td>\n",
       "      <td>PACARAIMA</td>\n",
       "      <td>7</td>\n",
       "      <td>70.0</td>\n",
       "      <td>18/08/2015</td>\n",
       "      <td>CANCELADO</td>\n",
       "      <td>OFICIAL</td>\n",
       "      <td>16/04/2020</td>\n",
       "      <td>NaN</td>\n",
       "      <td>16/04/2020</td>\n",
       "      <td>NaN</td>\n",
       "      <td>CANCELAMENTO AUTOMÁTICO</td>\n",
       "    </tr>\n",
       "    <tr>\n",
       "      <th>3</th>\n",
       "      <td>01/07/2021</td>\n",
       "      <td>22:19:48</td>\n",
       "      <td>196062615</td>\n",
       "      <td>REGNIER LAGO FONTELES</td>\n",
       "      <td>PRTB</td>\n",
       "      <td>PARTIDO RENOVADOR TRABALHISTA BRASILEIRO</td>\n",
       "      <td>RR</td>\n",
       "      <td>3018</td>\n",
       "      <td>BOA VISTA</td>\n",
       "      <td>1</td>\n",
       "      <td>723.0</td>\n",
       "      <td>30/09/2005</td>\n",
       "      <td>CANCELADO</td>\n",
       "      <td>OFICIAL</td>\n",
       "      <td>NaN</td>\n",
       "      <td>20/06/2007</td>\n",
       "      <td>20/06/2007</td>\n",
       "      <td>NaN</td>\n",
       "      <td>JUDICIAL</td>\n",
       "    </tr>\n",
       "    <tr>\n",
       "      <th>4</th>\n",
       "      <td>01/07/2021</td>\n",
       "      <td>22:19:48</td>\n",
       "      <td>196170272</td>\n",
       "      <td>EDVALDO CUNHA</td>\n",
       "      <td>PRTB</td>\n",
       "      <td>PARTIDO RENOVADOR TRABALHISTA BRASILEIRO</td>\n",
       "      <td>MG</td>\n",
       "      <td>40495</td>\n",
       "      <td>AMPARO DO SERRA</td>\n",
       "      <td>268</td>\n",
       "      <td>100.0</td>\n",
       "      <td>07/10/2011</td>\n",
       "      <td>CANCELADO</td>\n",
       "      <td>OFICIAL</td>\n",
       "      <td>NaN</td>\n",
       "      <td>NaN</td>\n",
       "      <td>NaN</td>\n",
       "      <td>NaN</td>\n",
       "      <td>NaN</td>\n",
       "    </tr>\n",
       "  </tbody>\n",
       "</table>\n",
       "</div>"
      ],
      "text/plain": [
       "  data_da_extracao hora_da_extracao numero_da_inscricao  \\\n",
       "0       01/07/2021         22:19:48             9831503   \n",
       "1       01/07/2021         22:19:48           195981473   \n",
       "2       01/07/2021         22:19:48           196052631   \n",
       "3       01/07/2021         22:19:48           196062615   \n",
       "4       01/07/2021         22:19:48           196170272   \n",
       "\n",
       "                           nome_do_filiado sigla_do_partido  \\\n",
       "0                TEREZA DE MARIA VAL COSTA             PRTB   \n",
       "1                   EDISON DE LIMA BATISTA             PRTB   \n",
       "2  RITA DE CASSIA COELHO DE ARAUJO PEIXOTO             PRTB   \n",
       "3                    REGNIER LAGO FONTELES             PRTB   \n",
       "4                            EDVALDO CUNHA             PRTB   \n",
       "\n",
       "                            nome_do_partido  uf  codigo_do_municipio  \\\n",
       "0  PARTIDO RENOVADOR TRABALHISTA BRASILEIRO  PI                10391   \n",
       "1  PARTIDO RENOVADOR TRABALHISTA BRASILEIRO  ES                57053   \n",
       "2  PARTIDO RENOVADOR TRABALHISTA BRASILEIRO  RR                 3123   \n",
       "3  PARTIDO RENOVADOR TRABALHISTA BRASILEIRO  RR                 3018   \n",
       "4  PARTIDO RENOVADOR TRABALHISTA BRASILEIRO  MG                40495   \n",
       "\n",
       "  nome_do_municipio  zona_eleitoral  secao_eleitoral data_da_filiacao  \\\n",
       "0  BURITI DOS LOPES              33             29.0       28/09/2007   \n",
       "1           VITÓRIA              52            452.0       07/10/2011   \n",
       "2         PACARAIMA               7             70.0       18/08/2015   \n",
       "3         BOA VISTA               1            723.0       30/09/2005   \n",
       "4   AMPARO DO SERRA             268            100.0       07/10/2011   \n",
       "\n",
       "  situacao_do_registro tipo_do_registro data_do_processamento  \\\n",
       "0              REGULAR          OFICIAL                   NaN   \n",
       "1            CANCELADO          OFICIAL                   NaN   \n",
       "2            CANCELADO          OFICIAL            16/04/2020   \n",
       "3            CANCELADO          OFICIAL                   NaN   \n",
       "4            CANCELADO          OFICIAL                   NaN   \n",
       "\n",
       "  data_da_desfiliacao data_do_cancelamento data_da_regularizacao  \\\n",
       "0                 NaN                  NaN                   NaN   \n",
       "1                 NaN           08/12/2011                   NaN   \n",
       "2                 NaN           16/04/2020                   NaN   \n",
       "3          20/06/2007           20/06/2007                   NaN   \n",
       "4                 NaN                  NaN                   NaN   \n",
       "\n",
       "    motivo_do_cancelamento  \n",
       "0                      NaN  \n",
       "1                 JUDICIAL  \n",
       "2  CANCELAMENTO AUTOMÁTICO  \n",
       "3                 JUDICIAL  \n",
       "4                      NaN  "
      ]
     },
     "execution_count": 7,
     "metadata": {},
     "output_type": "execute_result"
    }
   ],
   "source": [
    "df_filiados.head()"
   ]
  },
  {
   "cell_type": "code",
   "execution_count": 8,
   "id": "8e5fc7d5",
   "metadata": {},
   "outputs": [],
   "source": [
    "colunas_selecionadas = ['numero_da_inscricao','nome_do_filiado', 'sigla_do_partido', 'uf', 'data_da_filiacao',\n",
    "                       'situacao_do_registro', 'tipo_do_registro', 'data_do_processamento',\n",
    "                       'data_da_desfiliacao', 'data_do_cancelamento', 'data_da_regularizacao',\n",
    "                       'motivo_do_cancelamento']"
   ]
  },
  {
   "cell_type": "code",
   "execution_count": 9,
   "id": "41990a90",
   "metadata": {},
   "outputs": [],
   "source": [
    "# Filtrar: Deixar apenas as colunas selecionadas\n",
    "df_filiados = df_filiados[colunas_selecionadas]"
   ]
  },
  {
   "cell_type": "code",
   "execution_count": 10,
   "id": "e3b7c7f7",
   "metadata": {},
   "outputs": [
    {
     "name": "stdout",
     "output_type": "stream",
     "text": [
      "<class 'pandas.core.frame.DataFrame'>\n",
      "RangeIndex: 24666625 entries, 0 to 24666624\n",
      "Data columns (total 12 columns):\n",
      " #   Column                  Dtype \n",
      "---  ------                  ----- \n",
      " 0   numero_da_inscricao     object\n",
      " 1   nome_do_filiado         object\n",
      " 2   sigla_do_partido        object\n",
      " 3   uf                      object\n",
      " 4   data_da_filiacao        object\n",
      " 5   situacao_do_registro    object\n",
      " 6   tipo_do_registro        object\n",
      " 7   data_do_processamento   object\n",
      " 8   data_da_desfiliacao     object\n",
      " 9   data_do_cancelamento    object\n",
      " 10  data_da_regularizacao   object\n",
      " 11  motivo_do_cancelamento  object\n",
      "dtypes: object(12)\n",
      "memory usage: 2.2+ GB\n"
     ]
    }
   ],
   "source": [
    "df_filiados.info()"
   ]
  },
  {
   "cell_type": "code",
   "execution_count": 30,
   "id": "a5e7714e",
   "metadata": {},
   "outputs": [
    {
     "data": {
      "text/html": [
       "<div>\n",
       "<style scoped>\n",
       "    .dataframe tbody tr th:only-of-type {\n",
       "        vertical-align: middle;\n",
       "    }\n",
       "\n",
       "    .dataframe tbody tr th {\n",
       "        vertical-align: top;\n",
       "    }\n",
       "\n",
       "    .dataframe thead th {\n",
       "        text-align: right;\n",
       "    }\n",
       "</style>\n",
       "<table border=\"1\" class=\"dataframe\">\n",
       "  <thead>\n",
       "    <tr style=\"text-align: right;\">\n",
       "      <th></th>\n",
       "      <th>numero_da_inscricao</th>\n",
       "      <th>nome_do_filiado</th>\n",
       "      <th>sigla_do_partido</th>\n",
       "      <th>uf</th>\n",
       "      <th>data_da_filiacao</th>\n",
       "      <th>situacao_do_registro</th>\n",
       "      <th>tipo_do_registro</th>\n",
       "      <th>data_do_processamento</th>\n",
       "      <th>data_da_desfiliacao</th>\n",
       "      <th>data_do_cancelamento</th>\n",
       "      <th>data_da_regularizacao</th>\n",
       "      <th>motivo_do_cancelamento</th>\n",
       "    </tr>\n",
       "  </thead>\n",
       "  <tbody>\n",
       "    <tr>\n",
       "      <th>22916873</th>\n",
       "      <td>VANDERLUCE G</td>\n",
       "      <td>VANIA GOMES GALDINO</td>\n",
       "      <td>PSDB</td>\n",
       "      <td>MG</td>\n",
       "      <td>16/03/1989</td>\n",
       "      <td>CANCELADO</td>\n",
       "      <td>OFICIAL</td>\n",
       "      <td>NaN</td>\n",
       "      <td>02/05/2013</td>\n",
       "      <td>03/06/2013</td>\n",
       "      <td>NaN</td>\n",
       "      <td>NaN</td>\n",
       "    </tr>\n",
       "  </tbody>\n",
       "</table>\n",
       "</div>"
      ],
      "text/plain": [
       "         numero_da_inscricao      nome_do_filiado sigla_do_partido  uf  \\\n",
       "22916873        VANDERLUCE G  VANIA GOMES GALDINO             PSDB  MG   \n",
       "\n",
       "         data_da_filiacao situacao_do_registro tipo_do_registro  \\\n",
       "22916873       16/03/1989            CANCELADO          OFICIAL   \n",
       "\n",
       "         data_do_processamento data_da_desfiliacao data_do_cancelamento  \\\n",
       "22916873                   NaN          02/05/2013           03/06/2013   \n",
       "\n",
       "         data_da_regularizacao motivo_do_cancelamento  \n",
       "22916873                   NaN                    NaN  "
      ]
     },
     "execution_count": 30,
     "metadata": {},
     "output_type": "execute_result"
    }
   ],
   "source": [
    "# Verificar se todos os 'numero_da_inscricao' sao numeros (veio como object)\n",
    "is_inscricao_numero = lambda x: str(x).isdigit()\n",
    "df_filiados[~df_filiados.numero_da_inscricao.apply(is_inscricao_numero)]"
   ]
  },
  {
   "cell_type": "code",
   "execution_count": 32,
   "id": "71bdb124",
   "metadata": {},
   "outputs": [
    {
     "data": {
      "text/plain": [
       "(24666624, 12)"
      ]
     },
     "execution_count": 32,
     "metadata": {},
     "output_type": "execute_result"
    }
   ],
   "source": [
    "# Manter apenas os registros com 'numero_da_inscricao' como numeros (remove o registro encontrado acima)\n",
    "df_filiados = df_filiados[df_filiados.numero_da_inscricao.apply(is_inscricao_numero)]\n",
    "df_filiados.shape"
   ]
  },
  {
   "cell_type": "code",
   "execution_count": 33,
   "id": "fe26481e",
   "metadata": {},
   "outputs": [
    {
     "name": "stderr",
     "output_type": "stream",
     "text": [
      "<ipython-input-33-14bf6baa96f8>:5: SettingWithCopyWarning: \n",
      "A value is trying to be set on a copy of a slice from a DataFrame.\n",
      "Try using .loc[row_indexer,col_indexer] = value instead\n",
      "\n",
      "See the caveats in the documentation: https://pandas.pydata.org/pandas-docs/stable/user_guide/indexing.html#returning-a-view-versus-a-copy\n",
      "  df_filiados[col] = df_filiados[col].astype('float64')\n"
     ]
    },
    {
     "name": "stdout",
     "output_type": "stream",
     "text": [
      "numero_da_inscricao\n",
      "nome_do_filiado\n",
      "sigla_do_partido\n",
      "uf\n"
     ]
    },
    {
     "name": "stderr",
     "output_type": "stream",
     "text": [
      "<ipython-input-33-14bf6baa96f8>:3: SettingWithCopyWarning: \n",
      "A value is trying to be set on a copy of a slice from a DataFrame.\n",
      "Try using .loc[row_indexer,col_indexer] = value instead\n",
      "\n",
      "See the caveats in the documentation: https://pandas.pydata.org/pandas-docs/stable/user_guide/indexing.html#returning-a-view-versus-a-copy\n",
      "  df_filiados[col] = pd.to_datetime(df_filiados[col], format='%d/%m/%Y', errors='coerce')\n"
     ]
    },
    {
     "name": "stdout",
     "output_type": "stream",
     "text": [
      "data_da_filiacao\n",
      "situacao_do_registro\n",
      "tipo_do_registro\n",
      "data_do_processamento\n",
      "data_da_desfiliacao\n",
      "data_do_cancelamento\n",
      "data_da_regularizacao\n",
      "motivo_do_cancelamento\n"
     ]
    }
   ],
   "source": [
    "# Padroniza tipos de dados\n",
    "\n",
    "for col in df_filiados.columns:\n",
    "    if col.startswith(\"data\"):\n",
    "        df_filiados[col] = pd.to_datetime(df_filiados[col], format='%d/%m/%Y', errors='coerce')\n",
    "    \n",
    "    elif col == \"numero_da_inscricao\":\n",
    "        df_filiados[col] = df_filiados[col].astype('float64')\n",
    "#     else:\n",
    "#         df_filiados[col] = df_filiados[col].astype('category')\n",
    "    print(col)"
   ]
  },
  {
   "cell_type": "code",
   "execution_count": 34,
   "id": "24f1e82d",
   "metadata": {},
   "outputs": [
    {
     "name": "stdout",
     "output_type": "stream",
     "text": [
      "<class 'pandas.core.frame.DataFrame'>\n",
      "Int64Index: 24666624 entries, 0 to 24666624\n",
      "Data columns (total 12 columns):\n",
      " #   Column                  Dtype         \n",
      "---  ------                  -----         \n",
      " 0   numero_da_inscricao     float64       \n",
      " 1   nome_do_filiado         object        \n",
      " 2   sigla_do_partido        object        \n",
      " 3   uf                      object        \n",
      " 4   data_da_filiacao        datetime64[ns]\n",
      " 5   situacao_do_registro    object        \n",
      " 6   tipo_do_registro        object        \n",
      " 7   data_do_processamento   datetime64[ns]\n",
      " 8   data_da_desfiliacao     datetime64[ns]\n",
      " 9   data_do_cancelamento    datetime64[ns]\n",
      " 10  data_da_regularizacao   datetime64[ns]\n",
      " 11  motivo_do_cancelamento  object        \n",
      "dtypes: datetime64[ns](5), float64(1), object(6)\n",
      "memory usage: 2.4+ GB\n"
     ]
    }
   ],
   "source": [
    "df_filiados.info()"
   ]
  },
  {
   "cell_type": "code",
   "execution_count": 201,
   "id": "67793651",
   "metadata": {},
   "outputs": [
    {
     "name": "stderr",
     "output_type": "stream",
     "text": [
      "/Users/ricardosc/opt/anaconda3/lib/python3.8/site-packages/tqdm/std.py:697: FutureWarning: The Panel class is removed from pandas. Accessing it from the top-level namespace will also be removed in the next version\n",
      "  from pandas import Panel\n"
     ]
    },
    {
     "data": {
      "application/vnd.jupyter.widget-view+json": {
       "model_id": "f29490eb268643738638d004ef13cf5f",
       "version_major": 2,
       "version_minor": 0
      },
      "text/plain": [
       "HBox(children=(HTML(value=''), FloatProgress(value=0.0, max=24666624.0), HTML(value='')))"
      ]
     },
     "metadata": {},
     "output_type": "display_data"
    },
    {
     "name": "stdout",
     "output_type": "stream",
     "text": [
      "\n"
     ]
    }
   ],
   "source": [
    "# Limpa 'nome_do_filiado'\n",
    "df_filiados.nome_do_filiado = df_filiados.nome_do_filiado.progress_apply(limpar_texto)"
   ]
  },
  {
   "cell_type": "code",
   "execution_count": 228,
   "id": "d6680f04",
   "metadata": {},
   "outputs": [
    {
     "data": {
      "text/plain": [
       "SP    4558506\n",
       "MG    2600817\n",
       "RS    1978648\n",
       "PR    1544081\n",
       "RJ    1539151\n",
       "BA    1497958\n",
       "SC    1312522\n",
       "GO    1061308\n",
       "MA     888154\n",
       "PA     878338\n",
       "PE     844449\n",
       "CE     794672\n",
       "MT     554737\n",
       "PB     540264\n",
       "ES     494575\n",
       "MS     477162\n",
       "PI     469776\n",
       "RN     411581\n",
       "AM     395197\n",
       "TO     340912\n",
       "AL     291870\n",
       "DF     286957\n",
       "SE     267382\n",
       "RO     250232\n",
       "AP     161085\n",
       "AC     121377\n",
       "RR      93964\n",
       "ZZ      10949\n",
       "Name: uf, dtype: int64"
      ]
     },
     "execution_count": 228,
     "metadata": {},
     "output_type": "execute_result"
    }
   ],
   "source": [
    "# Verificando UF\n",
    "df_filiados.uf.value_counts()"
   ]
  },
  {
   "cell_type": "markdown",
   "id": "7ab25fa3",
   "metadata": {},
   "source": [
    "- Veja que temos (além de 26 estados + DF) um adicional: ZZ"
   ]
  },
  {
   "cell_type": "code",
   "execution_count": null,
   "id": "3d770dbf",
   "metadata": {},
   "outputs": [],
   "source": []
  },
  {
   "cell_type": "markdown",
   "id": "23a523c9",
   "metadata": {},
   "source": [
    "# Obter dados do CEAF"
   ]
  },
  {
   "cell_type": "code",
   "execution_count": 202,
   "id": "717efd20",
   "metadata": {},
   "outputs": [
    {
     "data": {
      "text/plain": [
       "'./20210721_Expulsoes (1).zip'"
      ]
     },
     "execution_count": 202,
     "metadata": {},
     "output_type": "execute_result"
    }
   ],
   "source": [
    "url_base = \"http://transparencia.gov.br/download-de-dados/ceaf/20210721\"\n",
    "diretorio_destino = \".\"\n",
    "\n",
    "# Download do arquivo .zip do CEAF\n",
    "file_name = wget.download(url_base, out=diretorio_destino)\n",
    "file_name"
   ]
  },
  {
   "cell_type": "code",
   "execution_count": 203,
   "id": "f9e14007",
   "metadata": {},
   "outputs": [
    {
     "data": {
      "text/plain": [
       "(5348, 14)"
      ]
     },
     "execution_count": 203,
     "metadata": {},
     "output_type": "execute_result"
    }
   ],
   "source": [
    "# Abrir arquivo .zip\n",
    "archive = zipfile.ZipFile(file_name, 'r')\n",
    "\n",
    "# Abrir .csv dentro do .zip: Criar DataFrame\n",
    "arq_csv = archive.open(archive.namelist()[0])\n",
    "df_ceaf = pd.read_csv(arq_csv, encoding='latin1', sep=\";\", low_memory=False)\n",
    "df_ceaf.shape"
   ]
  },
  {
   "cell_type": "code",
   "execution_count": 204,
   "id": "adfb9dda",
   "metadata": {},
   "outputs": [],
   "source": [
    "# Padronizar colunas: limpar e fazer espacos virarem underscore\n",
    "df_ceaf.columns = [limpar_texto(col).replace(\" \", \"_\") for col in df_ceaf.columns]"
   ]
  },
  {
   "cell_type": "code",
   "execution_count": 205,
   "id": "3ced7d29",
   "metadata": {},
   "outputs": [
    {
     "name": "stdout",
     "output_type": "stream",
     "text": [
      "<class 'pandas.core.frame.DataFrame'>\n",
      "RangeIndex: 5348 entries, 0 to 5347\n",
      "Data columns (total 14 columns):\n",
      " #   Column                                     Non-Null Count  Dtype \n",
      "---  ------                                     --------------  ----- \n",
      " 0   nome                                       5348 non-null   object\n",
      " 1   cpf                                        5346 non-null   object\n",
      " 2   matricula                                  5347 non-null   object\n",
      " 3   orgao_de_lotacao                           5348 non-null   object\n",
      " 4   uf_lotacao                                 5348 non-null   object\n",
      " 5   cargo_efetivo                              4854 non-null   object\n",
      " 6   cargo_ou_funcao_de_confianca               554 non-null    object\n",
      " 7   numero_de_portaria_de_punicao              5337 non-null   object\n",
      " 8   data_de_publicacao_da_portaria_de_punicao  5348 non-null   object\n",
      " 9   pagina                                     5348 non-null   object\n",
      " 10  secao                                      5348 non-null   int64 \n",
      " 11  tipo_de_punicao                            5348 non-null   object\n",
      " 12  numero_do_processo_administrativo          5275 non-null   object\n",
      " 13  fundamento_legal                           5338 non-null   object\n",
      "dtypes: int64(1), object(13)\n",
      "memory usage: 585.1+ KB\n"
     ]
    }
   ],
   "source": [
    "df_ceaf.info()"
   ]
  },
  {
   "cell_type": "code",
   "execution_count": 206,
   "id": "fb47ce92",
   "metadata": {},
   "outputs": [
    {
     "data": {
      "text/html": [
       "<div>\n",
       "<style scoped>\n",
       "    .dataframe tbody tr th:only-of-type {\n",
       "        vertical-align: middle;\n",
       "    }\n",
       "\n",
       "    .dataframe tbody tr th {\n",
       "        vertical-align: top;\n",
       "    }\n",
       "\n",
       "    .dataframe thead th {\n",
       "        text-align: right;\n",
       "    }\n",
       "</style>\n",
       "<table border=\"1\" class=\"dataframe\">\n",
       "  <thead>\n",
       "    <tr style=\"text-align: right;\">\n",
       "      <th></th>\n",
       "      <th>nome</th>\n",
       "      <th>cpf</th>\n",
       "      <th>matricula</th>\n",
       "      <th>orgao_de_lotacao</th>\n",
       "      <th>uf_lotacao</th>\n",
       "      <th>cargo_efetivo</th>\n",
       "      <th>cargo_ou_funcao_de_confianca</th>\n",
       "      <th>numero_de_portaria_de_punicao</th>\n",
       "      <th>data_de_publicacao_da_portaria_de_punicao</th>\n",
       "      <th>pagina</th>\n",
       "      <th>secao</th>\n",
       "      <th>tipo_de_punicao</th>\n",
       "      <th>numero_do_processo_administrativo</th>\n",
       "      <th>fundamento_legal</th>\n",
       "    </tr>\n",
       "  </thead>\n",
       "  <tbody>\n",
       "    <tr>\n",
       "      <th>0</th>\n",
       "      <td>CARLOS EDUARDO VIANNA ALDIGHIERI SOARES</td>\n",
       "      <td>***.012.877-**</td>\n",
       "      <td>135****</td>\n",
       "      <td>UFG</td>\n",
       "      <td>GO</td>\n",
       "      <td>PROFESSOR DO MAGISTERIO SUPERIOR</td>\n",
       "      <td>NaN</td>\n",
       "      <td>822</td>\n",
       "      <td>13/03/2020</td>\n",
       "      <td>37</td>\n",
       "      <td>2</td>\n",
       "      <td>DEMISSÃO</td>\n",
       "      <td>23070.015881/2019-53</td>\n",
       "      <td>8112-139 - Entende-se por inassiduidade habitu...</td>\n",
       "    </tr>\n",
       "    <tr>\n",
       "      <th>1</th>\n",
       "      <td>MAGDA APARECIDA DA R T SILVA</td>\n",
       "      <td>***.494.048-**</td>\n",
       "      <td>093****</td>\n",
       "      <td>INSS</td>\n",
       "      <td>SP</td>\n",
       "      <td>Técnico do Seguro Social</td>\n",
       "      <td>NaN</td>\n",
       "      <td>10</td>\n",
       "      <td>08/01/2014</td>\n",
       "      <td>030</td>\n",
       "      <td>2</td>\n",
       "      <td>CASSAÇÃO DE APOSENTADORIA</td>\n",
       "      <td>35664.000184/2011-40</td>\n",
       "      <td>8112-117-IX - Valer-se do cargo para lograr pr...</td>\n",
       "    </tr>\n",
       "    <tr>\n",
       "      <th>2</th>\n",
       "      <td>JOADIR GONCALVES DA SILVA</td>\n",
       "      <td>***.651.091-**</td>\n",
       "      <td>014****</td>\n",
       "      <td>SRF</td>\n",
       "      <td>MT</td>\n",
       "      <td>TECNICO DA RECEITA FEDERAL</td>\n",
       "      <td>NaN</td>\n",
       "      <td>360</td>\n",
       "      <td>19/10/2005</td>\n",
       "      <td>016</td>\n",
       "      <td>2</td>\n",
       "      <td>DEMISSÃO</td>\n",
       "      <td>10166.011783/2001-15</td>\n",
       "      <td>8112-132-IV - Improbidade administrativa; 8112...</td>\n",
       "    </tr>\n",
       "    <tr>\n",
       "      <th>3</th>\n",
       "      <td>CANDIDO PEREIRA FILHO</td>\n",
       "      <td>***.621.258-**</td>\n",
       "      <td>137****</td>\n",
       "      <td>INSS</td>\n",
       "      <td>SP</td>\n",
       "      <td>TÉCNICO DO SEGURO SOCIAL</td>\n",
       "      <td>NaN</td>\n",
       "      <td>145</td>\n",
       "      <td>26/11/2015</td>\n",
       "      <td>47</td>\n",
       "      <td>2</td>\n",
       "      <td>DEMISSÃO</td>\n",
       "      <td>35664.000197/2011-19</td>\n",
       "      <td>8112-132-XIII - Transgressão dos incisos IX a ...</td>\n",
       "    </tr>\n",
       "    <tr>\n",
       "      <th>4</th>\n",
       "      <td>ANDRE FERNANDEZ</td>\n",
       "      <td>***.537.718-**</td>\n",
       "      <td>220****</td>\n",
       "      <td>SRF</td>\n",
       "      <td>AM</td>\n",
       "      <td>Auditor-Fiscal da Receita Federal do Brasil</td>\n",
       "      <td>NaN</td>\n",
       "      <td>277</td>\n",
       "      <td>09/08/2012</td>\n",
       "      <td>021</td>\n",
       "      <td>2</td>\n",
       "      <td>DEMISSÃO</td>\n",
       "      <td>16307.000013/2008-30</td>\n",
       "      <td>8112-132-XIII - Transgressão dos incisos IX a ...</td>\n",
       "    </tr>\n",
       "  </tbody>\n",
       "</table>\n",
       "</div>"
      ],
      "text/plain": [
       "                                      nome             cpf matricula  \\\n",
       "0  CARLOS EDUARDO VIANNA ALDIGHIERI SOARES  ***.012.877-**   135****   \n",
       "1             MAGDA APARECIDA DA R T SILVA  ***.494.048-**   093****   \n",
       "2                JOADIR GONCALVES DA SILVA  ***.651.091-**   014****   \n",
       "3                    CANDIDO PEREIRA FILHO  ***.621.258-**   137****   \n",
       "4                          ANDRE FERNANDEZ  ***.537.718-**   220****   \n",
       "\n",
       "  orgao_de_lotacao uf_lotacao                                cargo_efetivo  \\\n",
       "0              UFG         GO             PROFESSOR DO MAGISTERIO SUPERIOR   \n",
       "1             INSS         SP                     Técnico do Seguro Social   \n",
       "2              SRF         MT                   TECNICO DA RECEITA FEDERAL   \n",
       "3             INSS         SP                     TÉCNICO DO SEGURO SOCIAL   \n",
       "4              SRF         AM  Auditor-Fiscal da Receita Federal do Brasil   \n",
       "\n",
       "  cargo_ou_funcao_de_confianca numero_de_portaria_de_punicao  \\\n",
       "0                          NaN                           822   \n",
       "1                          NaN                            10   \n",
       "2                          NaN                           360   \n",
       "3                          NaN                           145   \n",
       "4                          NaN                           277   \n",
       "\n",
       "  data_de_publicacao_da_portaria_de_punicao pagina  secao  \\\n",
       "0                                13/03/2020     37      2   \n",
       "1                                08/01/2014    030      2   \n",
       "2                                19/10/2005    016      2   \n",
       "3                                26/11/2015     47      2   \n",
       "4                                09/08/2012    021      2   \n",
       "\n",
       "             tipo_de_punicao numero_do_processo_administrativo  \\\n",
       "0                   DEMISSÃO              23070.015881/2019-53   \n",
       "1  CASSAÇÃO DE APOSENTADORIA              35664.000184/2011-40   \n",
       "2                   DEMISSÃO              10166.011783/2001-15   \n",
       "3                   DEMISSÃO              35664.000197/2011-19   \n",
       "4                   DEMISSÃO              16307.000013/2008-30   \n",
       "\n",
       "                                    fundamento_legal  \n",
       "0  8112-139 - Entende-se por inassiduidade habitu...  \n",
       "1  8112-117-IX - Valer-se do cargo para lograr pr...  \n",
       "2  8112-132-IV - Improbidade administrativa; 8112...  \n",
       "3  8112-132-XIII - Transgressão dos incisos IX a ...  \n",
       "4  8112-132-XIII - Transgressão dos incisos IX a ...  "
      ]
     },
     "execution_count": 206,
     "metadata": {},
     "output_type": "execute_result"
    }
   ],
   "source": [
    "df_ceaf.head()"
   ]
  },
  {
   "cell_type": "code",
   "execution_count": 207,
   "id": "54178ca4",
   "metadata": {},
   "outputs": [],
   "source": [
    "# Leis/Artigos/Incisos RELACIONADOS com práticas de CORRUPÇÃO\n",
    "leis_corrupcao = ['8429', 'CLT-482-a', 'CLT-482-c',\n",
    "                  '8112-132-I','8112-132-IV','8112-132-VIII','8112-132-IX','8112-132-X','8112-132-XI',\n",
    "                  '8112-117-IX','8112-117-XII','8112-117-XI',\n",
    "                  '8112-117-X','8112-117-XVI','8112-117-XIII',\n",
    "                  '4878-43-XIII','4878-43-IX','4878-43-XIV','4878-43-XLVIII','4878-43-LIII','4878-43-LXI']"
   ]
  },
  {
   "cell_type": "code",
   "execution_count": 208,
   "id": "feba8fd3",
   "metadata": {},
   "outputs": [],
   "source": [
    "# Ficaremos apenas com os expulsos por motivos de corrupção\n",
    "\n",
    "def is_corrupcao(fundamento):\n",
    "    for lei in leis_corrupcao:\n",
    "        if str(fundamento).startswith(lei):\n",
    "            return True\n",
    "    return False\n",
    "\n",
    "df_ceaf['corrupcao'] = df_ceaf.fundamento_legal.apply(is_corrupcao)"
   ]
  },
  {
   "cell_type": "code",
   "execution_count": 209,
   "id": "53d9157c",
   "metadata": {},
   "outputs": [
    {
     "data": {
      "text/plain": [
       "True     4190\n",
       "False    1158\n",
       "Name: corrupcao, dtype: int64"
      ]
     },
     "execution_count": 209,
     "metadata": {},
     "output_type": "execute_result"
    }
   ],
   "source": [
    "df_ceaf.corrupcao.value_counts()"
   ]
  },
  {
   "cell_type": "code",
   "execution_count": 210,
   "id": "03304b59",
   "metadata": {},
   "outputs": [
    {
     "data": {
      "text/plain": [
       "(4190, 15)"
      ]
     },
     "execution_count": 210,
     "metadata": {},
     "output_type": "execute_result"
    }
   ],
   "source": [
    "# Filtrar mantendo apenas os expulsos por corrupção\n",
    "df_ceaf = df_ceaf[df_ceaf.corrupcao]\n",
    "df_ceaf.shape"
   ]
  },
  {
   "cell_type": "code",
   "execution_count": 212,
   "id": "90a8b964",
   "metadata": {},
   "outputs": [],
   "source": [
    "# Limpa 'nome'\n",
    "df_ceaf.nome = df_ceaf.nome.apply(limpar_texto)"
   ]
  },
  {
   "cell_type": "code",
   "execution_count": 213,
   "id": "2da5d49f",
   "metadata": {},
   "outputs": [
    {
     "data": {
      "text/plain": [
       "3566"
      ]
     },
     "execution_count": 213,
     "metadata": {},
     "output_type": "execute_result"
    }
   ],
   "source": [
    "df_ceaf.nome.nunique()"
   ]
  },
  {
   "cell_type": "code",
   "execution_count": 214,
   "id": "8ab61c06",
   "metadata": {},
   "outputs": [
    {
     "data": {
      "text/plain": [
       "(443,)"
      ]
     },
     "execution_count": 214,
     "metadata": {},
     "output_type": "execute_result"
    }
   ],
   "source": [
    "# Nomes com mais de um registro no CEAF ?\n",
    "repetidos_pun = df_ceaf.groupby([\"nome\"]).filter(lambda x: len(x['nome']) > 1)['nome'].unique()\n",
    "repetidos_pun.shape"
   ]
  },
  {
   "cell_type": "code",
   "execution_count": 215,
   "id": "3d156a7a",
   "metadata": {},
   "outputs": [
    {
     "data": {
      "text/html": [
       "<div>\n",
       "<style scoped>\n",
       "    .dataframe tbody tr th:only-of-type {\n",
       "        vertical-align: middle;\n",
       "    }\n",
       "\n",
       "    .dataframe tbody tr th {\n",
       "        vertical-align: top;\n",
       "    }\n",
       "\n",
       "    .dataframe thead th {\n",
       "        text-align: right;\n",
       "    }\n",
       "</style>\n",
       "<table border=\"1\" class=\"dataframe\">\n",
       "  <thead>\n",
       "    <tr style=\"text-align: right;\">\n",
       "      <th></th>\n",
       "      <th>nome</th>\n",
       "      <th>cpf</th>\n",
       "    </tr>\n",
       "  </thead>\n",
       "  <tbody>\n",
       "    <tr>\n",
       "      <th>1493</th>\n",
       "      <td>joao batista da silva</td>\n",
       "      <td>***.794.814-**</td>\n",
       "    </tr>\n",
       "    <tr>\n",
       "      <th>2112</th>\n",
       "      <td>marcos antonio de souza</td>\n",
       "      <td>***.054.977-**</td>\n",
       "    </tr>\n",
       "    <tr>\n",
       "      <th>2767</th>\n",
       "      <td>roberto goncalves</td>\n",
       "      <td>***.159.257-**</td>\n",
       "    </tr>\n",
       "    <tr>\n",
       "      <th>3855</th>\n",
       "      <td>marcos antonio de souza</td>\n",
       "      <td>***.111.341-**</td>\n",
       "    </tr>\n",
       "    <tr>\n",
       "      <th>4341</th>\n",
       "      <td>joao batista da silva</td>\n",
       "      <td>***.430.072-**</td>\n",
       "    </tr>\n",
       "    <tr>\n",
       "      <th>4356</th>\n",
       "      <td>roberto goncalves</td>\n",
       "      <td>***.706.108-**</td>\n",
       "    </tr>\n",
       "  </tbody>\n",
       "</table>\n",
       "</div>"
      ],
      "text/plain": [
       "                         nome             cpf\n",
       "1493    joao batista da silva  ***.794.814-**\n",
       "2112  marcos antonio de souza  ***.054.977-**\n",
       "2767        roberto goncalves  ***.159.257-**\n",
       "3855  marcos antonio de souza  ***.111.341-**\n",
       "4341    joao batista da silva  ***.430.072-**\n",
       "4356        roberto goncalves  ***.706.108-**"
      ]
     },
     "execution_count": 215,
     "metadata": {},
     "output_type": "execute_result"
    }
   ],
   "source": [
    "# Nomes com mais de um CPF no CEAF ? Ambiguidade de CPF!\n",
    "repetidos = df_ceaf.groupby([\"nome\"]).filter(lambda x: len(set(x['cpf'])) > 1)[['nome','cpf']].drop_duplicates()\n",
    "repetidos"
   ]
  },
  {
   "cell_type": "code",
   "execution_count": 216,
   "id": "b19d1e9b",
   "metadata": {},
   "outputs": [
    {
     "data": {
      "text/plain": [
       "array(['joao batista da silva', 'marcos antonio de souza',\n",
       "       'roberto goncalves'], dtype=object)"
      ]
     },
     "execution_count": 216,
     "metadata": {},
     "output_type": "execute_result"
    }
   ],
   "source": [
    "# Listar nomes com problema de ambiguidade de CPF\n",
    "nomes_repetidos = np.unique(repetidos['nome'].values)\n",
    "nomes_repetidos"
   ]
  },
  {
   "cell_type": "code",
   "execution_count": 217,
   "id": "d3c17a71",
   "metadata": {},
   "outputs": [
    {
     "data": {
      "text/plain": [
       "(4183, 15)"
      ]
     },
     "execution_count": 217,
     "metadata": {},
     "output_type": "execute_result"
    }
   ],
   "source": [
    "# ELIMINAR nomes com problema de ambiguidade de CPF\n",
    "df_ceaf = df_ceaf[~(df_ceaf.nome.isin(nomes_repetidos))]\n",
    "df_ceaf.shape"
   ]
  },
  {
   "cell_type": "code",
   "execution_count": 230,
   "id": "7fcec808",
   "metadata": {},
   "outputs": [
    {
     "data": {
      "text/plain": [
       "RJ    764\n",
       "SP    517\n",
       "DF    465\n",
       "MG    205\n",
       "PR    197\n",
       "PA    193\n",
       "PE    165\n",
       "MT    160\n",
       "AM    151\n",
       "BA    143\n",
       "SC    131\n",
       "RS    129\n",
       "MA    117\n",
       "MS    110\n",
       "CE    101\n",
       "RO     86\n",
       "GO     77\n",
       "AP     72\n",
       "ES     60\n",
       "RR     59\n",
       "PB     58\n",
       "AL     58\n",
       "TO     46\n",
       "RN     41\n",
       "PI     33\n",
       "SE     24\n",
       "AC     21\n",
       "Name: uf_lotacao, dtype: int64"
      ]
     },
     "execution_count": 230,
     "metadata": {},
     "output_type": "execute_result"
    }
   ],
   "source": [
    "df_ceaf.uf_lotacao.value_counts()"
   ]
  },
  {
   "cell_type": "code",
   "execution_count": null,
   "id": "7d06bd8d",
   "metadata": {},
   "outputs": [],
   "source": []
  },
  {
   "cell_type": "markdown",
   "id": "ffeab38e",
   "metadata": {},
   "source": [
    "# Juntar CEAF com Filiados\n",
    "\n",
    "Limitação:\n",
    "- Não temos identificador único comum nas bases\n",
    "- Usamos outros campos para tentar minimizar chances de erro\n",
    "    - Nome (CEAF) = Nome_do_Filiado (TSE)\n",
    "    - UF_Lotação (CEAF) = UF (TSE)"
   ]
  },
  {
   "cell_type": "code",
   "execution_count": 218,
   "id": "2611876d",
   "metadata": {},
   "outputs": [],
   "source": [
    "# Merge por NOME e UF\n",
    "# PODE DEMORAR UM POUCO PARA EXECUTAR\n",
    "df_main = pd.merge(df_ceaf, df_filiados, left_on=[\"nome\",\"uf_lotacao\"], right_on=[\"nome_do_filiado\",\"uf\"], how=\"inner\", sort=False)"
   ]
  },
  {
   "cell_type": "code",
   "execution_count": 219,
   "id": "fcf3091d",
   "metadata": {},
   "outputs": [
    {
     "data": {
      "text/plain": [
       "(5962, 27)"
      ]
     },
     "execution_count": 219,
     "metadata": {},
     "output_type": "execute_result"
    }
   ],
   "source": [
    "df_main.shape"
   ]
  },
  {
   "cell_type": "code",
   "execution_count": 231,
   "id": "5c3df77d",
   "metadata": {},
   "outputs": [
    {
     "data": {
      "text/html": [
       "<div>\n",
       "<style scoped>\n",
       "    .dataframe tbody tr th:only-of-type {\n",
       "        vertical-align: middle;\n",
       "    }\n",
       "\n",
       "    .dataframe tbody tr th {\n",
       "        vertical-align: top;\n",
       "    }\n",
       "\n",
       "    .dataframe thead th {\n",
       "        text-align: right;\n",
       "    }\n",
       "</style>\n",
       "<table border=\"1\" class=\"dataframe\">\n",
       "  <thead>\n",
       "    <tr style=\"text-align: right;\">\n",
       "      <th></th>\n",
       "      <th>nome</th>\n",
       "      <th>cpf</th>\n",
       "      <th>uf</th>\n",
       "      <th>numero_da_inscricao</th>\n",
       "      <th>sigla_do_partido</th>\n",
       "    </tr>\n",
       "  </thead>\n",
       "  <tbody>\n",
       "    <tr>\n",
       "      <th>0</th>\n",
       "      <td>eudes andre da silva</td>\n",
       "      <td>***.143.754-**</td>\n",
       "      <td>PE</td>\n",
       "      <td>4.236364e+10</td>\n",
       "      <td>PODE</td>\n",
       "    </tr>\n",
       "    <tr>\n",
       "      <th>1</th>\n",
       "      <td>eudes andre da silva</td>\n",
       "      <td>***.143.754-**</td>\n",
       "      <td>PE</td>\n",
       "      <td>4.236364e+10</td>\n",
       "      <td>PCDOB</td>\n",
       "    </tr>\n",
       "    <tr>\n",
       "      <th>2</th>\n",
       "      <td>flares de souza</td>\n",
       "      <td>***.992.849-**</td>\n",
       "      <td>SC</td>\n",
       "      <td>9.169501e+09</td>\n",
       "      <td>MDB</td>\n",
       "    </tr>\n",
       "    <tr>\n",
       "      <th>3</th>\n",
       "      <td>flares de souza</td>\n",
       "      <td>***.992.849-**</td>\n",
       "      <td>SC</td>\n",
       "      <td>9.169501e+09</td>\n",
       "      <td>CIDADANIA</td>\n",
       "    </tr>\n",
       "    <tr>\n",
       "      <th>4</th>\n",
       "      <td>osvaldo ferreira da silva</td>\n",
       "      <td>***.531.231-**</td>\n",
       "      <td>GO</td>\n",
       "      <td>1.239720e+10</td>\n",
       "      <td>REPUBLICANOS</td>\n",
       "    </tr>\n",
       "  </tbody>\n",
       "</table>\n",
       "</div>"
      ],
      "text/plain": [
       "                        nome             cpf  uf  numero_da_inscricao  \\\n",
       "0       eudes andre da silva  ***.143.754-**  PE         4.236364e+10   \n",
       "1       eudes andre da silva  ***.143.754-**  PE         4.236364e+10   \n",
       "2            flares de souza  ***.992.849-**  SC         9.169501e+09   \n",
       "3            flares de souza  ***.992.849-**  SC         9.169501e+09   \n",
       "4  osvaldo ferreira da silva  ***.531.231-**  GO         1.239720e+10   \n",
       "\n",
       "  sigla_do_partido  \n",
       "0             PODE  \n",
       "1            PCDOB  \n",
       "2              MDB  \n",
       "3        CIDADANIA  \n",
       "4     REPUBLICANOS  "
      ]
     },
     "execution_count": 231,
     "metadata": {},
     "output_type": "execute_result"
    }
   ],
   "source": [
    "df_main[['nome','cpf','uf','numero_da_inscricao','sigla_do_partido']].head()"
   ]
  },
  {
   "cell_type": "code",
   "execution_count": 220,
   "id": "09873f88",
   "metadata": {},
   "outputs": [
    {
     "data": {
      "text/plain": [
       "(1054, 1053, 4219)"
      ]
     },
     "execution_count": 220,
     "metadata": {},
     "output_type": "execute_result"
    }
   ],
   "source": [
    "# Quantidades unicas individualmente: Nome, CPF e Numero_da_Inscricao\n",
    "df_main.nome.nunique(), df_main.cpf.nunique(), df_main.numero_da_inscricao.nunique()"
   ]
  },
  {
   "cell_type": "code",
   "execution_count": 232,
   "id": "5816b6db",
   "metadata": {},
   "outputs": [
    {
     "data": {
      "text/html": [
       "<div>\n",
       "<style scoped>\n",
       "    .dataframe tbody tr th:only-of-type {\n",
       "        vertical-align: middle;\n",
       "    }\n",
       "\n",
       "    .dataframe tbody tr th {\n",
       "        vertical-align: top;\n",
       "    }\n",
       "\n",
       "    .dataframe thead th {\n",
       "        text-align: right;\n",
       "    }\n",
       "</style>\n",
       "<table border=\"1\" class=\"dataframe\">\n",
       "  <thead>\n",
       "    <tr style=\"text-align: right;\">\n",
       "      <th></th>\n",
       "      <th>nome</th>\n",
       "      <th>cpf</th>\n",
       "      <th>uf</th>\n",
       "      <th>numero_da_inscricao</th>\n",
       "      <th>sigla_do_partido</th>\n",
       "    </tr>\n",
       "  </thead>\n",
       "  <tbody>\n",
       "    <tr>\n",
       "      <th>7</th>\n",
       "      <td>osvaldo ferreira da silva</td>\n",
       "      <td>***.531.231-**</td>\n",
       "      <td>GO</td>\n",
       "      <td>3.933691e+09</td>\n",
       "      <td>MDB</td>\n",
       "    </tr>\n",
       "    <tr>\n",
       "      <th>11</th>\n",
       "      <td>osvaldo ferreira da silva</td>\n",
       "      <td>***.531.231-**</td>\n",
       "      <td>GO</td>\n",
       "      <td>1.139861e+10</td>\n",
       "      <td>PDT</td>\n",
       "    </tr>\n",
       "    <tr>\n",
       "      <th>5</th>\n",
       "      <td>osvaldo ferreira da silva</td>\n",
       "      <td>***.531.231-**</td>\n",
       "      <td>GO</td>\n",
       "      <td>1.150878e+10</td>\n",
       "      <td>MDB</td>\n",
       "    </tr>\n",
       "    <tr>\n",
       "      <th>10</th>\n",
       "      <td>osvaldo ferreira da silva</td>\n",
       "      <td>***.531.231-**</td>\n",
       "      <td>GO</td>\n",
       "      <td>1.150878e+10</td>\n",
       "      <td>PT</td>\n",
       "    </tr>\n",
       "    <tr>\n",
       "      <th>4</th>\n",
       "      <td>osvaldo ferreira da silva</td>\n",
       "      <td>***.531.231-**</td>\n",
       "      <td>GO</td>\n",
       "      <td>1.239720e+10</td>\n",
       "      <td>REPUBLICANOS</td>\n",
       "    </tr>\n",
       "    <tr>\n",
       "      <th>8</th>\n",
       "      <td>osvaldo ferreira da silva</td>\n",
       "      <td>***.531.231-**</td>\n",
       "      <td>GO</td>\n",
       "      <td>1.325695e+10</td>\n",
       "      <td>PP</td>\n",
       "    </tr>\n",
       "    <tr>\n",
       "      <th>6</th>\n",
       "      <td>osvaldo ferreira da silva</td>\n",
       "      <td>***.531.231-**</td>\n",
       "      <td>GO</td>\n",
       "      <td>1.855696e+10</td>\n",
       "      <td>MDB</td>\n",
       "    </tr>\n",
       "    <tr>\n",
       "      <th>12</th>\n",
       "      <td>osvaldo ferreira da silva</td>\n",
       "      <td>***.531.231-**</td>\n",
       "      <td>GO</td>\n",
       "      <td>2.512797e+10</td>\n",
       "      <td>PSDB</td>\n",
       "    </tr>\n",
       "    <tr>\n",
       "      <th>9</th>\n",
       "      <td>osvaldo ferreira da silva</td>\n",
       "      <td>***.531.231-**</td>\n",
       "      <td>GO</td>\n",
       "      <td>3.317389e+10</td>\n",
       "      <td>PP</td>\n",
       "    </tr>\n",
       "  </tbody>\n",
       "</table>\n",
       "</div>"
      ],
      "text/plain": [
       "                         nome             cpf  uf  numero_da_inscricao  \\\n",
       "7   osvaldo ferreira da silva  ***.531.231-**  GO         3.933691e+09   \n",
       "11  osvaldo ferreira da silva  ***.531.231-**  GO         1.139861e+10   \n",
       "5   osvaldo ferreira da silva  ***.531.231-**  GO         1.150878e+10   \n",
       "10  osvaldo ferreira da silva  ***.531.231-**  GO         1.150878e+10   \n",
       "4   osvaldo ferreira da silva  ***.531.231-**  GO         1.239720e+10   \n",
       "8   osvaldo ferreira da silva  ***.531.231-**  GO         1.325695e+10   \n",
       "6   osvaldo ferreira da silva  ***.531.231-**  GO         1.855696e+10   \n",
       "12  osvaldo ferreira da silva  ***.531.231-**  GO         2.512797e+10   \n",
       "9   osvaldo ferreira da silva  ***.531.231-**  GO         3.317389e+10   \n",
       "\n",
       "   sigla_do_partido  \n",
       "7               MDB  \n",
       "11              PDT  \n",
       "5               MDB  \n",
       "10               PT  \n",
       "4      REPUBLICANOS  \n",
       "8                PP  \n",
       "6               MDB  \n",
       "12             PSDB  \n",
       "9                PP  "
      ]
     },
     "execution_count": 232,
     "metadata": {},
     "output_type": "execute_result"
    }
   ],
   "source": [
    "# EXEMPLO de repeticao\n",
    "df_main[df_main.nome=='osvaldo ferreira da silva'].sort_values(\"numero_da_inscricao\")[['nome','cpf','uf','numero_da_inscricao','sigla_do_partido']]"
   ]
  },
  {
   "attachments": {
    "image.png": {
     "image/png": "[encoded data removed]"
    }
   },
   "cell_type": "markdown",
   "id": "4339f7ca",
   "metadata": {},
   "source": [
    "**Fonte**: https://www.tre-rs.jus.br/eleitor/duvidas-frequentes/filiacao-partidaria\n",
    "\n",
    "\n",
    "![image.png](attachment:image.png)"
   ]
  },
  {
   "cell_type": "code",
   "execution_count": null,
   "id": "660b8eec",
   "metadata": {},
   "outputs": [],
   "source": []
  },
  {
   "cell_type": "code",
   "execution_count": 233,
   "id": "f06841d7",
   "metadata": {},
   "outputs": [
    {
     "data": {
      "text/html": [
       "<div>\n",
       "<style scoped>\n",
       "    .dataframe tbody tr th:only-of-type {\n",
       "        vertical-align: middle;\n",
       "    }\n",
       "\n",
       "    .dataframe tbody tr th {\n",
       "        vertical-align: top;\n",
       "    }\n",
       "\n",
       "    .dataframe thead th {\n",
       "        text-align: right;\n",
       "    }\n",
       "</style>\n",
       "<table border=\"1\" class=\"dataframe\">\n",
       "  <thead>\n",
       "    <tr style=\"text-align: right;\">\n",
       "      <th></th>\n",
       "      <th>nome</th>\n",
       "      <th>cpf</th>\n",
       "      <th>matricula</th>\n",
       "      <th>orgao_de_lotacao</th>\n",
       "      <th>uf_lotacao</th>\n",
       "      <th>cargo_efetivo</th>\n",
       "      <th>cargo_ou_funcao_de_confianca</th>\n",
       "      <th>numero_de_portaria_de_punicao</th>\n",
       "      <th>data_de_publicacao_da_portaria_de_punicao</th>\n",
       "      <th>pagina</th>\n",
       "      <th>...</th>\n",
       "      <th>sigla_do_partido</th>\n",
       "      <th>uf</th>\n",
       "      <th>data_da_filiacao</th>\n",
       "      <th>situacao_do_registro</th>\n",
       "      <th>tipo_do_registro</th>\n",
       "      <th>data_do_processamento</th>\n",
       "      <th>data_da_desfiliacao</th>\n",
       "      <th>data_do_cancelamento</th>\n",
       "      <th>data_da_regularizacao</th>\n",
       "      <th>motivo_do_cancelamento</th>\n",
       "    </tr>\n",
       "  </thead>\n",
       "  <tbody>\n",
       "    <tr>\n",
       "      <th>4</th>\n",
       "      <td>osvaldo ferreira da silva</td>\n",
       "      <td>***.531.231-**</td>\n",
       "      <td>054****</td>\n",
       "      <td>MS</td>\n",
       "      <td>GO</td>\n",
       "      <td>Auxiliar Operacional de Serviços Diversos</td>\n",
       "      <td>NaN</td>\n",
       "      <td>3.175</td>\n",
       "      <td>30/11/2017</td>\n",
       "      <td>53</td>\n",
       "      <td>...</td>\n",
       "      <td>REPUBLICANOS</td>\n",
       "      <td>GO</td>\n",
       "      <td>2012-04-16</td>\n",
       "      <td>REGULAR</td>\n",
       "      <td>OFICIAL</td>\n",
       "      <td>NaT</td>\n",
       "      <td>NaT</td>\n",
       "      <td>NaT</td>\n",
       "      <td>NaT</td>\n",
       "      <td>NaN</td>\n",
       "    </tr>\n",
       "    <tr>\n",
       "      <th>5</th>\n",
       "      <td>osvaldo ferreira da silva</td>\n",
       "      <td>***.531.231-**</td>\n",
       "      <td>054****</td>\n",
       "      <td>MS</td>\n",
       "      <td>GO</td>\n",
       "      <td>Auxiliar Operacional de Serviços Diversos</td>\n",
       "      <td>NaN</td>\n",
       "      <td>3.175</td>\n",
       "      <td>30/11/2017</td>\n",
       "      <td>53</td>\n",
       "      <td>...</td>\n",
       "      <td>MDB</td>\n",
       "      <td>GO</td>\n",
       "      <td>1988-04-05</td>\n",
       "      <td>CANCELADO</td>\n",
       "      <td>OFICIAL</td>\n",
       "      <td>NaT</td>\n",
       "      <td>2006-12-15</td>\n",
       "      <td>2006-12-15</td>\n",
       "      <td>NaT</td>\n",
       "      <td>JUDICIAL</td>\n",
       "    </tr>\n",
       "    <tr>\n",
       "      <th>6</th>\n",
       "      <td>osvaldo ferreira da silva</td>\n",
       "      <td>***.531.231-**</td>\n",
       "      <td>054****</td>\n",
       "      <td>MS</td>\n",
       "      <td>GO</td>\n",
       "      <td>Auxiliar Operacional de Serviços Diversos</td>\n",
       "      <td>NaN</td>\n",
       "      <td>3.175</td>\n",
       "      <td>30/11/2017</td>\n",
       "      <td>53</td>\n",
       "      <td>...</td>\n",
       "      <td>MDB</td>\n",
       "      <td>GO</td>\n",
       "      <td>2000-04-14</td>\n",
       "      <td>REGULAR</td>\n",
       "      <td>OFICIAL</td>\n",
       "      <td>NaT</td>\n",
       "      <td>NaT</td>\n",
       "      <td>NaT</td>\n",
       "      <td>NaT</td>\n",
       "      <td>NaN</td>\n",
       "    </tr>\n",
       "    <tr>\n",
       "      <th>7</th>\n",
       "      <td>osvaldo ferreira da silva</td>\n",
       "      <td>***.531.231-**</td>\n",
       "      <td>054****</td>\n",
       "      <td>MS</td>\n",
       "      <td>GO</td>\n",
       "      <td>Auxiliar Operacional de Serviços Diversos</td>\n",
       "      <td>NaN</td>\n",
       "      <td>3.175</td>\n",
       "      <td>30/11/2017</td>\n",
       "      <td>53</td>\n",
       "      <td>...</td>\n",
       "      <td>MDB</td>\n",
       "      <td>GO</td>\n",
       "      <td>1991-12-03</td>\n",
       "      <td>REGULAR</td>\n",
       "      <td>OFICIAL</td>\n",
       "      <td>NaT</td>\n",
       "      <td>NaT</td>\n",
       "      <td>NaT</td>\n",
       "      <td>NaT</td>\n",
       "      <td>NaN</td>\n",
       "    </tr>\n",
       "    <tr>\n",
       "      <th>8</th>\n",
       "      <td>osvaldo ferreira da silva</td>\n",
       "      <td>***.531.231-**</td>\n",
       "      <td>054****</td>\n",
       "      <td>MS</td>\n",
       "      <td>GO</td>\n",
       "      <td>Auxiliar Operacional de Serviços Diversos</td>\n",
       "      <td>NaN</td>\n",
       "      <td>3.175</td>\n",
       "      <td>30/11/2017</td>\n",
       "      <td>53</td>\n",
       "      <td>...</td>\n",
       "      <td>PP</td>\n",
       "      <td>GO</td>\n",
       "      <td>2003-09-29</td>\n",
       "      <td>REGULAR</td>\n",
       "      <td>OFICIAL</td>\n",
       "      <td>NaT</td>\n",
       "      <td>NaT</td>\n",
       "      <td>NaT</td>\n",
       "      <td>NaT</td>\n",
       "      <td>NaN</td>\n",
       "    </tr>\n",
       "    <tr>\n",
       "      <th>...</th>\n",
       "      <td>...</td>\n",
       "      <td>...</td>\n",
       "      <td>...</td>\n",
       "      <td>...</td>\n",
       "      <td>...</td>\n",
       "      <td>...</td>\n",
       "      <td>...</td>\n",
       "      <td>...</td>\n",
       "      <td>...</td>\n",
       "      <td>...</td>\n",
       "      <td>...</td>\n",
       "      <td>...</td>\n",
       "      <td>...</td>\n",
       "      <td>...</td>\n",
       "      <td>...</td>\n",
       "      <td>...</td>\n",
       "      <td>...</td>\n",
       "      <td>...</td>\n",
       "      <td>...</td>\n",
       "      <td>...</td>\n",
       "      <td>...</td>\n",
       "    </tr>\n",
       "    <tr>\n",
       "      <th>5917</th>\n",
       "      <td>vanderlei jose de oliveira</td>\n",
       "      <td>***.246.251-**</td>\n",
       "      <td>088****</td>\n",
       "      <td>ME</td>\n",
       "      <td>GO</td>\n",
       "      <td>AGENTE DE SERVICOS DIVERSOS</td>\n",
       "      <td>NaN</td>\n",
       "      <td>231</td>\n",
       "      <td>03/06/2020</td>\n",
       "      <td>8</td>\n",
       "      <td>...</td>\n",
       "      <td>CIDADANIA</td>\n",
       "      <td>GO</td>\n",
       "      <td>2003-10-02</td>\n",
       "      <td>CANCELADO</td>\n",
       "      <td>OFICIAL</td>\n",
       "      <td>NaT</td>\n",
       "      <td>NaT</td>\n",
       "      <td>2016-04-15</td>\n",
       "      <td>NaT</td>\n",
       "      <td>CANCELAMENTO AUTOMÁTICO</td>\n",
       "    </tr>\n",
       "    <tr>\n",
       "      <th>5918</th>\n",
       "      <td>vanderlei jose de oliveira</td>\n",
       "      <td>***.246.251-**</td>\n",
       "      <td>088****</td>\n",
       "      <td>ME</td>\n",
       "      <td>GO</td>\n",
       "      <td>AGENTE DE SERVICOS DIVERSOS</td>\n",
       "      <td>NaN</td>\n",
       "      <td>231</td>\n",
       "      <td>03/06/2020</td>\n",
       "      <td>8</td>\n",
       "      <td>...</td>\n",
       "      <td>PTB</td>\n",
       "      <td>GO</td>\n",
       "      <td>2011-09-29</td>\n",
       "      <td>CANCELADO</td>\n",
       "      <td>OFICIAL</td>\n",
       "      <td>NaT</td>\n",
       "      <td>2011-11-07</td>\n",
       "      <td>2019-10-15</td>\n",
       "      <td>NaT</td>\n",
       "      <td>CANCELAMENTO AUTOMÁTICO</td>\n",
       "    </tr>\n",
       "    <tr>\n",
       "      <th>5919</th>\n",
       "      <td>vanderlei jose de oliveira</td>\n",
       "      <td>***.246.251-**</td>\n",
       "      <td>088****</td>\n",
       "      <td>ME</td>\n",
       "      <td>GO</td>\n",
       "      <td>AGENTE DE SERVICOS DIVERSOS</td>\n",
       "      <td>NaN</td>\n",
       "      <td>231</td>\n",
       "      <td>03/06/2020</td>\n",
       "      <td>8</td>\n",
       "      <td>...</td>\n",
       "      <td>PSDB</td>\n",
       "      <td>GO</td>\n",
       "      <td>2016-03-09</td>\n",
       "      <td>CANCELADO</td>\n",
       "      <td>OFICIAL</td>\n",
       "      <td>2020-04-16</td>\n",
       "      <td>NaT</td>\n",
       "      <td>2020-04-16</td>\n",
       "      <td>NaT</td>\n",
       "      <td>CANCELAMENTO AUTOMÁTICO</td>\n",
       "    </tr>\n",
       "    <tr>\n",
       "      <th>5920</th>\n",
       "      <td>vanderlei jose de oliveira</td>\n",
       "      <td>***.246.251-**</td>\n",
       "      <td>088****</td>\n",
       "      <td>ME</td>\n",
       "      <td>GO</td>\n",
       "      <td>AGENTE DE SERVICOS DIVERSOS</td>\n",
       "      <td>NaN</td>\n",
       "      <td>231</td>\n",
       "      <td>03/06/2020</td>\n",
       "      <td>8</td>\n",
       "      <td>...</td>\n",
       "      <td>PSDB</td>\n",
       "      <td>GO</td>\n",
       "      <td>2003-09-30</td>\n",
       "      <td>REGULAR</td>\n",
       "      <td>OFICIAL</td>\n",
       "      <td>NaT</td>\n",
       "      <td>NaT</td>\n",
       "      <td>NaT</td>\n",
       "      <td>NaT</td>\n",
       "      <td>NaN</td>\n",
       "    </tr>\n",
       "    <tr>\n",
       "      <th>5921</th>\n",
       "      <td>vanderlei jose de oliveira</td>\n",
       "      <td>***.246.251-**</td>\n",
       "      <td>088****</td>\n",
       "      <td>ME</td>\n",
       "      <td>GO</td>\n",
       "      <td>AGENTE DE SERVICOS DIVERSOS</td>\n",
       "      <td>NaN</td>\n",
       "      <td>231</td>\n",
       "      <td>03/06/2020</td>\n",
       "      <td>8</td>\n",
       "      <td>...</td>\n",
       "      <td>PSDB</td>\n",
       "      <td>GO</td>\n",
       "      <td>2015-10-01</td>\n",
       "      <td>CANCELADO</td>\n",
       "      <td>OFICIAL</td>\n",
       "      <td>NaT</td>\n",
       "      <td>NaT</td>\n",
       "      <td>2019-10-15</td>\n",
       "      <td>NaT</td>\n",
       "      <td>CANCELAMENTO AUTOMÁTICO</td>\n",
       "    </tr>\n",
       "  </tbody>\n",
       "</table>\n",
       "<p>4564 rows × 27 columns</p>\n",
       "</div>"
      ],
      "text/plain": [
       "                            nome             cpf matricula orgao_de_lotacao  \\\n",
       "4      osvaldo ferreira da silva  ***.531.231-**   054****               MS   \n",
       "5      osvaldo ferreira da silva  ***.531.231-**   054****               MS   \n",
       "6      osvaldo ferreira da silva  ***.531.231-**   054****               MS   \n",
       "7      osvaldo ferreira da silva  ***.531.231-**   054****               MS   \n",
       "8      osvaldo ferreira da silva  ***.531.231-**   054****               MS   \n",
       "...                          ...             ...       ...              ...   \n",
       "5917  vanderlei jose de oliveira  ***.246.251-**   088****               ME   \n",
       "5918  vanderlei jose de oliveira  ***.246.251-**   088****               ME   \n",
       "5919  vanderlei jose de oliveira  ***.246.251-**   088****               ME   \n",
       "5920  vanderlei jose de oliveira  ***.246.251-**   088****               ME   \n",
       "5921  vanderlei jose de oliveira  ***.246.251-**   088****               ME   \n",
       "\n",
       "     uf_lotacao                              cargo_efetivo  \\\n",
       "4            GO  Auxiliar Operacional de Serviços Diversos   \n",
       "5            GO  Auxiliar Operacional de Serviços Diversos   \n",
       "6            GO  Auxiliar Operacional de Serviços Diversos   \n",
       "7            GO  Auxiliar Operacional de Serviços Diversos   \n",
       "8            GO  Auxiliar Operacional de Serviços Diversos   \n",
       "...         ...                                        ...   \n",
       "5917         GO                AGENTE DE SERVICOS DIVERSOS   \n",
       "5918         GO                AGENTE DE SERVICOS DIVERSOS   \n",
       "5919         GO                AGENTE DE SERVICOS DIVERSOS   \n",
       "5920         GO                AGENTE DE SERVICOS DIVERSOS   \n",
       "5921         GO                AGENTE DE SERVICOS DIVERSOS   \n",
       "\n",
       "     cargo_ou_funcao_de_confianca numero_de_portaria_de_punicao  \\\n",
       "4                             NaN                         3.175   \n",
       "5                             NaN                         3.175   \n",
       "6                             NaN                         3.175   \n",
       "7                             NaN                         3.175   \n",
       "8                             NaN                         3.175   \n",
       "...                           ...                           ...   \n",
       "5917                          NaN                           231   \n",
       "5918                          NaN                           231   \n",
       "5919                          NaN                           231   \n",
       "5920                          NaN                           231   \n",
       "5921                          NaN                           231   \n",
       "\n",
       "     data_de_publicacao_da_portaria_de_punicao pagina  ...  sigla_do_partido  \\\n",
       "4                                   30/11/2017     53  ...      REPUBLICANOS   \n",
       "5                                   30/11/2017     53  ...               MDB   \n",
       "6                                   30/11/2017     53  ...               MDB   \n",
       "7                                   30/11/2017     53  ...               MDB   \n",
       "8                                   30/11/2017     53  ...                PP   \n",
       "...                                        ...    ...  ...               ...   \n",
       "5917                                03/06/2020      8  ...         CIDADANIA   \n",
       "5918                                03/06/2020      8  ...               PTB   \n",
       "5919                                03/06/2020      8  ...              PSDB   \n",
       "5920                                03/06/2020      8  ...              PSDB   \n",
       "5921                                03/06/2020      8  ...              PSDB   \n",
       "\n",
       "      uf data_da_filiacao situacao_do_registro  tipo_do_registro  \\\n",
       "4     GO       2012-04-16              REGULAR           OFICIAL   \n",
       "5     GO       1988-04-05            CANCELADO           OFICIAL   \n",
       "6     GO       2000-04-14              REGULAR           OFICIAL   \n",
       "7     GO       1991-12-03              REGULAR           OFICIAL   \n",
       "8     GO       2003-09-29              REGULAR           OFICIAL   \n",
       "...   ..              ...                  ...               ...   \n",
       "5917  GO       2003-10-02            CANCELADO           OFICIAL   \n",
       "5918  GO       2011-09-29            CANCELADO           OFICIAL   \n",
       "5919  GO       2016-03-09            CANCELADO           OFICIAL   \n",
       "5920  GO       2003-09-30              REGULAR           OFICIAL   \n",
       "5921  GO       2015-10-01            CANCELADO           OFICIAL   \n",
       "\n",
       "      data_do_processamento data_da_desfiliacao data_do_cancelamento  \\\n",
       "4                       NaT                 NaT                  NaT   \n",
       "5                       NaT          2006-12-15           2006-12-15   \n",
       "6                       NaT                 NaT                  NaT   \n",
       "7                       NaT                 NaT                  NaT   \n",
       "8                       NaT                 NaT                  NaT   \n",
       "...                     ...                 ...                  ...   \n",
       "5917                    NaT                 NaT           2016-04-15   \n",
       "5918                    NaT          2011-11-07           2019-10-15   \n",
       "5919             2020-04-16                 NaT           2020-04-16   \n",
       "5920                    NaT                 NaT                  NaT   \n",
       "5921                    NaT                 NaT           2019-10-15   \n",
       "\n",
       "     data_da_regularizacao   motivo_do_cancelamento  \n",
       "4                      NaT                      NaN  \n",
       "5                      NaT                 JUDICIAL  \n",
       "6                      NaT                      NaN  \n",
       "7                      NaT                      NaN  \n",
       "8                      NaT                      NaN  \n",
       "...                    ...                      ...  \n",
       "5917                   NaT  CANCELAMENTO AUTOMÁTICO  \n",
       "5918                   NaT  CANCELAMENTO AUTOMÁTICO  \n",
       "5919                   NaT  CANCELAMENTO AUTOMÁTICO  \n",
       "5920                   NaT                      NaN  \n",
       "5921                   NaT  CANCELAMENTO AUTOMÁTICO  \n",
       "\n",
       "[4564 rows x 27 columns]"
      ]
     },
     "execution_count": 233,
     "metadata": {},
     "output_type": "execute_result"
    }
   ],
   "source": [
    "# Verificar MULTIPLAS inscricoes\n",
    "mult_inscricoes = df_main.groupby(['nome','cpf','uf']).filter(lambda x: len(set(x['numero_da_inscricao'])) > 1 )\n",
    "mult_inscricoes"
   ]
  },
  {
   "cell_type": "code",
   "execution_count": 234,
   "id": "a3f40806",
   "metadata": {},
   "outputs": [
    {
     "data": {
      "text/plain": [
       "array([   4,    5,    6, ..., 5919, 5920, 5921])"
      ]
     },
     "execution_count": 234,
     "metadata": {},
     "output_type": "execute_result"
    }
   ],
   "source": [
    "# Isolar indices dos registros com MULTIPLAS inscricoes\n",
    "indices_duplicados = mult_inscricoes.index.values\n",
    "indices_duplicados"
   ]
  },
  {
   "cell_type": "code",
   "execution_count": 235,
   "id": "d9dd16e3",
   "metadata": {},
   "outputs": [],
   "source": [
    "# DELETAR registros com MULTIPLAS inscricoes\n",
    "df_main.drop(indices_duplicados, axis=0, inplace=True)"
   ]
  },
  {
   "cell_type": "code",
   "execution_count": 238,
   "id": "cfb5285b",
   "metadata": {},
   "outputs": [
    {
     "data": {
      "text/plain": [
       "(1398, 27)"
      ]
     },
     "execution_count": 238,
     "metadata": {},
     "output_type": "execute_result"
    }
   ],
   "source": [
    "df_main.shape"
   ]
  },
  {
   "cell_type": "code",
   "execution_count": 239,
   "id": "3eca3e7e",
   "metadata": {},
   "outputs": [
    {
     "data": {
      "text/plain": [
       "(846, 846, 846)"
      ]
     },
     "execution_count": 239,
     "metadata": {},
     "output_type": "execute_result"
    }
   ],
   "source": [
    "df_main.nome.nunique(), df_main.cpf.nunique(), df_main.numero_da_inscricao.nunique()"
   ]
  },
  {
   "cell_type": "markdown",
   "id": "2b2b9267",
   "metadata": {},
   "source": [
    "# Buscar Filiações relacionadas\n",
    "\n",
    "- Acima filtramos por UF por não termos identificador comum.\n",
    "- No entanto, agora temos o numero_da_inscricao\n",
    "- Portanto, podemos ver se cada numero_da_inscricao tem outras filiações relacionadas"
   ]
  },
  {
   "cell_type": "code",
   "execution_count": 241,
   "id": "ccd31f14",
   "metadata": {},
   "outputs": [
    {
     "data": {
      "text/plain": [
       "['cpf', 'numero_da_inscricao']"
      ]
     },
     "execution_count": 241,
     "metadata": {},
     "output_type": "execute_result"
    }
   ],
   "source": [
    "# Vamos manter apenas o identificador (numero_da_inscricao) e cpf (por precaução)\n",
    "colunas_finais_ceaf = [\"cpf\",\"numero_da_inscricao\"]\n",
    "colunas_finais_ceaf"
   ]
  },
  {
   "cell_type": "code",
   "execution_count": 242,
   "id": "1bbbf5c4",
   "metadata": {},
   "outputs": [
    {
     "data": {
      "text/html": [
       "<div>\n",
       "<style scoped>\n",
       "    .dataframe tbody tr th:only-of-type {\n",
       "        vertical-align: middle;\n",
       "    }\n",
       "\n",
       "    .dataframe tbody tr th {\n",
       "        vertical-align: top;\n",
       "    }\n",
       "\n",
       "    .dataframe thead th {\n",
       "        text-align: right;\n",
       "    }\n",
       "</style>\n",
       "<table border=\"1\" class=\"dataframe\">\n",
       "  <thead>\n",
       "    <tr style=\"text-align: right;\">\n",
       "      <th></th>\n",
       "      <th>cpf</th>\n",
       "      <th>numero_da_inscricao</th>\n",
       "    </tr>\n",
       "  </thead>\n",
       "  <tbody>\n",
       "    <tr>\n",
       "      <th>0</th>\n",
       "      <td>***.143.754-**</td>\n",
       "      <td>4.236364e+10</td>\n",
       "    </tr>\n",
       "    <tr>\n",
       "      <th>2</th>\n",
       "      <td>***.992.849-**</td>\n",
       "      <td>9.169501e+09</td>\n",
       "    </tr>\n",
       "    <tr>\n",
       "      <th>13</th>\n",
       "      <td>***.836.227-**</td>\n",
       "      <td>1.229344e+11</td>\n",
       "    </tr>\n",
       "    <tr>\n",
       "      <th>14</th>\n",
       "      <td>***.259.219-**</td>\n",
       "      <td>9.793271e+09</td>\n",
       "    </tr>\n",
       "    <tr>\n",
       "      <th>16</th>\n",
       "      <td>***.558.338-**</td>\n",
       "      <td>1.563754e+11</td>\n",
       "    </tr>\n",
       "    <tr>\n",
       "      <th>...</th>\n",
       "      <td>...</td>\n",
       "      <td>...</td>\n",
       "    </tr>\n",
       "    <tr>\n",
       "      <th>5956</th>\n",
       "      <td>***.848.936-**</td>\n",
       "      <td>4.557132e+09</td>\n",
       "    </tr>\n",
       "    <tr>\n",
       "      <th>5957</th>\n",
       "      <td>***.928.867-**</td>\n",
       "      <td>8.232037e+10</td>\n",
       "    </tr>\n",
       "    <tr>\n",
       "      <th>5959</th>\n",
       "      <td>***.146.839-**</td>\n",
       "      <td>5.978391e+09</td>\n",
       "    </tr>\n",
       "    <tr>\n",
       "      <th>5960</th>\n",
       "      <td>***.193.607-**</td>\n",
       "      <td>2.452568e+11</td>\n",
       "    </tr>\n",
       "    <tr>\n",
       "      <th>5961</th>\n",
       "      <td>***.116.953-**</td>\n",
       "      <td>7.024111e+08</td>\n",
       "    </tr>\n",
       "  </tbody>\n",
       "</table>\n",
       "<p>846 rows × 2 columns</p>\n",
       "</div>"
      ],
      "text/plain": [
       "                 cpf  numero_da_inscricao\n",
       "0     ***.143.754-**         4.236364e+10\n",
       "2     ***.992.849-**         9.169501e+09\n",
       "13    ***.836.227-**         1.229344e+11\n",
       "14    ***.259.219-**         9.793271e+09\n",
       "16    ***.558.338-**         1.563754e+11\n",
       "...              ...                  ...\n",
       "5956  ***.848.936-**         4.557132e+09\n",
       "5957  ***.928.867-**         8.232037e+10\n",
       "5959  ***.146.839-**         5.978391e+09\n",
       "5960  ***.193.607-**         2.452568e+11\n",
       "5961  ***.116.953-**         7.024111e+08\n",
       "\n",
       "[846 rows x 2 columns]"
      ]
     },
     "execution_count": 242,
     "metadata": {},
     "output_type": "execute_result"
    }
   ],
   "source": [
    "# Manter apenas colunas_finais_ceaf\n",
    "df_main = df_main[colunas_finais_ceaf]\n",
    "\n",
    "# Eliminar registros duplicados\n",
    "df_main = df_main.drop_duplicates()\n",
    "df_main"
   ]
  },
  {
   "cell_type": "code",
   "execution_count": 244,
   "id": "f7c98318",
   "metadata": {},
   "outputs": [
    {
     "data": {
      "text/plain": [
       "(846, 2)"
      ]
     },
     "execution_count": 244,
     "metadata": {},
     "output_type": "execute_result"
    }
   ],
   "source": [
    "df_main.shape"
   ]
  },
  {
   "cell_type": "code",
   "execution_count": 245,
   "id": "5a086060",
   "metadata": {},
   "outputs": [],
   "source": [
    "# Buscar outras filiações via numero_da_inscricao\n",
    "# PODE DEMORAR UM POUCO PARA EXECUTAR\n",
    "df_final = pd.merge(df_main, df_filiados, on=\"numero_da_inscricao\", how=\"inner\", sort=False)"
   ]
  },
  {
   "cell_type": "code",
   "execution_count": 246,
   "id": "f419ecc7",
   "metadata": {},
   "outputs": [
    {
     "data": {
      "text/plain": [
       "(1193, 13)"
      ]
     },
     "execution_count": 246,
     "metadata": {},
     "output_type": "execute_result"
    }
   ],
   "source": [
    "df_final.shape"
   ]
  },
  {
   "cell_type": "code",
   "execution_count": 247,
   "id": "69f4e554",
   "metadata": {},
   "outputs": [
    {
     "data": {
      "text/plain": [
       "(846, 846, 846)"
      ]
     },
     "execution_count": 247,
     "metadata": {},
     "output_type": "execute_result"
    }
   ],
   "source": [
    "df_final.nome_do_filiado.nunique(), df_final.cpf.nunique(), df_final.numero_da_inscricao.nunique()"
   ]
  },
  {
   "cell_type": "code",
   "execution_count": null,
   "id": "bbdf976d",
   "metadata": {},
   "outputs": [],
   "source": []
  },
  {
   "cell_type": "code",
   "execution_count": 248,
   "id": "0282f717",
   "metadata": {},
   "outputs": [
    {
     "data": {
      "text/html": [
       "<div>\n",
       "<style scoped>\n",
       "    .dataframe tbody tr th:only-of-type {\n",
       "        vertical-align: middle;\n",
       "    }\n",
       "\n",
       "    .dataframe tbody tr th {\n",
       "        vertical-align: top;\n",
       "    }\n",
       "\n",
       "    .dataframe thead th {\n",
       "        text-align: right;\n",
       "    }\n",
       "</style>\n",
       "<table border=\"1\" class=\"dataframe\">\n",
       "  <thead>\n",
       "    <tr style=\"text-align: right;\">\n",
       "      <th></th>\n",
       "      <th>numero_da_inscricao</th>\n",
       "      <th>nome_do_filiado</th>\n",
       "      <th>cpf</th>\n",
       "    </tr>\n",
       "  </thead>\n",
       "  <tbody>\n",
       "  </tbody>\n",
       "</table>\n",
       "</div>"
      ],
      "text/plain": [
       "Empty DataFrame\n",
       "Columns: [numero_da_inscricao, nome_do_filiado, cpf]\n",
       "Index: []"
      ]
     },
     "execution_count": 248,
     "metadata": {},
     "output_type": "execute_result"
    }
   ],
   "source": [
    "# Existe algum numero_da_inscricao com MAIS DE UM nome ?\n",
    "df_final.groupby([\"numero_da_inscricao\"]).filter(lambda x: len(set(x['nome_do_filiado'])) > 1)[['numero_da_inscricao','nome_do_filiado','cpf']].drop_duplicates()"
   ]
  },
  {
   "cell_type": "code",
   "execution_count": 249,
   "id": "1b564961",
   "metadata": {},
   "outputs": [
    {
     "data": {
      "text/html": [
       "<div>\n",
       "<style scoped>\n",
       "    .dataframe tbody tr th:only-of-type {\n",
       "        vertical-align: middle;\n",
       "    }\n",
       "\n",
       "    .dataframe tbody tr th {\n",
       "        vertical-align: top;\n",
       "    }\n",
       "\n",
       "    .dataframe thead th {\n",
       "        text-align: right;\n",
       "    }\n",
       "</style>\n",
       "<table border=\"1\" class=\"dataframe\">\n",
       "  <thead>\n",
       "    <tr style=\"text-align: right;\">\n",
       "      <th></th>\n",
       "      <th>nome_do_filiado</th>\n",
       "      <th>cpf</th>\n",
       "    </tr>\n",
       "  </thead>\n",
       "  <tbody>\n",
       "  </tbody>\n",
       "</table>\n",
       "</div>"
      ],
      "text/plain": [
       "Empty DataFrame\n",
       "Columns: [nome_do_filiado, cpf]\n",
       "Index: []"
      ]
     },
     "execution_count": 249,
     "metadata": {},
     "output_type": "execute_result"
    }
   ],
   "source": [
    "# Existe algum nome com MAIS DE UM cpf ?\n",
    "df_final.groupby([\"nome_do_filiado\"]).filter(lambda x: len(set(x['cpf'])) > 1)[['nome_do_filiado','cpf']].drop_duplicates()"
   ]
  },
  {
   "cell_type": "code",
   "execution_count": 250,
   "id": "0618b59d",
   "metadata": {},
   "outputs": [
    {
     "data": {
      "text/html": [
       "<div>\n",
       "<style scoped>\n",
       "    .dataframe tbody tr th:only-of-type {\n",
       "        vertical-align: middle;\n",
       "    }\n",
       "\n",
       "    .dataframe tbody tr th {\n",
       "        vertical-align: top;\n",
       "    }\n",
       "\n",
       "    .dataframe thead th {\n",
       "        text-align: right;\n",
       "    }\n",
       "</style>\n",
       "<table border=\"1\" class=\"dataframe\">\n",
       "  <thead>\n",
       "    <tr style=\"text-align: right;\">\n",
       "      <th></th>\n",
       "      <th>nome_do_filiado</th>\n",
       "      <th>numero_da_inscricao</th>\n",
       "    </tr>\n",
       "  </thead>\n",
       "  <tbody>\n",
       "  </tbody>\n",
       "</table>\n",
       "</div>"
      ],
      "text/plain": [
       "Empty DataFrame\n",
       "Columns: [nome_do_filiado, numero_da_inscricao]\n",
       "Index: []"
      ]
     },
     "execution_count": 250,
     "metadata": {},
     "output_type": "execute_result"
    }
   ],
   "source": [
    "# Existe algum nome com MAIS DE UM numero_da_inscricao ?\n",
    "df_final.groupby([\"nome_do_filiado\"]).filter(lambda x: len(set(x['numero_da_inscricao'])) > 1)[['nome_do_filiado','numero_da_inscricao']].drop_duplicates()"
   ]
  },
  {
   "cell_type": "code",
   "execution_count": 258,
   "id": "41e3cd03",
   "metadata": {},
   "outputs": [
    {
     "data": {
      "text/plain": [
       "<seaborn.axisgrid.FacetGrid at 0x7fad41d28af0>"
      ]
     },
     "execution_count": 258,
     "metadata": {},
     "output_type": "execute_result"
    },
    {
     "data": {
      "image/png": "[encoded data removed]",
      "text/plain": [
       "<Figure size 500x500 with 1 Axes>"
      ]
     },
     "metadata": {},
     "output_type": "display_data"
    }
   ],
   "source": [
    "# PLOTAR QUANTIDADES DE PARTIDOS\n",
    "sns.displot(data=df_final.groupby('nome_do_filiado').sigla_do_partido.nunique().reset_index(), \n",
    "            kind=\"hist\", x=\"sigla_do_partido\").set(title=\"Quantidade de partidos distintos por nome\")"
   ]
  },
  {
   "cell_type": "code",
   "execution_count": 129,
   "id": "d17ba273",
   "metadata": {},
   "outputs": [],
   "source": []
  },
  {
   "cell_type": "markdown",
   "id": "e87bb411",
   "metadata": {},
   "source": [
    "# Salvar resultados"
   ]
  },
  {
   "cell_type": "markdown",
   "id": "7b3c8a60",
   "metadata": {},
   "source": [
    "### CEAF"
   ]
  },
  {
   "cell_type": "code",
   "execution_count": 259,
   "id": "b4dadd75",
   "metadata": {},
   "outputs": [],
   "source": [
    "# Salvar em arquivo pickle\n",
    "df_final.to_pickle(\"df_ceaf.pickle\")"
   ]
  },
  {
   "cell_type": "markdown",
   "id": "0c452ce8",
   "metadata": {},
   "source": [
    "### Filiados\n",
    "\n",
    "- Obter amostra aleatória para comparação futura\n",
    "- Apenas os registros que não foram incluídos no DataFrame do CEAF"
   ]
  },
  {
   "cell_type": "code",
   "execution_count": 260,
   "id": "75935626",
   "metadata": {},
   "outputs": [
    {
     "data": {
      "text/plain": [
       "(24666624, 12)"
      ]
     },
     "execution_count": 260,
     "metadata": {},
     "output_type": "execute_result"
    }
   ],
   "source": [
    "df_filiados.shape"
   ]
  },
  {
   "cell_type": "code",
   "execution_count": 261,
   "id": "fe7229e3",
   "metadata": {},
   "outputs": [
    {
     "data": {
      "text/plain": [
       "(24665431, 12)"
      ]
     },
     "execution_count": 261,
     "metadata": {},
     "output_type": "execute_result"
    }
   ],
   "source": [
    "# Eliminar aqueles presentes no DataFrame final do CEAF\n",
    "# PODE DEMORAR UM POUCO PARA EXECUTAR\n",
    "df_filiados_final = df_filiados[~df_filiados.numero_da_inscricao.isin(df_final.numero_da_inscricao)]\n",
    "df_filiados_final.shape"
   ]
  },
  {
   "cell_type": "code",
   "execution_count": 262,
   "id": "3d1858bd",
   "metadata": {},
   "outputs": [],
   "source": [
    "# Obter amosra de 1%\n",
    "df_filiados_final = df_filiados_final.sample(frac=0.01, replace=False, random_state=171)"
   ]
  },
  {
   "cell_type": "code",
   "execution_count": 263,
   "id": "c64c632a",
   "metadata": {},
   "outputs": [
    {
     "data": {
      "text/plain": [
       "(246654, 12)"
      ]
     },
     "execution_count": 263,
     "metadata": {},
     "output_type": "execute_result"
    }
   ],
   "source": [
    "df_filiados_final.shape"
   ]
  },
  {
   "cell_type": "code",
   "execution_count": 265,
   "id": "29b49887",
   "metadata": {},
   "outputs": [],
   "source": [
    "# Salvar em arquivo pickle\n",
    "df_filiados_final.to_pickle(\"df_filiados.pickle\")"
   ]
  },
  {
   "cell_type": "code",
   "execution_count": null,
   "id": "6be29aab",
   "metadata": {},
   "outputs": [],
   "source": []
  }
 ],
 "metadata": {
  "kernelspec": {
   "display_name": "Python 3",
   "language": "python",
   "name": "python3"
  },
  "language_info": {
   "codemirror_mode": {
    "name": "ipython",
    "version": 3
   },
   "file_extension": ".py",
   "mimetype": "text/x-python",
   "name": "python",
   "nbconvert_exporter": "python",
   "pygments_lexer": "ipython3",
   "version": "3.8.5"
  }
 },
 "nbformat": 4,
 "nbformat_minor": 5
}
