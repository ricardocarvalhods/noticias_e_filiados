{
  "nbformat": 4,
  "nbformat_minor": 5,
  "metadata": {
    "kernelspec": {
      "display_name": "Python 3",
      "language": "python",
      "name": "python3"
    },
    "language_info": {
      "codemirror_mode": {
        "name": "ipython",
        "version": 3
      },
      "file_extension": ".py",
      "mimetype": "text/x-python",
      "name": "python",
      "nbconvert_exporter": "python",
      "pygments_lexer": "ipython3",
      "version": "3.8.5"
    },
    "colab": {
      "name": "2 - Atributos e Modelagem.ipynb",
      "provenance": [],
      "collapsed_sections": []
    }
  },
  "cells": [
    {
      "cell_type": "markdown",
      "metadata": {
        "id": "e9de1cb0"
      },
      "source": [
        "# Introdução\n",
        "\n",
        "\n",
        "Algumas informações dadas pelo TSE:\n",
        "\n",
        "\n",
        "- SITUAÇÃO DO REGISTRO\n",
        "    - Indica a situacao do filiado calculado pela aplicacao:\n",
        "        1. REGULAR;\n",
        "        2. EXCLUIDO;\n",
        "        3. SUB_JUDICE;\n",
        "        4. CANCELADO;\n",
        "        5. DESFILIADO;\n",
        "        6. EM_TRANSFERENCIA;\n",
        "        7. TRANSFERIDO;\n",
        "        8. RECEPCIONADO;\n",
        "        9. ERRO;\n",
        "        10. AGUARDANDO ACEITE DO PARTIDO.\n",
        "\n",
        "\n",
        "- TIPO DO REGISTRO\n",
        "    - Tipo da anotacao.\n",
        "        1. Oficial\n",
        "        2. Interna\n",
        "\n",
        "\n",
        "- MOTIVO DO CANCELAMENTO\n",
        "    1. Judicial;\n",
        "    2. A pedido do eleitor;\n",
        "    3. A pedido do partido;\n",
        "    4. Cancelamento automatico;\n",
        "    5. Cancelamento automatico por inscricao inexistente;\n",
        "    6. Cancelamento automatico a pedido do partido;\n",
        "    7. Cancelamento automatico por falecimento;\n",
        "    8. Cancelamento automatico por suspensao de direitos politicos.\n",
        "\n",
        "\n",
        "- DATA DO PROCESSAMENTO\n",
        "    - Data de processamento diario que o registro participou.\n",
        "\n",
        "\n",
        "- DATA DA DESFILIACAO\n",
        "    - Data da desfiliacao que o partido comunicou. Só vale a partir da proxima relacao oficial.\n",
        "    \n",
        "    \n",
        "- DATA DO CANCELAMENTO\n",
        "    - Data do cancelamento da filiacao. Passa a ser desconsiderado a partir desta data.\n",
        "\n",
        "\n",
        "- DATA DA REGULARIZACAO\n",
        "    - Armazena a data de regulacao do registro de filiacao apos decisao judicial ou da corregedoria-geral eleitoral.\n",
        "\n",
        "---\n"
      ],
      "id": "e9de1cb0"
    },
    {
      "cell_type": "code",
      "metadata": {
        "id": "072dc5ee"
      },
      "source": [
        "import pandas as pd\n",
        "import numpy as np\n",
        "from sklearn.model_selection import train_test_split\n",
        "import matplotlib.pyplot as plt\n",
        "import seaborn as sns\n",
        "\n",
        "import unicodedata\n",
        "import re \n",
        "\n",
        "def limpar_texto(texto):\n",
        "    # Se vazio, retorna\n",
        "    if texto is None or len(texto.strip()) == 0:\n",
        "        return texto\n",
        "\n",
        "    # Remover acentos\n",
        "    result = unicodedata.normalize('NFKD', texto).encode('ASCII', 'ignore').decode('ASCII')\n",
        "\n",
        "    # Remover caracteres especiais\n",
        "    lista = '-#?º°ª.:/;~^`[{]}\\\\|!$%\"\\'&*()=+,><\\t\\r\\n…'\n",
        "    for i in range(0, len(lista)):\n",
        "        result = result.replace(lista[i], ' ')\n",
        "\n",
        "    # Transformar multiplos espacos em apenas um\n",
        "    result = re.sub(' +', ' ', result)\n",
        "\n",
        "    # Transformar em LOWER case\n",
        "    result = result.lower()\n",
        "\n",
        "    return result"
      ],
      "id": "072dc5ee",
      "execution_count": 1,
      "outputs": []
    },
    {
      "cell_type": "markdown",
      "metadata": {
        "id": "22b60945"
      },
      "source": [
        "# Dados CEAF"
      ],
      "id": "22b60945"
    },
    {
      "cell_type": "code",
      "metadata": {
        "colab": {
          "base_uri": "https://localhost:8080/"
        },
        "id": "HhA8riaJ1xpX",
        "outputId": "4643ecb6-4add-4208-d457-6df4d87081f1"
      },
      "source": [
        "!pip install pickle5"
      ],
      "id": "HhA8riaJ1xpX",
      "execution_count": 5,
      "outputs": [
        {
          "output_type": "stream",
          "text": [
            "Collecting pickle5\n",
            "  Downloading pickle5-0.0.11.tar.gz (132 kB)\n",
            "\u001b[?25l\r\u001b[K     |██▌                             | 10 kB 23.1 MB/s eta 0:00:01\r\u001b[K     |█████                           | 20 kB 25.1 MB/s eta 0:00:01\r\u001b[K     |███████▍                        | 30 kB 29.9 MB/s eta 0:00:01\r\u001b[K     |██████████                      | 40 kB 33.7 MB/s eta 0:00:01\r\u001b[K     |████████████▍                   | 51 kB 35.5 MB/s eta 0:00:01\r\u001b[K     |██████████████▉                 | 61 kB 35.0 MB/s eta 0:00:01\r\u001b[K     |█████████████████▍              | 71 kB 32.9 MB/s eta 0:00:01\r\u001b[K     |███████████████████▉            | 81 kB 34.3 MB/s eta 0:00:01\r\u001b[K     |██████████████████████▎         | 92 kB 31.4 MB/s eta 0:00:01\r\u001b[K     |████████████████████████▉       | 102 kB 31.9 MB/s eta 0:00:01\r\u001b[K     |███████████████████████████▎    | 112 kB 31.9 MB/s eta 0:00:01\r\u001b[K     |█████████████████████████████▊  | 122 kB 31.9 MB/s eta 0:00:01\r\u001b[K     |████████████████████████████████| 132 kB 31.9 MB/s \n",
            "\u001b[?25hBuilding wheels for collected packages: pickle5\n",
            "  Building wheel for pickle5 (setup.py) ... \u001b[?25l\u001b[?25hdone\n",
            "  Created wheel for pickle5: filename=pickle5-0.0.11-cp37-cp37m-linux_x86_64.whl size=219300 sha256=1e5b3765de32db4c4e69cf15f7ff717c6bb771237caac5bf166141bfa03fa34b\n",
            "  Stored in directory: /root/.cache/pip/wheels/7e/6a/00/67136a90d6aca437d806d1d3cedf98106e840c97a3e5188198\n",
            "Successfully built pickle5\n",
            "Installing collected packages: pickle5\n",
            "Successfully installed pickle5-0.0.11\n"
          ],
          "name": "stdout"
        }
      ]
    },
    {
      "cell_type": "code",
      "metadata": {
        "colab": {
          "base_uri": "https://localhost:8080/"
        },
        "id": "fbf61f79",
        "outputId": "a00c412f-1a21-4174-b105-6a5c119e954a"
      },
      "source": [
        "import pickle5 as pickle\n",
        "\n",
        "with open('/content/df_ceaf.pickle', \"rb\") as fh:\n",
        "  df_ceaf = pickle.load(fh)\n",
        "# df_ceaf = pd.read_pickle('df_ceaf.pickle')\n",
        "\n",
        "df_ceaf.shape"
      ],
      "id": "fbf61f79",
      "execution_count": 8,
      "outputs": [
        {
          "output_type": "execute_result",
          "data": {
            "text/plain": [
              "(1193, 13)"
            ]
          },
          "metadata": {
            "tags": []
          },
          "execution_count": 8
        }
      ]
    },
    {
      "cell_type": "code",
      "metadata": {
        "id": "b2a40e8b"
      },
      "source": [
        "# Remover coluna cpf\n",
        "df_ceaf.drop(columns='cpf', axis=1, inplace=True)"
      ],
      "id": "b2a40e8b",
      "execution_count": 9,
      "outputs": []
    },
    {
      "cell_type": "code",
      "metadata": {
        "id": "b9b1de3b"
      },
      "source": [
        "# Separar em TREINO (80%) e TESTE (20%)\n",
        "df_ceaf_train, df_ceaf_test = train_test_split(df_ceaf, test_size=0.2, random_state=171)"
      ],
      "id": "b9b1de3b",
      "execution_count": 10,
      "outputs": []
    },
    {
      "cell_type": "code",
      "metadata": {
        "colab": {
          "base_uri": "https://localhost:8080/"
        },
        "id": "5673d52b",
        "outputId": "1b660436-4f21-4403-e51f-2eb8f4a63979"
      },
      "source": [
        "# Criar coluna para rotulo (CEAF = 1)\n",
        "df_ceaf_train['rotulo'] = 1\n",
        "df_ceaf_test['rotulo'] = 1"
      ],
      "id": "5673d52b",
      "execution_count": 11,
      "outputs": [
        {
          "output_type": "stream",
          "text": [
            "/usr/local/lib/python3.7/dist-packages/ipykernel_launcher.py:1: SettingWithCopyWarning: \n",
            "A value is trying to be set on a copy of a slice from a DataFrame.\n",
            "Try using .loc[row_indexer,col_indexer] = value instead\n",
            "\n",
            "See the caveats in the documentation: https://pandas.pydata.org/pandas-docs/stable/user_guide/indexing.html#returning-a-view-versus-a-copy\n",
            "  \"\"\"Entry point for launching an IPython kernel.\n",
            "/usr/local/lib/python3.7/dist-packages/ipykernel_launcher.py:2: SettingWithCopyWarning: \n",
            "A value is trying to be set on a copy of a slice from a DataFrame.\n",
            "Try using .loc[row_indexer,col_indexer] = value instead\n",
            "\n",
            "See the caveats in the documentation: https://pandas.pydata.org/pandas-docs/stable/user_guide/indexing.html#returning-a-view-versus-a-copy\n",
            "  \n"
          ],
          "name": "stderr"
        }
      ]
    },
    {
      "cell_type": "code",
      "metadata": {
        "colab": {
          "base_uri": "https://localhost:8080/"
        },
        "id": "02205a90",
        "outputId": "517ec2ab-8f01-45ad-cb67-7bee49f9f7f7"
      },
      "source": [
        "df_ceaf_train.shape, df_ceaf_test.shape"
      ],
      "id": "02205a90",
      "execution_count": 12,
      "outputs": [
        {
          "output_type": "execute_result",
          "data": {
            "text/plain": [
              "((954, 13), (239, 13))"
            ]
          },
          "metadata": {
            "tags": []
          },
          "execution_count": 12
        }
      ]
    },
    {
      "cell_type": "code",
      "metadata": {
        "id": "cfd1b623"
      },
      "source": [
        ""
      ],
      "id": "cfd1b623",
      "execution_count": null,
      "outputs": []
    },
    {
      "cell_type": "markdown",
      "metadata": {
        "id": "1e40f28c"
      },
      "source": [
        "# Dados Filiados"
      ],
      "id": "1e40f28c"
    },
    {
      "cell_type": "code",
      "metadata": {
        "colab": {
          "base_uri": "https://localhost:8080/"
        },
        "id": "1783ee4e",
        "outputId": "9ce9f8da-c2aa-4273-f929-b2ffe4dcb143"
      },
      "source": [
        "with open('/content/df_filiados.pickle', \"rb\") as fh:\n",
        "  df_filiados = pickle.load(fh)\n",
        "# df_filiados = pd.read_pickle('df_filiados.pickle')\n",
        "df_filiados.shape"
      ],
      "id": "1783ee4e",
      "execution_count": 14,
      "outputs": [
        {
          "output_type": "execute_result",
          "data": {
            "text/plain": [
              "(246654, 12)"
            ]
          },
          "metadata": {
            "tags": []
          },
          "execution_count": 14
        }
      ]
    },
    {
      "cell_type": "code",
      "metadata": {
        "id": "c07d8d51"
      },
      "source": [
        "# Separar em TREINO (80%) e TESTE (20%)\n",
        "df_filiados_train, df_filiados_test = train_test_split(df_filiados, test_size=0.2, random_state=171)"
      ],
      "id": "c07d8d51",
      "execution_count": 23,
      "outputs": []
    },
    {
      "cell_type": "code",
      "metadata": {
        "colab": {
          "base_uri": "https://localhost:8080/"
        },
        "id": "2193af4b",
        "outputId": "1e36b0dd-890f-49e1-9f75-dcd4cb5c9e0b"
      },
      "source": [
        "# Criar coluna para rotulo (NAO-CEAF = 0)\n",
        "df_filiados_train['rotulo'] = 0\n",
        "df_filiados_test['rotulo'] = 0"
      ],
      "id": "2193af4b",
      "execution_count": 24,
      "outputs": [
        {
          "output_type": "stream",
          "text": [
            "/usr/local/lib/python3.7/dist-packages/ipykernel_launcher.py:2: SettingWithCopyWarning: \n",
            "A value is trying to be set on a copy of a slice from a DataFrame.\n",
            "Try using .loc[row_indexer,col_indexer] = value instead\n",
            "\n",
            "See the caveats in the documentation: https://pandas.pydata.org/pandas-docs/stable/user_guide/indexing.html#returning-a-view-versus-a-copy\n",
            "  \n",
            "/usr/local/lib/python3.7/dist-packages/ipykernel_launcher.py:3: SettingWithCopyWarning: \n",
            "A value is trying to be set on a copy of a slice from a DataFrame.\n",
            "Try using .loc[row_indexer,col_indexer] = value instead\n",
            "\n",
            "See the caveats in the documentation: https://pandas.pydata.org/pandas-docs/stable/user_guide/indexing.html#returning-a-view-versus-a-copy\n",
            "  This is separate from the ipykernel package so we can avoid doing imports until\n"
          ],
          "name": "stderr"
        }
      ]
    },
    {
      "cell_type": "code",
      "metadata": {
        "colab": {
          "base_uri": "https://localhost:8080/"
        },
        "id": "d98e5214",
        "outputId": "0e0909f6-ac1d-4198-d00a-8d7fe59ec8d4"
      },
      "source": [
        "df_filiados_train.shape, df_filiados_test.shape"
      ],
      "id": "d98e5214",
      "execution_count": 25,
      "outputs": [
        {
          "output_type": "execute_result",
          "data": {
            "text/plain": [
              "((197323, 13), (49331, 13))"
            ]
          },
          "metadata": {
            "tags": []
          },
          "execution_count": 25
        }
      ]
    },
    {
      "cell_type": "code",
      "metadata": {
        "id": "9624f501"
      },
      "source": [
        ""
      ],
      "id": "9624f501",
      "execution_count": null,
      "outputs": []
    },
    {
      "cell_type": "markdown",
      "metadata": {
        "id": "c355fa23"
      },
      "source": [
        "# Juntar dados"
      ],
      "id": "c355fa23"
    },
    {
      "cell_type": "code",
      "metadata": {
        "id": "da47aafd"
      },
      "source": [
        "# Juntar dados de CEAF e Filiados para TREINO e TESTE\n",
        "df_train = pd.concat([df_ceaf_train, df_filiados_train])\n",
        "df_test = pd.concat([df_ceaf_test, df_filiados_test])"
      ],
      "id": "da47aafd",
      "execution_count": 26,
      "outputs": []
    },
    {
      "cell_type": "code",
      "metadata": {
        "id": "2664b658"
      },
      "source": [
        ""
      ],
      "id": "2664b658",
      "execution_count": null,
      "outputs": []
    },
    {
      "cell_type": "markdown",
      "metadata": {
        "id": "b5abcb66"
      },
      "source": [
        "# Engenharia de atributos"
      ],
      "id": "b5abcb66"
    },
    {
      "cell_type": "code",
      "metadata": {
        "colab": {
          "base_uri": "https://localhost:8080/",
          "height": 1000
        },
        "id": "ade302fb",
        "outputId": "59c8fd42-2fc7-4514-f72c-dec8201d630c"
      },
      "source": [
        "df_train.head(30)"
      ],
      "id": "ade302fb",
      "execution_count": 27,
      "outputs": [
        {
          "output_type": "execute_result",
          "data": {
            "text/html": [
              "<div>\n",
              "<style scoped>\n",
              "    .dataframe tbody tr th:only-of-type {\n",
              "        vertical-align: middle;\n",
              "    }\n",
              "\n",
              "    .dataframe tbody tr th {\n",
              "        vertical-align: top;\n",
              "    }\n",
              "\n",
              "    .dataframe thead th {\n",
              "        text-align: right;\n",
              "    }\n",
              "</style>\n",
              "<table border=\"1\" class=\"dataframe\">\n",
              "  <thead>\n",
              "    <tr style=\"text-align: right;\">\n",
              "      <th></th>\n",
              "      <th>numero_da_inscricao</th>\n",
              "      <th>nome_do_filiado</th>\n",
              "      <th>sigla_do_partido</th>\n",
              "      <th>uf</th>\n",
              "      <th>data_da_filiacao</th>\n",
              "      <th>situacao_do_registro</th>\n",
              "      <th>tipo_do_registro</th>\n",
              "      <th>data_do_processamento</th>\n",
              "      <th>data_da_desfiliacao</th>\n",
              "      <th>data_do_cancelamento</th>\n",
              "      <th>data_da_regularizacao</th>\n",
              "      <th>motivo_do_cancelamento</th>\n",
              "      <th>rotulo</th>\n",
              "    </tr>\n",
              "  </thead>\n",
              "  <tbody>\n",
              "    <tr>\n",
              "      <th>1138</th>\n",
              "      <td>1.408744e+10</td>\n",
              "      <td>raimundo carlos nascimento</td>\n",
              "      <td>PV</td>\n",
              "      <td>BA</td>\n",
              "      <td>2008-01-23</td>\n",
              "      <td>REGULAR</td>\n",
              "      <td>OFICIAL</td>\n",
              "      <td>NaT</td>\n",
              "      <td>NaT</td>\n",
              "      <td>NaT</td>\n",
              "      <td>NaT</td>\n",
              "      <td>NaN</td>\n",
              "      <td>1</td>\n",
              "    </tr>\n",
              "    <tr>\n",
              "      <th>923</th>\n",
              "      <td>2.063773e+10</td>\n",
              "      <td>maria jose de arruda campos</td>\n",
              "      <td>PL</td>\n",
              "      <td>MT</td>\n",
              "      <td>2008-01-08</td>\n",
              "      <td>REGULAR</td>\n",
              "      <td>OFICIAL</td>\n",
              "      <td>NaT</td>\n",
              "      <td>NaT</td>\n",
              "      <td>NaT</td>\n",
              "      <td>NaT</td>\n",
              "      <td>NaN</td>\n",
              "      <td>1</td>\n",
              "    </tr>\n",
              "    <tr>\n",
              "      <th>191</th>\n",
              "      <td>1.512443e+10</td>\n",
              "      <td>pedro bezerra filho</td>\n",
              "      <td>MDB</td>\n",
              "      <td>PE</td>\n",
              "      <td>2011-09-09</td>\n",
              "      <td>CANCELADO</td>\n",
              "      <td>OFICIAL</td>\n",
              "      <td>NaT</td>\n",
              "      <td>NaT</td>\n",
              "      <td>2019-10-16</td>\n",
              "      <td>NaT</td>\n",
              "      <td>CANCELAMENTO AUTOMÁTICO</td>\n",
              "      <td>1</td>\n",
              "    </tr>\n",
              "    <tr>\n",
              "      <th>1005</th>\n",
              "      <td>9.437852e+10</td>\n",
              "      <td>rafael de souza e mello coelho da silva</td>\n",
              "      <td>PSOL</td>\n",
              "      <td>RJ</td>\n",
              "      <td>2015-03-31</td>\n",
              "      <td>REGULAR</td>\n",
              "      <td>OFICIAL</td>\n",
              "      <td>NaT</td>\n",
              "      <td>NaT</td>\n",
              "      <td>NaT</td>\n",
              "      <td>NaT</td>\n",
              "      <td>NaN</td>\n",
              "      <td>1</td>\n",
              "    </tr>\n",
              "    <tr>\n",
              "      <th>105</th>\n",
              "      <td>5.811562e+09</td>\n",
              "      <td>elson coelho meireles</td>\n",
              "      <td>PSC</td>\n",
              "      <td>AM</td>\n",
              "      <td>1992-04-10</td>\n",
              "      <td>CANCELADO</td>\n",
              "      <td>OFICIAL</td>\n",
              "      <td>NaT</td>\n",
              "      <td>2013-04-20</td>\n",
              "      <td>2019-10-15</td>\n",
              "      <td>NaT</td>\n",
              "      <td>CANCELAMENTO AUTOMÁTICO</td>\n",
              "      <td>1</td>\n",
              "    </tr>\n",
              "    <tr>\n",
              "      <th>797</th>\n",
              "      <td>8.556594e+10</td>\n",
              "      <td>angelo rodrigo ruth</td>\n",
              "      <td>PSC</td>\n",
              "      <td>PR</td>\n",
              "      <td>2007-09-27</td>\n",
              "      <td>CANCELADO</td>\n",
              "      <td>OFICIAL</td>\n",
              "      <td>NaT</td>\n",
              "      <td>2011-07-30</td>\n",
              "      <td>2010-05-10</td>\n",
              "      <td>NaT</td>\n",
              "      <td>A PEDIDO DO ELEITOR</td>\n",
              "      <td>1</td>\n",
              "    </tr>\n",
              "    <tr>\n",
              "      <th>810</th>\n",
              "      <td>2.515779e+10</td>\n",
              "      <td>carmen lucia sacramento</td>\n",
              "      <td>PT</td>\n",
              "      <td>BA</td>\n",
              "      <td>1983-12-10</td>\n",
              "      <td>CANCELADO</td>\n",
              "      <td>OFICIAL</td>\n",
              "      <td>NaT</td>\n",
              "      <td>2011-09-30</td>\n",
              "      <td>2011-12-16</td>\n",
              "      <td>NaT</td>\n",
              "      <td>JUDICIAL</td>\n",
              "      <td>1</td>\n",
              "    </tr>\n",
              "    <tr>\n",
              "      <th>176</th>\n",
              "      <td>2.314142e+09</td>\n",
              "      <td>ubaldino rezende rodrigues</td>\n",
              "      <td>PDT</td>\n",
              "      <td>MT</td>\n",
              "      <td>2011-09-23</td>\n",
              "      <td>CANCELADO</td>\n",
              "      <td>OFICIAL</td>\n",
              "      <td>NaT</td>\n",
              "      <td>2015-08-05</td>\n",
              "      <td>2019-10-15</td>\n",
              "      <td>NaT</td>\n",
              "      <td>CANCELAMENTO AUTOMÁTICO</td>\n",
              "      <td>1</td>\n",
              "    </tr>\n",
              "    <tr>\n",
              "      <th>735</th>\n",
              "      <td>1.346177e+10</td>\n",
              "      <td>alberto batista da silva</td>\n",
              "      <td>PODE</td>\n",
              "      <td>GO</td>\n",
              "      <td>2007-10-03</td>\n",
              "      <td>CANCELADO</td>\n",
              "      <td>OFICIAL</td>\n",
              "      <td>NaT</td>\n",
              "      <td>NaT</td>\n",
              "      <td>2019-10-16</td>\n",
              "      <td>NaT</td>\n",
              "      <td>CANCELAMENTO AUTOMÁTICO</td>\n",
              "      <td>1</td>\n",
              "    </tr>\n",
              "    <tr>\n",
              "      <th>481</th>\n",
              "      <td>3.488875e+10</td>\n",
              "      <td>raimundo dos santos furtado</td>\n",
              "      <td>PV</td>\n",
              "      <td>MA</td>\n",
              "      <td>2011-09-09</td>\n",
              "      <td>REGULAR</td>\n",
              "      <td>OFICIAL</td>\n",
              "      <td>NaT</td>\n",
              "      <td>NaT</td>\n",
              "      <td>NaT</td>\n",
              "      <td>NaT</td>\n",
              "      <td>NaN</td>\n",
              "      <td>1</td>\n",
              "    </tr>\n",
              "    <tr>\n",
              "      <th>633</th>\n",
              "      <td>5.328904e+10</td>\n",
              "      <td>mauro cezar dorneles da silva</td>\n",
              "      <td>PSDB</td>\n",
              "      <td>RS</td>\n",
              "      <td>2015-04-01</td>\n",
              "      <td>REGULAR</td>\n",
              "      <td>OFICIAL</td>\n",
              "      <td>NaT</td>\n",
              "      <td>NaT</td>\n",
              "      <td>NaT</td>\n",
              "      <td>NaT</td>\n",
              "      <td>NaN</td>\n",
              "      <td>1</td>\n",
              "    </tr>\n",
              "    <tr>\n",
              "      <th>1140</th>\n",
              "      <td>1.119117e+11</td>\n",
              "      <td>marcos roberto nalon</td>\n",
              "      <td>DC</td>\n",
              "      <td>MG</td>\n",
              "      <td>1995-12-26</td>\n",
              "      <td>REGULAR</td>\n",
              "      <td>OFICIAL</td>\n",
              "      <td>NaT</td>\n",
              "      <td>NaT</td>\n",
              "      <td>NaT</td>\n",
              "      <td>NaT</td>\n",
              "      <td>NaN</td>\n",
              "      <td>1</td>\n",
              "    </tr>\n",
              "    <tr>\n",
              "      <th>793</th>\n",
              "      <td>1.002150e+10</td>\n",
              "      <td>abdon de andrade rocha</td>\n",
              "      <td>PV</td>\n",
              "      <td>MA</td>\n",
              "      <td>2020-03-27</td>\n",
              "      <td>REGULAR</td>\n",
              "      <td>OFICIAL</td>\n",
              "      <td>2020-04-16</td>\n",
              "      <td>NaT</td>\n",
              "      <td>NaT</td>\n",
              "      <td>NaT</td>\n",
              "      <td>NaN</td>\n",
              "      <td>1</td>\n",
              "    </tr>\n",
              "    <tr>\n",
              "      <th>1163</th>\n",
              "      <td>4.597240e+09</td>\n",
              "      <td>carmem lucia de almeida amaral pimenta</td>\n",
              "      <td>MDB</td>\n",
              "      <td>RJ</td>\n",
              "      <td>1996-03-15</td>\n",
              "      <td>REGULAR</td>\n",
              "      <td>OFICIAL</td>\n",
              "      <td>NaT</td>\n",
              "      <td>NaT</td>\n",
              "      <td>NaT</td>\n",
              "      <td>NaT</td>\n",
              "      <td>NaN</td>\n",
              "      <td>1</td>\n",
              "    </tr>\n",
              "    <tr>\n",
              "      <th>564</th>\n",
              "      <td>1.601262e+09</td>\n",
              "      <td>gilberto tristao</td>\n",
              "      <td>CIDADANIA</td>\n",
              "      <td>DF</td>\n",
              "      <td>2003-09-17</td>\n",
              "      <td>REGULAR</td>\n",
              "      <td>OFICIAL</td>\n",
              "      <td>NaT</td>\n",
              "      <td>NaT</td>\n",
              "      <td>NaT</td>\n",
              "      <td>NaT</td>\n",
              "      <td>NaN</td>\n",
              "      <td>1</td>\n",
              "    </tr>\n",
              "    <tr>\n",
              "      <th>642</th>\n",
              "      <td>2.354666e+10</td>\n",
              "      <td>adir dos santos soares</td>\n",
              "      <td>MDB</td>\n",
              "      <td>RJ</td>\n",
              "      <td>1981-02-16</td>\n",
              "      <td>REGULAR</td>\n",
              "      <td>OFICIAL</td>\n",
              "      <td>NaT</td>\n",
              "      <td>NaT</td>\n",
              "      <td>NaT</td>\n",
              "      <td>NaT</td>\n",
              "      <td>NaN</td>\n",
              "      <td>1</td>\n",
              "    </tr>\n",
              "    <tr>\n",
              "      <th>222</th>\n",
              "      <td>6.770141e+09</td>\n",
              "      <td>marcelo rodrigues vaz da costa</td>\n",
              "      <td>PSDB</td>\n",
              "      <td>DF</td>\n",
              "      <td>1995-09-14</td>\n",
              "      <td>CANCELADO</td>\n",
              "      <td>OFICIAL</td>\n",
              "      <td>NaT</td>\n",
              "      <td>NaT</td>\n",
              "      <td>2009-12-18</td>\n",
              "      <td>NaT</td>\n",
              "      <td>JUDICIAL</td>\n",
              "      <td>1</td>\n",
              "    </tr>\n",
              "    <tr>\n",
              "      <th>869</th>\n",
              "      <td>8.077261e+09</td>\n",
              "      <td>ilton sacchetti</td>\n",
              "      <td>MDB</td>\n",
              "      <td>SC</td>\n",
              "      <td>1992-02-25</td>\n",
              "      <td>CANCELADO</td>\n",
              "      <td>OFICIAL</td>\n",
              "      <td>NaT</td>\n",
              "      <td>2007-08-17</td>\n",
              "      <td>2007-08-17</td>\n",
              "      <td>NaT</td>\n",
              "      <td>A PEDIDO DO ELEITOR</td>\n",
              "      <td>1</td>\n",
              "    </tr>\n",
              "    <tr>\n",
              "      <th>1017</th>\n",
              "      <td>1.773602e+09</td>\n",
              "      <td>jose luciano rodrigues matias</td>\n",
              "      <td>AVANTE</td>\n",
              "      <td>DF</td>\n",
              "      <td>1993-02-03</td>\n",
              "      <td>REGULAR</td>\n",
              "      <td>OFICIAL</td>\n",
              "      <td>NaT</td>\n",
              "      <td>NaT</td>\n",
              "      <td>NaT</td>\n",
              "      <td>NaT</td>\n",
              "      <td>NaN</td>\n",
              "      <td>1</td>\n",
              "    </tr>\n",
              "    <tr>\n",
              "      <th>49</th>\n",
              "      <td>4.931257e+10</td>\n",
              "      <td>luiz carlos bueno de lima</td>\n",
              "      <td>MDB</td>\n",
              "      <td>DF</td>\n",
              "      <td>2005-09-30</td>\n",
              "      <td>CANCELADO</td>\n",
              "      <td>OFICIAL</td>\n",
              "      <td>NaT</td>\n",
              "      <td>2007-01-08</td>\n",
              "      <td>2019-10-15</td>\n",
              "      <td>NaT</td>\n",
              "      <td>CANCELAMENTO AUTOMÁTICO</td>\n",
              "      <td>1</td>\n",
              "    </tr>\n",
              "    <tr>\n",
              "      <th>1139</th>\n",
              "      <td>3.712597e+10</td>\n",
              "      <td>cristina sueli medeiros da silveira</td>\n",
              "      <td>CIDADANIA</td>\n",
              "      <td>RJ</td>\n",
              "      <td>2011-10-05</td>\n",
              "      <td>REGULAR</td>\n",
              "      <td>OFICIAL</td>\n",
              "      <td>NaT</td>\n",
              "      <td>NaT</td>\n",
              "      <td>NaT</td>\n",
              "      <td>NaT</td>\n",
              "      <td>NaN</td>\n",
              "      <td>1</td>\n",
              "    </tr>\n",
              "    <tr>\n",
              "      <th>895</th>\n",
              "      <td>7.089858e+10</td>\n",
              "      <td>marcia dos santos silva correa</td>\n",
              "      <td>PCDOB</td>\n",
              "      <td>RJ</td>\n",
              "      <td>2011-09-20</td>\n",
              "      <td>CANCELADO</td>\n",
              "      <td>OFICIAL</td>\n",
              "      <td>NaT</td>\n",
              "      <td>NaT</td>\n",
              "      <td>2019-10-15</td>\n",
              "      <td>NaT</td>\n",
              "      <td>CANCELAMENTO AUTOMÁTICO</td>\n",
              "      <td>1</td>\n",
              "    </tr>\n",
              "    <tr>\n",
              "      <th>542</th>\n",
              "      <td>4.565423e+08</td>\n",
              "      <td>joao jose pires de carvalho</td>\n",
              "      <td>PTB</td>\n",
              "      <td>RO</td>\n",
              "      <td>1985-06-25</td>\n",
              "      <td>CANCELADO</td>\n",
              "      <td>OFICIAL</td>\n",
              "      <td>2020-04-16</td>\n",
              "      <td>NaT</td>\n",
              "      <td>2010-01-04</td>\n",
              "      <td>NaT</td>\n",
              "      <td>CANCELAMENTO AUTOMÁTICO</td>\n",
              "      <td>1</td>\n",
              "    </tr>\n",
              "    <tr>\n",
              "      <th>630</th>\n",
              "      <td>6.161046e+10</td>\n",
              "      <td>regina celia ribeiro</td>\n",
              "      <td>PCDOB</td>\n",
              "      <td>RJ</td>\n",
              "      <td>2007-10-05</td>\n",
              "      <td>CANCELADO</td>\n",
              "      <td>OFICIAL</td>\n",
              "      <td>2020-04-16</td>\n",
              "      <td>NaT</td>\n",
              "      <td>2020-04-16</td>\n",
              "      <td>NaT</td>\n",
              "      <td>CANCELAMENTO AUTOMÁTICO</td>\n",
              "      <td>1</td>\n",
              "    </tr>\n",
              "    <tr>\n",
              "      <th>666</th>\n",
              "      <td>3.256413e+10</td>\n",
              "      <td>francisco martins de castro</td>\n",
              "      <td>MDB</td>\n",
              "      <td>RS</td>\n",
              "      <td>2003-02-07</td>\n",
              "      <td>REGULAR</td>\n",
              "      <td>OFICIAL</td>\n",
              "      <td>NaT</td>\n",
              "      <td>NaT</td>\n",
              "      <td>NaT</td>\n",
              "      <td>NaT</td>\n",
              "      <td>NaN</td>\n",
              "      <td>1</td>\n",
              "    </tr>\n",
              "    <tr>\n",
              "      <th>242</th>\n",
              "      <td>1.148275e+11</td>\n",
              "      <td>silvio cesar vasconcelos brigido</td>\n",
              "      <td>CIDADANIA</td>\n",
              "      <td>MG</td>\n",
              "      <td>2016-03-20</td>\n",
              "      <td>REGULAR</td>\n",
              "      <td>OFICIAL</td>\n",
              "      <td>NaT</td>\n",
              "      <td>NaT</td>\n",
              "      <td>NaT</td>\n",
              "      <td>NaT</td>\n",
              "      <td>NaN</td>\n",
              "      <td>1</td>\n",
              "    </tr>\n",
              "    <tr>\n",
              "      <th>831</th>\n",
              "      <td>1.379841e+09</td>\n",
              "      <td>antonio jose nunes de vasconcelos</td>\n",
              "      <td>PDT</td>\n",
              "      <td>PE</td>\n",
              "      <td>2015-08-13</td>\n",
              "      <td>REGULAR</td>\n",
              "      <td>OFICIAL</td>\n",
              "      <td>NaT</td>\n",
              "      <td>NaT</td>\n",
              "      <td>NaT</td>\n",
              "      <td>NaT</td>\n",
              "      <td>NaN</td>\n",
              "      <td>1</td>\n",
              "    </tr>\n",
              "    <tr>\n",
              "      <th>767</th>\n",
              "      <td>3.628600e+09</td>\n",
              "      <td>itamar jose dias junqueira</td>\n",
              "      <td>PSOL</td>\n",
              "      <td>RJ</td>\n",
              "      <td>2005-11-30</td>\n",
              "      <td>CANCELADO</td>\n",
              "      <td>OFICIAL</td>\n",
              "      <td>NaT</td>\n",
              "      <td>2007-09-28</td>\n",
              "      <td>2007-09-28</td>\n",
              "      <td>NaT</td>\n",
              "      <td>A PEDIDO DO ELEITOR</td>\n",
              "      <td>1</td>\n",
              "    </tr>\n",
              "    <tr>\n",
              "      <th>1087</th>\n",
              "      <td>2.357644e+10</td>\n",
              "      <td>antonio lima campos junior</td>\n",
              "      <td>PSDB</td>\n",
              "      <td>MA</td>\n",
              "      <td>1995-09-30</td>\n",
              "      <td>CANCELADO</td>\n",
              "      <td>OFICIAL</td>\n",
              "      <td>NaT</td>\n",
              "      <td>NaT</td>\n",
              "      <td>2019-10-15</td>\n",
              "      <td>NaT</td>\n",
              "      <td>CANCELAMENTO AUTOMÁTICO</td>\n",
              "      <td>1</td>\n",
              "    </tr>\n",
              "    <tr>\n",
              "      <th>948</th>\n",
              "      <td>3.594639e+10</td>\n",
              "      <td>moacir marcos schuh</td>\n",
              "      <td>PP</td>\n",
              "      <td>RS</td>\n",
              "      <td>2000-09-23</td>\n",
              "      <td>CANCELADO</td>\n",
              "      <td>OFICIAL</td>\n",
              "      <td>NaT</td>\n",
              "      <td>2005-07-21</td>\n",
              "      <td>2019-10-15</td>\n",
              "      <td>NaT</td>\n",
              "      <td>CANCELAMENTO AUTOMÁTICO</td>\n",
              "      <td>1</td>\n",
              "    </tr>\n",
              "  </tbody>\n",
              "</table>\n",
              "</div>"
            ],
            "text/plain": [
              "      numero_da_inscricao  ... rotulo\n",
              "1138         1.408744e+10  ...      1\n",
              "923          2.063773e+10  ...      1\n",
              "191          1.512443e+10  ...      1\n",
              "1005         9.437852e+10  ...      1\n",
              "105          5.811562e+09  ...      1\n",
              "797          8.556594e+10  ...      1\n",
              "810          2.515779e+10  ...      1\n",
              "176          2.314142e+09  ...      1\n",
              "735          1.346177e+10  ...      1\n",
              "481          3.488875e+10  ...      1\n",
              "633          5.328904e+10  ...      1\n",
              "1140         1.119117e+11  ...      1\n",
              "793          1.002150e+10  ...      1\n",
              "1163         4.597240e+09  ...      1\n",
              "564          1.601262e+09  ...      1\n",
              "642          2.354666e+10  ...      1\n",
              "222          6.770141e+09  ...      1\n",
              "869          8.077261e+09  ...      1\n",
              "1017         1.773602e+09  ...      1\n",
              "49           4.931257e+10  ...      1\n",
              "1139         3.712597e+10  ...      1\n",
              "895          7.089858e+10  ...      1\n",
              "542          4.565423e+08  ...      1\n",
              "630          6.161046e+10  ...      1\n",
              "666          3.256413e+10  ...      1\n",
              "242          1.148275e+11  ...      1\n",
              "831          1.379841e+09  ...      1\n",
              "767          3.628600e+09  ...      1\n",
              "1087         2.357644e+10  ...      1\n",
              "948          3.594639e+10  ...      1\n",
              "\n",
              "[30 rows x 13 columns]"
            ]
          },
          "metadata": {
            "tags": []
          },
          "execution_count": 27
        }
      ]
    },
    {
      "cell_type": "code",
      "metadata": {
        "colab": {
          "base_uri": "https://localhost:8080/"
        },
        "id": "6b56103c",
        "outputId": "a8b803dc-836f-48ca-f6e0-062b6fd6cd14"
      },
      "source": [
        "df_train.columns"
      ],
      "id": "6b56103c",
      "execution_count": 28,
      "outputs": [
        {
          "output_type": "execute_result",
          "data": {
            "text/plain": [
              "Index(['numero_da_inscricao', 'nome_do_filiado', 'sigla_do_partido', 'uf',\n",
              "       'data_da_filiacao', 'situacao_do_registro', 'tipo_do_registro',\n",
              "       'data_do_processamento', 'data_da_desfiliacao', 'data_do_cancelamento',\n",
              "       'data_da_regularizacao', 'motivo_do_cancelamento', 'rotulo'],\n",
              "      dtype='object')"
            ]
          },
          "metadata": {
            "tags": []
          },
          "execution_count": 28
        }
      ]
    },
    {
      "cell_type": "code",
      "metadata": {
        "id": "9524674a"
      },
      "source": [
        "colunas_selecionadas = [\n",
        "    # Categoricos\n",
        "    'sigla_do_partido', \n",
        "    'uf',\n",
        "    'situacao_do_registro', 'tipo_do_registro','motivo_do_cancelamento',\n",
        "    \n",
        "    # Datas\n",
        "    'data_da_filiacao', \n",
        "    'data_da_desfiliacao', 'data_do_cancelamento',\n",
        "    \n",
        "    # Rotulo\n",
        "    'rotulo']"
      ],
      "id": "9524674a",
      "execution_count": 29,
      "outputs": []
    },
    {
      "cell_type": "code",
      "metadata": {
        "id": "8b9718ce"
      },
      "source": [
        "# Manter somente colunas selecionadas\n",
        "df_train = df_train[colunas_selecionadas]"
      ],
      "id": "8b9718ce",
      "execution_count": 30,
      "outputs": []
    },
    {
      "cell_type": "code",
      "metadata": {
        "id": "df1f0fda"
      },
      "source": [
        ""
      ],
      "id": "df1f0fda",
      "execution_count": null,
      "outputs": []
    },
    {
      "cell_type": "markdown",
      "metadata": {
        "id": "cfc99622"
      },
      "source": [
        "## Datas\n",
        "\n",
        "- data_da_filiacao\n",
        "- data_da_desfiliacao\n",
        "- data_do_cancelamento"
      ],
      "id": "cfc99622"
    },
    {
      "cell_type": "code",
      "metadata": {
        "colab": {
          "base_uri": "https://localhost:8080/"
        },
        "id": "68bb78cd",
        "outputId": "af65eea1-1d8d-4086-b156-7b93f8e8efa2"
      },
      "source": [
        "df_train.columns"
      ],
      "id": "68bb78cd",
      "execution_count": 31,
      "outputs": [
        {
          "output_type": "execute_result",
          "data": {
            "text/plain": [
              "Index(['sigla_do_partido', 'uf', 'situacao_do_registro', 'tipo_do_registro',\n",
              "       'motivo_do_cancelamento', 'data_da_filiacao', 'data_da_desfiliacao',\n",
              "       'data_do_cancelamento', 'rotulo'],\n",
              "      dtype='object')"
            ]
          },
          "metadata": {
            "tags": []
          },
          "execution_count": 31
        }
      ]
    },
    {
      "cell_type": "code",
      "metadata": {
        "id": "4ce4aa96"
      },
      "source": [
        "def merge_datas_finais(x):\n",
        "    '''\n",
        "    Analisa 'data_do_cancelamento' e 'data_da_desfiliacao'\n",
        "    - Se ambas existirem, pega mais recente\n",
        "    - Se apenas uma existir, retorna ela\n",
        "    - Se nenhuma existir, retorna None\n",
        "    '''\n",
        "    if not isinstance(x['data_do_cancelamento'], pd._libs.tslibs.nattype.NaTType) \\\n",
        "       and not isinstance(x['data_da_desfiliacao'], pd._libs.tslibs.nattype.NaTType): \n",
        "            if x['data_do_cancelamento'] >= x['data_da_desfiliacao']:\n",
        "                return x['data_do_cancelamento']\n",
        "            else:\n",
        "                return x.data_da_desfiliacao\n",
        "    elif isinstance(x['data_do_cancelamento'], pd._libs.tslibs.nattype.NaTType) \\\n",
        "       and not isinstance(x['data_da_desfiliacao'], pd._libs.tslibs.nattype.NaTType): \n",
        "        return x['data_da_desfiliacao']\n",
        "        \n",
        "    elif not isinstance(x['data_do_cancelamento'], pd._libs.tslibs.nattype.NaTType) \\\n",
        "       and isinstance(x['data_da_desfiliacao'], pd._libs.tslibs.nattype.NaTType): \n",
        "        return x['data_do_cancelamento']\n",
        "    \n",
        "    else:\n",
        "        return None\n",
        "    \n",
        "df_train['data_final'] = df_train.apply(lambda x: merge_datas_finais(x), axis=1)"
      ],
      "id": "4ce4aa96",
      "execution_count": 32,
      "outputs": []
    },
    {
      "cell_type": "code",
      "metadata": {
        "id": "c0c30ee5"
      },
      "source": [
        "def contar_dias(x):\n",
        "    '''\n",
        "    Conta dias entre 'data_da_filiacao' e a 'data_final'\n",
        "    - Caso data_final seja None, retorna NaN\n",
        "    - Caso nao exista data_da_filiacao, retorna NaN\n",
        "    - Ambos existindo, retorna diferenca em dias\n",
        "    '''\n",
        "    if x['data_final'] is None:\n",
        "        return np.NaN\n",
        "    else:\n",
        "        if isinstance(x['data_da_filiacao'], pd._libs.tslibs.nattype.NaTType):\n",
        "            return np.NaN\n",
        "        else:\n",
        "            delta = x['data_final'] - x['data_da_filiacao']\n",
        "            return delta.days\n",
        "\n",
        "df_train['nr_dias_filiado'] = df_train.apply(lambda x: contar_dias(x), axis=1)"
      ],
      "id": "c0c30ee5",
      "execution_count": 33,
      "outputs": []
    },
    {
      "cell_type": "code",
      "metadata": {
        "id": "4544dda3"
      },
      "source": [
        "def coluna_nao_nat(data):\n",
        "    '''\n",
        "    Se valor de data for invalido, retorna 0.\n",
        "    Caso seja valido, retorna 1.\n",
        "    '''\n",
        "    if isinstance(data, pd._libs.tslibs.nattype.NaTType):\n",
        "        return 0\n",
        "    else:\n",
        "        return 1\n",
        "\n",
        "df_train['bl_desfiliacao'] = df_train['data_da_desfiliacao'].apply(coluna_nao_nat)\n",
        "df_train['bl_cancelamento'] = df_train['data_do_cancelamento'].apply(coluna_nao_nat)"
      ],
      "id": "4544dda3",
      "execution_count": 35,
      "outputs": []
    },
    {
      "cell_type": "code",
      "metadata": {
        "id": "1f6c25cb"
      },
      "source": [
        "# Criar mes\n",
        "df_train['mes_filiacao'] = df_train.data_da_filiacao.dt.month\n",
        "df_train['mes_filiacao'].fillna(0, inplace=True)\n",
        "df_train['mes_filiacao'] = df_train['mes_filiacao'].astype('int')\n",
        "\n",
        "# Criar ano\n",
        "df_train['ano_filiacao'] = df_train.data_da_filiacao.dt.year % 2\n",
        "df_train['ano_filiacao'].fillna(0, inplace=True)\n",
        "df_train['ano_filiacao'] = df_train['ano_filiacao'].astype('int')"
      ],
      "id": "1f6c25cb",
      "execution_count": 36,
      "outputs": []
    },
    {
      "cell_type": "code",
      "metadata": {
        "id": "9c79fe97"
      },
      "source": [
        "# Remover colunas originais\n",
        "df_train.drop(columns=['data_da_filiacao', 'data_da_desfiliacao', 'data_do_cancelamento', 'data_final'], axis=1, inplace=True)"
      ],
      "id": "9c79fe97",
      "execution_count": 37,
      "outputs": []
    },
    {
      "cell_type": "code",
      "metadata": {
        "colab": {
          "base_uri": "https://localhost:8080/"
        },
        "id": "c75390b6",
        "outputId": "c2bd3f8a-b545-4ecf-cb40-d730302d5ba3"
      },
      "source": [
        "df_train.columns"
      ],
      "id": "c75390b6",
      "execution_count": 38,
      "outputs": [
        {
          "output_type": "execute_result",
          "data": {
            "text/plain": [
              "Index(['sigla_do_partido', 'uf', 'situacao_do_registro', 'tipo_do_registro',\n",
              "       'motivo_do_cancelamento', 'rotulo', 'nr_dias_filiado', 'bl_desfiliacao',\n",
              "       'bl_cancelamento', 'mes_filiacao', 'ano_filiacao'],\n",
              "      dtype='object')"
            ]
          },
          "metadata": {
            "tags": []
          },
          "execution_count": 38
        }
      ]
    },
    {
      "cell_type": "code",
      "metadata": {
        "id": "387c58b0"
      },
      "source": [
        ""
      ],
      "id": "387c58b0",
      "execution_count": null,
      "outputs": []
    },
    {
      "cell_type": "markdown",
      "metadata": {
        "id": "de8b7322"
      },
      "source": [
        "## Partido e UF\n",
        "\n",
        "- sigla_do_partido\n",
        "- uf"
      ],
      "id": "de8b7322"
    },
    {
      "cell_type": "code",
      "metadata": {
        "id": "243b9f80"
      },
      "source": [
        "def ver_diff_rotulo(coluna):\n",
        "    '''\n",
        "    Calcula proporcao de cada valor de coluna em relacao ao total\n",
        "    '''\n",
        "    # Quantidade de registros para cada coluna separado por rotulo\n",
        "    c = df_train.groupby([coluna, 'rotulo']).agg(prop=('rotulo', 'count'))\n",
        "    # Divide pelo total de cada rotulo (TOTAL GERAL)\n",
        "    df_c = pd.DataFrame(c/c.groupby(level=1).sum()).reset_index()\n",
        "    # Fazer merge para subtrair (~= pivotear)\n",
        "    df_d = pd.merge(df_c[df_c.rotulo==1], df_c[df_c.rotulo==0], on=coluna, how='right')\n",
        "    # Obtem diferenca das proporcoes entre rotulo=1 e rotulo=0\n",
        "    df_d['diff'] = df_d.prop_x - df_d.prop_y\n",
        "    # Normalizar 0-1\n",
        "    min_diff = min(df_d['diff'])\n",
        "    maxmin_diff = max(df_d['diff']) - min_diff\n",
        "    df_d['diff'] = df_d['diff'].apply(lambda x: (x - min_diff)/maxmin_diff)\n",
        "    # Ordena\n",
        "    df_d = df_d[[coluna,'diff']].sort_values('diff')\n",
        "    # Plota\n",
        "    sns.set(rc={'figure.figsize':(14.7,8.27)})\n",
        "    sns.barplot(x=coluna, y=\"diff\", data=df_d)\n",
        "    _ = plt.xticks(rotation=90)\n",
        "    \n",
        "    # Retorna DataFrame\n",
        "    return df_d"
      ],
      "id": "243b9f80",
      "execution_count": 46,
      "outputs": []
    },
    {
      "cell_type": "code",
      "metadata": {
        "colab": {
          "base_uri": "https://localhost:8080/",
          "height": 597
        },
        "id": "9a516bde",
        "outputId": "296cdecc-827d-47c8-dfa7-3f8ec86487f8"
      },
      "source": [
        "diff_sigla_do_partido = ver_diff_rotulo('sigla_do_partido')"
      ],
      "id": "9a516bde",
      "execution_count": 47,
      "outputs": [
        {
          "output_type": "display_data",
          "data": {
            "image/png": "[encoded data removed]",
            "text/plain": [
              "<Figure size 1058.4x595.44 with 1 Axes>"
            ]
          },
          "metadata": {
            "tags": []
          }
        }
      ]
    },
    {
      "cell_type": "code",
      "metadata": {
        "colab": {
          "base_uri": "https://localhost:8080/"
        },
        "id": "b2e06d51",
        "outputId": "6eacd09b-b811-41d7-aa62-9665a1aa4ac3"
      },
      "source": [
        "# Gerar dicionario para substituicao de PARTIDO por VALOR\n",
        "diff_sigla_do_partido.index = diff_sigla_do_partido.sigla_do_partido\n",
        "diff_sigla_do_partido = diff_sigla_do_partido['diff']\n",
        "diff_sigla_do_partido.fillna(0, inplace=True)\n",
        "diff_sigla_do_partido = diff_sigla_do_partido.to_dict()\n",
        "diff_sigla_do_partido"
      ],
      "id": "b2e06d51",
      "execution_count": 48,
      "outputs": [
        {
          "output_type": "execute_result",
          "data": {
            "text/plain": [
              "{'AVANTE': 0.4444744174254416,\n",
              " 'CIDADANIA': 0.5883795030985551,\n",
              " 'DC': 0.4919375706246683,\n",
              " 'DEM': 0.7845347549601712,\n",
              " 'MDB': 0.0,\n",
              " 'NOVO': 0.56381344458452,\n",
              " 'PATRIOTA': 0.5090322253228586,\n",
              " 'PCB': 0.0,\n",
              " 'PCDOB': 0.6541957042776877,\n",
              " 'PCO': 0.0,\n",
              " 'PDT': 0.54091515194813,\n",
              " 'PHS': 0.0,\n",
              " 'PL': 0.7048199239758387,\n",
              " 'PMB': 0.48460904971541024,\n",
              " 'PMN': 0.5332202757814344,\n",
              " 'PODE': 0.38853085878725513,\n",
              " 'PP': 0.31504733431899284,\n",
              " 'PROS': 0.5894950134736838,\n",
              " 'PRP': 0.0,\n",
              " 'PRTB': 0.5161619952378171,\n",
              " 'PSB': 0.546998130324893,\n",
              " 'PSC': 0.524619095080733,\n",
              " 'PSD': 0.3913697853184328,\n",
              " 'PSDB': 0.17245008464069722,\n",
              " 'PSL': 1.0,\n",
              " 'PSOL': 0.6358348151626643,\n",
              " 'PSTU': 0.534565683882024,\n",
              " 'PT': 0.9541214095224488,\n",
              " 'PTB': 0.11668436730316341,\n",
              " 'PTC': 0.5066737861269409,\n",
              " 'PV': 0.5703497930375947,\n",
              " 'REDE': 0.5369383895876695,\n",
              " 'REPUBLICANOS': 0.3384534493589,\n",
              " 'SOLIDARIEDADE': 0.4300498870440924,\n",
              " 'UP': 0.0}"
            ]
          },
          "metadata": {
            "tags": []
          },
          "execution_count": 48
        }
      ]
    },
    {
      "cell_type": "code",
      "metadata": {
        "id": "59702d66"
      },
      "source": [
        "# Substituir sigla_do_partido por VALOR consultando dicionario\n",
        "df_train.sigla_do_partido = df_train.sigla_do_partido.apply(lambda x: diff_sigla_do_partido.get(x,0))"
      ],
      "id": "59702d66",
      "execution_count": 49,
      "outputs": []
    },
    {
      "cell_type": "code",
      "metadata": {
        "id": "3deabf3d"
      },
      "source": [
        ""
      ],
      "id": "3deabf3d",
      "execution_count": null,
      "outputs": []
    },
    {
      "cell_type": "code",
      "metadata": {
        "colab": {
          "base_uri": "https://localhost:8080/",
          "height": 525
        },
        "id": "3c71c216",
        "outputId": "1c2859c2-03d6-4c0b-d155-36bc61d01718"
      },
      "source": [
        "diff_uf = ver_diff_rotulo('uf')"
      ],
      "id": "3c71c216",
      "execution_count": 50,
      "outputs": [
        {
          "output_type": "display_data",
          "data": {
            "image/png": "[encoded data removed]",
            "text/plain": [
              "<Figure size 1058.4x595.44 with 1 Axes>"
            ]
          },
          "metadata": {
            "tags": []
          }
        }
      ]
    },
    {
      "cell_type": "code",
      "metadata": {
        "colab": {
          "base_uri": "https://localhost:8080/"
        },
        "id": "13d7a5e1",
        "outputId": "19ffcb59-2d77-4c24-9852-ae4b7d58ce32"
      },
      "source": [
        "# Gerar dicionario para substituicao de UF por VALOR\n",
        "diff_uf.index = diff_uf.uf\n",
        "diff_uf = diff_uf['diff']\n",
        "diff_uf.fillna(0, inplace=True)\n",
        "diff_uf = diff_uf.to_dict()\n",
        "diff_uf"
      ],
      "id": "13d7a5e1",
      "execution_count": 51,
      "outputs": [
        {
          "output_type": "execute_result",
          "data": {
            "text/plain": [
              "{'AC': 0.5060137676898384,\n",
              " 'AL': 0.5339949490570423,\n",
              " 'AM': 0.610175634731232,\n",
              " 'AP': 0.7260694598448074,\n",
              " 'BA': 0.38642886400979665,\n",
              " 'CE': 0.49454926532558374,\n",
              " 'DF': 0.9080857380437889,\n",
              " 'ES': 0.48124426911693846,\n",
              " 'GO': 0.3758391047196174,\n",
              " 'MA': 0.5582461750907729,\n",
              " 'MG': 0.10666089346149399,\n",
              " 'MS': 0.605181599262398,\n",
              " 'MT': 0.6632149011199957,\n",
              " 'PA': 0.6155699205930172,\n",
              " 'PB': 0.5003524373471165,\n",
              " 'PE': 0.5167306593857136,\n",
              " 'PI': 0.4815509495531719,\n",
              " 'PR': 0.43916069077403713,\n",
              " 'RJ': 1.0,\n",
              " 'RN': 0.502036728200881,\n",
              " 'RO': 0.6481946771347766,\n",
              " 'RR': 0.6552807824675334,\n",
              " 'RS': 0.20550692409771504,\n",
              " 'SC': 0.37956229062417335,\n",
              " 'SE': 0.49549230371289577,\n",
              " 'SP': 0.0,\n",
              " 'TO': 0.5056980402598183,\n",
              " 'ZZ': 0.0}"
            ]
          },
          "metadata": {
            "tags": []
          },
          "execution_count": 51
        }
      ]
    },
    {
      "cell_type": "code",
      "metadata": {
        "id": "27cb81ec"
      },
      "source": [
        "# Substituir uf por VALOR consultando dicionario\n",
        "df_train.uf = df_train.uf.apply(lambda x: diff_uf.get(x,0))"
      ],
      "id": "27cb81ec",
      "execution_count": 52,
      "outputs": []
    },
    {
      "cell_type": "code",
      "metadata": {
        "id": "23e2f2d2"
      },
      "source": [
        ""
      ],
      "id": "23e2f2d2",
      "execution_count": null,
      "outputs": []
    },
    {
      "cell_type": "markdown",
      "metadata": {
        "id": "c6ef2f74"
      },
      "source": [
        "## Restantes\n",
        "\n",
        "- situacao_do_registro\n",
        "- tipo_do_registro\n",
        "- motivo_do_cancelamento"
      ],
      "id": "c6ef2f74"
    },
    {
      "cell_type": "code",
      "metadata": {
        "id": "41d4efa0"
      },
      "source": [
        "colunas_dummy = ['situacao_do_registro', 'tipo_do_registro', 'motivo_do_cancelamento']"
      ],
      "id": "41d4efa0",
      "execution_count": 53,
      "outputs": []
    },
    {
      "cell_type": "code",
      "metadata": {
        "id": "04bf648a"
      },
      "source": [
        "# Limpar valores das colunas dummy: Virarao nomes das colunas\n",
        "for col in colunas_dummy:\n",
        "    df_train[col] = df_train[col].apply(lambda x: limpar_texto(str(x)).replace(\" \", \"_\"))"
      ],
      "id": "04bf648a",
      "execution_count": 54,
      "outputs": []
    },
    {
      "cell_type": "code",
      "metadata": {
        "id": "b7039bcd"
      },
      "source": [
        "# Obter one-hot encoding SOMENTE para colunas dummy\n",
        "df_dummy = pd.get_dummies(df_train[colunas_dummy])"
      ],
      "id": "b7039bcd",
      "execution_count": 55,
      "outputs": []
    },
    {
      "cell_type": "code",
      "metadata": {
        "colab": {
          "base_uri": "https://localhost:8080/"
        },
        "id": "0bb318f2",
        "outputId": "fd0cef81-9162-4976-a39a-71f2272ea635"
      },
      "source": [
        "df_dummy.shape"
      ],
      "id": "0bb318f2",
      "execution_count": 56,
      "outputs": [
        {
          "output_type": "execute_result",
          "data": {
            "text/plain": [
              "(198277, 10)"
            ]
          },
          "metadata": {
            "tags": []
          },
          "execution_count": 56
        }
      ]
    },
    {
      "cell_type": "code",
      "metadata": {
        "colab": {
          "base_uri": "https://localhost:8080/",
          "height": 224
        },
        "id": "23ca5dc7",
        "outputId": "b5908c59-2cc8-49ff-f70e-fd7e80f91288"
      },
      "source": [
        "df_dummy.head()"
      ],
      "id": "23ca5dc7",
      "execution_count": 57,
      "outputs": [
        {
          "output_type": "execute_result",
          "data": {
            "text/html": [
              "<div>\n",
              "<style scoped>\n",
              "    .dataframe tbody tr th:only-of-type {\n",
              "        vertical-align: middle;\n",
              "    }\n",
              "\n",
              "    .dataframe tbody tr th {\n",
              "        vertical-align: top;\n",
              "    }\n",
              "\n",
              "    .dataframe thead th {\n",
              "        text-align: right;\n",
              "    }\n",
              "</style>\n",
              "<table border=\"1\" class=\"dataframe\">\n",
              "  <thead>\n",
              "    <tr style=\"text-align: right;\">\n",
              "      <th></th>\n",
              "      <th>situacao_do_registro_cancelado</th>\n",
              "      <th>situacao_do_registro_desfiliado</th>\n",
              "      <th>situacao_do_registro_regular</th>\n",
              "      <th>situacao_do_registro_sub_judice</th>\n",
              "      <th>tipo_do_registro_oficial</th>\n",
              "      <th>motivo_do_cancelamento_a_pedido_do_eleitor</th>\n",
              "      <th>motivo_do_cancelamento_a_pedido_do_partido</th>\n",
              "      <th>motivo_do_cancelamento_cancelamento_automatico</th>\n",
              "      <th>motivo_do_cancelamento_judicial</th>\n",
              "      <th>motivo_do_cancelamento_nan</th>\n",
              "    </tr>\n",
              "  </thead>\n",
              "  <tbody>\n",
              "    <tr>\n",
              "      <th>1138</th>\n",
              "      <td>0</td>\n",
              "      <td>0</td>\n",
              "      <td>1</td>\n",
              "      <td>0</td>\n",
              "      <td>1</td>\n",
              "      <td>0</td>\n",
              "      <td>0</td>\n",
              "      <td>0</td>\n",
              "      <td>0</td>\n",
              "      <td>1</td>\n",
              "    </tr>\n",
              "    <tr>\n",
              "      <th>923</th>\n",
              "      <td>0</td>\n",
              "      <td>0</td>\n",
              "      <td>1</td>\n",
              "      <td>0</td>\n",
              "      <td>1</td>\n",
              "      <td>0</td>\n",
              "      <td>0</td>\n",
              "      <td>0</td>\n",
              "      <td>0</td>\n",
              "      <td>1</td>\n",
              "    </tr>\n",
              "    <tr>\n",
              "      <th>191</th>\n",
              "      <td>1</td>\n",
              "      <td>0</td>\n",
              "      <td>0</td>\n",
              "      <td>0</td>\n",
              "      <td>1</td>\n",
              "      <td>0</td>\n",
              "      <td>0</td>\n",
              "      <td>1</td>\n",
              "      <td>0</td>\n",
              "      <td>0</td>\n",
              "    </tr>\n",
              "    <tr>\n",
              "      <th>1005</th>\n",
              "      <td>0</td>\n",
              "      <td>0</td>\n",
              "      <td>1</td>\n",
              "      <td>0</td>\n",
              "      <td>1</td>\n",
              "      <td>0</td>\n",
              "      <td>0</td>\n",
              "      <td>0</td>\n",
              "      <td>0</td>\n",
              "      <td>1</td>\n",
              "    </tr>\n",
              "    <tr>\n",
              "      <th>105</th>\n",
              "      <td>1</td>\n",
              "      <td>0</td>\n",
              "      <td>0</td>\n",
              "      <td>0</td>\n",
              "      <td>1</td>\n",
              "      <td>0</td>\n",
              "      <td>0</td>\n",
              "      <td>1</td>\n",
              "      <td>0</td>\n",
              "      <td>0</td>\n",
              "    </tr>\n",
              "  </tbody>\n",
              "</table>\n",
              "</div>"
            ],
            "text/plain": [
              "      situacao_do_registro_cancelado  ...  motivo_do_cancelamento_nan\n",
              "1138                               0  ...                           1\n",
              "923                                0  ...                           1\n",
              "191                                1  ...                           0\n",
              "1005                               0  ...                           1\n",
              "105                                1  ...                           0\n",
              "\n",
              "[5 rows x 10 columns]"
            ]
          },
          "metadata": {
            "tags": []
          },
          "execution_count": 57
        }
      ]
    },
    {
      "cell_type": "code",
      "metadata": {
        "id": "25b383fa"
      },
      "source": [
        "# Juntar colunas_dummy com colunas restantes\n",
        "colunas_nao_dummy = list(set(df_train.columns) - set(colunas_dummy))\n",
        "df_train = pd.concat([df_dummy, df_train[colunas_nao_dummy]], axis=1)"
      ],
      "id": "25b383fa",
      "execution_count": 58,
      "outputs": []
    },
    {
      "cell_type": "code",
      "metadata": {
        "colab": {
          "base_uri": "https://localhost:8080/"
        },
        "id": "8b89a894",
        "outputId": "7f90a6e9-2f20-4891-fb80-fcddd121fd87"
      },
      "source": [
        "df_train.shape"
      ],
      "id": "8b89a894",
      "execution_count": 59,
      "outputs": [
        {
          "output_type": "execute_result",
          "data": {
            "text/plain": [
              "(198277, 18)"
            ]
          },
          "metadata": {
            "tags": []
          },
          "execution_count": 59
        }
      ]
    },
    {
      "cell_type": "code",
      "metadata": {
        "colab": {
          "base_uri": "https://localhost:8080/",
          "height": 224
        },
        "id": "b4a527fe",
        "outputId": "79a05822-a788-4d56-c053-f4e55ae553a3"
      },
      "source": [
        "df_train.head()"
      ],
      "id": "b4a527fe",
      "execution_count": 60,
      "outputs": [
        {
          "output_type": "execute_result",
          "data": {
            "text/html": [
              "<div>\n",
              "<style scoped>\n",
              "    .dataframe tbody tr th:only-of-type {\n",
              "        vertical-align: middle;\n",
              "    }\n",
              "\n",
              "    .dataframe tbody tr th {\n",
              "        vertical-align: top;\n",
              "    }\n",
              "\n",
              "    .dataframe thead th {\n",
              "        text-align: right;\n",
              "    }\n",
              "</style>\n",
              "<table border=\"1\" class=\"dataframe\">\n",
              "  <thead>\n",
              "    <tr style=\"text-align: right;\">\n",
              "      <th></th>\n",
              "      <th>situacao_do_registro_cancelado</th>\n",
              "      <th>situacao_do_registro_desfiliado</th>\n",
              "      <th>situacao_do_registro_regular</th>\n",
              "      <th>situacao_do_registro_sub_judice</th>\n",
              "      <th>tipo_do_registro_oficial</th>\n",
              "      <th>motivo_do_cancelamento_a_pedido_do_eleitor</th>\n",
              "      <th>motivo_do_cancelamento_a_pedido_do_partido</th>\n",
              "      <th>motivo_do_cancelamento_cancelamento_automatico</th>\n",
              "      <th>motivo_do_cancelamento_judicial</th>\n",
              "      <th>motivo_do_cancelamento_nan</th>\n",
              "      <th>mes_filiacao</th>\n",
              "      <th>nr_dias_filiado</th>\n",
              "      <th>ano_filiacao</th>\n",
              "      <th>sigla_do_partido</th>\n",
              "      <th>bl_desfiliacao</th>\n",
              "      <th>bl_cancelamento</th>\n",
              "      <th>rotulo</th>\n",
              "      <th>uf</th>\n",
              "    </tr>\n",
              "  </thead>\n",
              "  <tbody>\n",
              "    <tr>\n",
              "      <th>1138</th>\n",
              "      <td>0</td>\n",
              "      <td>0</td>\n",
              "      <td>1</td>\n",
              "      <td>0</td>\n",
              "      <td>1</td>\n",
              "      <td>0</td>\n",
              "      <td>0</td>\n",
              "      <td>0</td>\n",
              "      <td>0</td>\n",
              "      <td>1</td>\n",
              "      <td>1</td>\n",
              "      <td>NaN</td>\n",
              "      <td>0</td>\n",
              "      <td>0.570350</td>\n",
              "      <td>0</td>\n",
              "      <td>0</td>\n",
              "      <td>1</td>\n",
              "      <td>0.386429</td>\n",
              "    </tr>\n",
              "    <tr>\n",
              "      <th>923</th>\n",
              "      <td>0</td>\n",
              "      <td>0</td>\n",
              "      <td>1</td>\n",
              "      <td>0</td>\n",
              "      <td>1</td>\n",
              "      <td>0</td>\n",
              "      <td>0</td>\n",
              "      <td>0</td>\n",
              "      <td>0</td>\n",
              "      <td>1</td>\n",
              "      <td>1</td>\n",
              "      <td>NaN</td>\n",
              "      <td>0</td>\n",
              "      <td>0.704820</td>\n",
              "      <td>0</td>\n",
              "      <td>0</td>\n",
              "      <td>1</td>\n",
              "      <td>0.663215</td>\n",
              "    </tr>\n",
              "    <tr>\n",
              "      <th>191</th>\n",
              "      <td>1</td>\n",
              "      <td>0</td>\n",
              "      <td>0</td>\n",
              "      <td>0</td>\n",
              "      <td>1</td>\n",
              "      <td>0</td>\n",
              "      <td>0</td>\n",
              "      <td>1</td>\n",
              "      <td>0</td>\n",
              "      <td>0</td>\n",
              "      <td>9</td>\n",
              "      <td>2959.0</td>\n",
              "      <td>1</td>\n",
              "      <td>0.000000</td>\n",
              "      <td>0</td>\n",
              "      <td>1</td>\n",
              "      <td>1</td>\n",
              "      <td>0.516731</td>\n",
              "    </tr>\n",
              "    <tr>\n",
              "      <th>1005</th>\n",
              "      <td>0</td>\n",
              "      <td>0</td>\n",
              "      <td>1</td>\n",
              "      <td>0</td>\n",
              "      <td>1</td>\n",
              "      <td>0</td>\n",
              "      <td>0</td>\n",
              "      <td>0</td>\n",
              "      <td>0</td>\n",
              "      <td>1</td>\n",
              "      <td>3</td>\n",
              "      <td>NaN</td>\n",
              "      <td>1</td>\n",
              "      <td>0.635835</td>\n",
              "      <td>0</td>\n",
              "      <td>0</td>\n",
              "      <td>1</td>\n",
              "      <td>1.000000</td>\n",
              "    </tr>\n",
              "    <tr>\n",
              "      <th>105</th>\n",
              "      <td>1</td>\n",
              "      <td>0</td>\n",
              "      <td>0</td>\n",
              "      <td>0</td>\n",
              "      <td>1</td>\n",
              "      <td>0</td>\n",
              "      <td>0</td>\n",
              "      <td>1</td>\n",
              "      <td>0</td>\n",
              "      <td>0</td>\n",
              "      <td>4</td>\n",
              "      <td>10049.0</td>\n",
              "      <td>0</td>\n",
              "      <td>0.524619</td>\n",
              "      <td>1</td>\n",
              "      <td>1</td>\n",
              "      <td>1</td>\n",
              "      <td>0.610176</td>\n",
              "    </tr>\n",
              "  </tbody>\n",
              "</table>\n",
              "</div>"
            ],
            "text/plain": [
              "      situacao_do_registro_cancelado  ...        uf\n",
              "1138                               0  ...  0.386429\n",
              "923                                0  ...  0.663215\n",
              "191                                1  ...  0.516731\n",
              "1005                               0  ...  1.000000\n",
              "105                                1  ...  0.610176\n",
              "\n",
              "[5 rows x 18 columns]"
            ]
          },
          "metadata": {
            "tags": []
          },
          "execution_count": 60
        }
      ]
    },
    {
      "cell_type": "code",
      "metadata": {
        "colab": {
          "base_uri": "https://localhost:8080/"
        },
        "id": "c14440f7",
        "outputId": "d7031c08-ca38-4a44-fae8-63efbc185fe0"
      },
      "source": [
        "df_train.info()"
      ],
      "id": "c14440f7",
      "execution_count": 61,
      "outputs": [
        {
          "output_type": "stream",
          "text": [
            "<class 'pandas.core.frame.DataFrame'>\n",
            "Int64Index: 198277 entries, 1138 to 23327028\n",
            "Data columns (total 18 columns):\n",
            " #   Column                                          Non-Null Count   Dtype  \n",
            "---  ------                                          --------------   -----  \n",
            " 0   situacao_do_registro_cancelado                  198277 non-null  uint8  \n",
            " 1   situacao_do_registro_desfiliado                 198277 non-null  uint8  \n",
            " 2   situacao_do_registro_regular                    198277 non-null  uint8  \n",
            " 3   situacao_do_registro_sub_judice                 198277 non-null  uint8  \n",
            " 4   tipo_do_registro_oficial                        198277 non-null  uint8  \n",
            " 5   motivo_do_cancelamento_a_pedido_do_eleitor      198277 non-null  uint8  \n",
            " 6   motivo_do_cancelamento_a_pedido_do_partido      198277 non-null  uint8  \n",
            " 7   motivo_do_cancelamento_cancelamento_automatico  198277 non-null  uint8  \n",
            " 8   motivo_do_cancelamento_judicial                 198277 non-null  uint8  \n",
            " 9   motivo_do_cancelamento_nan                      198277 non-null  uint8  \n",
            " 10  mes_filiacao                                    198277 non-null  int64  \n",
            " 11  nr_dias_filiado                                 59301 non-null   float64\n",
            " 12  ano_filiacao                                    198277 non-null  int64  \n",
            " 13  sigla_do_partido                                198277 non-null  float64\n",
            " 14  bl_desfiliacao                                  198277 non-null  int64  \n",
            " 15  bl_cancelamento                                 198277 non-null  int64  \n",
            " 16  rotulo                                          198277 non-null  int64  \n",
            " 17  uf                                              198277 non-null  float64\n",
            "dtypes: float64(3), int64(5), uint8(10)\n",
            "memory usage: 20.5 MB\n"
          ],
          "name": "stdout"
        }
      ]
    },
    {
      "cell_type": "markdown",
      "metadata": {
        "id": "813b6217"
      },
      "source": [
        "## Imputar valores em nr_dias_filiado"
      ],
      "id": "813b6217"
    },
    {
      "cell_type": "code",
      "metadata": {
        "id": "484245ee"
      },
      "source": [
        "from sklearn.experimental import enable_iterative_imputer\n",
        "from sklearn.impute import IterativeImputer\n",
        "\n",
        "# Aprender imputacao a partir dos dados de TREINO\n",
        "impute_dias = IterativeImputer(max_iter=10, random_state=0)\n",
        "impute_dias.fit(df_train)\n",
        "\n",
        "# Imputar dados de TREINO\n",
        "transformed = impute_dias.transform(df_train)"
      ],
      "id": "484245ee",
      "execution_count": 63,
      "outputs": []
    },
    {
      "cell_type": "code",
      "metadata": {
        "colab": {
          "base_uri": "https://localhost:8080/"
        },
        "id": "b9c43e2c",
        "outputId": "9b7140e4-0d49-4d03-9f7f-58d07f1e4722"
      },
      "source": [
        "# Gerar DataFrame com dados imputados\n",
        "df_train = pd.DataFrame(data=transformed, columns=df_train.columns)\n",
        "df_train.info()"
      ],
      "id": "b9c43e2c",
      "execution_count": 64,
      "outputs": [
        {
          "output_type": "stream",
          "text": [
            "<class 'pandas.core.frame.DataFrame'>\n",
            "RangeIndex: 198277 entries, 0 to 198276\n",
            "Data columns (total 18 columns):\n",
            " #   Column                                          Non-Null Count   Dtype  \n",
            "---  ------                                          --------------   -----  \n",
            " 0   situacao_do_registro_cancelado                  198277 non-null  float64\n",
            " 1   situacao_do_registro_desfiliado                 198277 non-null  float64\n",
            " 2   situacao_do_registro_regular                    198277 non-null  float64\n",
            " 3   situacao_do_registro_sub_judice                 198277 non-null  float64\n",
            " 4   tipo_do_registro_oficial                        198277 non-null  float64\n",
            " 5   motivo_do_cancelamento_a_pedido_do_eleitor      198277 non-null  float64\n",
            " 6   motivo_do_cancelamento_a_pedido_do_partido      198277 non-null  float64\n",
            " 7   motivo_do_cancelamento_cancelamento_automatico  198277 non-null  float64\n",
            " 8   motivo_do_cancelamento_judicial                 198277 non-null  float64\n",
            " 9   motivo_do_cancelamento_nan                      198277 non-null  float64\n",
            " 10  mes_filiacao                                    198277 non-null  float64\n",
            " 11  nr_dias_filiado                                 198277 non-null  float64\n",
            " 12  ano_filiacao                                    198277 non-null  float64\n",
            " 13  sigla_do_partido                                198277 non-null  float64\n",
            " 14  bl_desfiliacao                                  198277 non-null  float64\n",
            " 15  bl_cancelamento                                 198277 non-null  float64\n",
            " 16  rotulo                                          198277 non-null  float64\n",
            " 17  uf                                              198277 non-null  float64\n",
            "dtypes: float64(18)\n",
            "memory usage: 27.2 MB\n"
          ],
          "name": "stdout"
        }
      ]
    },
    {
      "cell_type": "code",
      "metadata": {
        "colab": {
          "base_uri": "https://localhost:8080/"
        },
        "id": "80f54b93",
        "outputId": "79b7dc95-e932-4120-ca6c-876ea25b62c5"
      },
      "source": [
        "df_train.nr_dias_filiado.describe()"
      ],
      "id": "80f54b93",
      "execution_count": 65,
      "outputs": [
        {
          "output_type": "execute_result",
          "data": {
            "text/plain": [
              "count    198277.000000\n",
              "mean       4219.338732\n",
              "std        2799.292838\n",
              "min       -5562.000000\n",
              "25%        3257.925942\n",
              "50%        3951.681343\n",
              "75%        4598.976176\n",
              "max       75617.000000\n",
              "Name: nr_dias_filiado, dtype: float64"
            ]
          },
          "metadata": {
            "tags": []
          },
          "execution_count": 65
        }
      ]
    },
    {
      "cell_type": "code",
      "metadata": {
        "id": "68a32e50"
      },
      "source": [
        "# NORMALIZAR\n",
        "min_norm_nr_dias = df_train.nr_dias_filiado.min()\n",
        "max_norm_nr_dias = df_train.nr_dias_filiado.max()\n",
        "\n",
        "def normalizar_nr_dias(coluna):\n",
        "    return (coluna - min_norm_nr_dias) / (max_norm_nr_dias-min_norm_nr_dias)\n",
        "\n",
        "df_train.nr_dias_filiado = df_train.nr_dias_filiado.apply(normalizar_nr_dias)"
      ],
      "id": "68a32e50",
      "execution_count": 66,
      "outputs": []
    },
    {
      "cell_type": "code",
      "metadata": {
        "colab": {
          "base_uri": "https://localhost:8080/"
        },
        "id": "0a964766",
        "outputId": "c2cc6bc0-bef0-4d8e-abd4-108da9122278"
      },
      "source": [
        "df_train.nr_dias_filiado.describe()"
      ],
      "id": "0a964766",
      "execution_count": 67,
      "outputs": [
        {
          "output_type": "execute_result",
          "data": {
            "text/plain": [
              "count    198277.000000\n",
              "mean          0.120491\n",
              "std           0.034483\n",
              "min           0.000000\n",
              "25%           0.108648\n",
              "50%           0.117194\n",
              "75%           0.125168\n",
              "max           1.000000\n",
              "Name: nr_dias_filiado, dtype: float64"
            ]
          },
          "metadata": {
            "tags": []
          },
          "execution_count": 67
        }
      ]
    },
    {
      "cell_type": "markdown",
      "metadata": {
        "id": "338a84f9"
      },
      "source": [
        "# Selecionar atributos"
      ],
      "id": "338a84f9"
    },
    {
      "cell_type": "code",
      "metadata": {
        "colab": {
          "base_uri": "https://localhost:8080/",
          "height": 224
        },
        "id": "eccedc7d",
        "outputId": "88ece5bf-0401-457a-f687-df471eeff499"
      },
      "source": [
        "df_train.head()"
      ],
      "id": "eccedc7d",
      "execution_count": 68,
      "outputs": [
        {
          "output_type": "execute_result",
          "data": {
            "text/html": [
              "<div>\n",
              "<style scoped>\n",
              "    .dataframe tbody tr th:only-of-type {\n",
              "        vertical-align: middle;\n",
              "    }\n",
              "\n",
              "    .dataframe tbody tr th {\n",
              "        vertical-align: top;\n",
              "    }\n",
              "\n",
              "    .dataframe thead th {\n",
              "        text-align: right;\n",
              "    }\n",
              "</style>\n",
              "<table border=\"1\" class=\"dataframe\">\n",
              "  <thead>\n",
              "    <tr style=\"text-align: right;\">\n",
              "      <th></th>\n",
              "      <th>situacao_do_registro_cancelado</th>\n",
              "      <th>situacao_do_registro_desfiliado</th>\n",
              "      <th>situacao_do_registro_regular</th>\n",
              "      <th>situacao_do_registro_sub_judice</th>\n",
              "      <th>tipo_do_registro_oficial</th>\n",
              "      <th>motivo_do_cancelamento_a_pedido_do_eleitor</th>\n",
              "      <th>motivo_do_cancelamento_a_pedido_do_partido</th>\n",
              "      <th>motivo_do_cancelamento_cancelamento_automatico</th>\n",
              "      <th>motivo_do_cancelamento_judicial</th>\n",
              "      <th>motivo_do_cancelamento_nan</th>\n",
              "      <th>mes_filiacao</th>\n",
              "      <th>nr_dias_filiado</th>\n",
              "      <th>ano_filiacao</th>\n",
              "      <th>sigla_do_partido</th>\n",
              "      <th>bl_desfiliacao</th>\n",
              "      <th>bl_cancelamento</th>\n",
              "      <th>rotulo</th>\n",
              "      <th>uf</th>\n",
              "    </tr>\n",
              "  </thead>\n",
              "  <tbody>\n",
              "    <tr>\n",
              "      <th>0</th>\n",
              "      <td>0.0</td>\n",
              "      <td>0.0</td>\n",
              "      <td>1.0</td>\n",
              "      <td>0.0</td>\n",
              "      <td>1.0</td>\n",
              "      <td>0.0</td>\n",
              "      <td>0.0</td>\n",
              "      <td>0.0</td>\n",
              "      <td>0.0</td>\n",
              "      <td>1.0</td>\n",
              "      <td>1.0</td>\n",
              "      <td>0.125196</td>\n",
              "      <td>0.0</td>\n",
              "      <td>0.570350</td>\n",
              "      <td>0.0</td>\n",
              "      <td>0.0</td>\n",
              "      <td>1.0</td>\n",
              "      <td>0.386429</td>\n",
              "    </tr>\n",
              "    <tr>\n",
              "      <th>1</th>\n",
              "      <td>0.0</td>\n",
              "      <td>0.0</td>\n",
              "      <td>1.0</td>\n",
              "      <td>0.0</td>\n",
              "      <td>1.0</td>\n",
              "      <td>0.0</td>\n",
              "      <td>0.0</td>\n",
              "      <td>0.0</td>\n",
              "      <td>0.0</td>\n",
              "      <td>1.0</td>\n",
              "      <td>1.0</td>\n",
              "      <td>0.120311</td>\n",
              "      <td>0.0</td>\n",
              "      <td>0.704820</td>\n",
              "      <td>0.0</td>\n",
              "      <td>0.0</td>\n",
              "      <td>1.0</td>\n",
              "      <td>0.663215</td>\n",
              "    </tr>\n",
              "    <tr>\n",
              "      <th>2</th>\n",
              "      <td>1.0</td>\n",
              "      <td>0.0</td>\n",
              "      <td>0.0</td>\n",
              "      <td>0.0</td>\n",
              "      <td>1.0</td>\n",
              "      <td>0.0</td>\n",
              "      <td>0.0</td>\n",
              "      <td>1.0</td>\n",
              "      <td>0.0</td>\n",
              "      <td>0.0</td>\n",
              "      <td>9.0</td>\n",
              "      <td>0.104966</td>\n",
              "      <td>1.0</td>\n",
              "      <td>0.000000</td>\n",
              "      <td>0.0</td>\n",
              "      <td>1.0</td>\n",
              "      <td>1.0</td>\n",
              "      <td>0.516731</td>\n",
              "    </tr>\n",
              "    <tr>\n",
              "      <th>3</th>\n",
              "      <td>0.0</td>\n",
              "      <td>0.0</td>\n",
              "      <td>1.0</td>\n",
              "      <td>0.0</td>\n",
              "      <td>1.0</td>\n",
              "      <td>0.0</td>\n",
              "      <td>0.0</td>\n",
              "      <td>0.0</td>\n",
              "      <td>0.0</td>\n",
              "      <td>1.0</td>\n",
              "      <td>3.0</td>\n",
              "      <td>0.113845</td>\n",
              "      <td>1.0</td>\n",
              "      <td>0.635835</td>\n",
              "      <td>0.0</td>\n",
              "      <td>0.0</td>\n",
              "      <td>1.0</td>\n",
              "      <td>1.000000</td>\n",
              "    </tr>\n",
              "    <tr>\n",
              "      <th>4</th>\n",
              "      <td>1.0</td>\n",
              "      <td>0.0</td>\n",
              "      <td>0.0</td>\n",
              "      <td>0.0</td>\n",
              "      <td>1.0</td>\n",
              "      <td>0.0</td>\n",
              "      <td>0.0</td>\n",
              "      <td>1.0</td>\n",
              "      <td>0.0</td>\n",
              "      <td>0.0</td>\n",
              "      <td>4.0</td>\n",
              "      <td>0.192303</td>\n",
              "      <td>0.0</td>\n",
              "      <td>0.524619</td>\n",
              "      <td>1.0</td>\n",
              "      <td>1.0</td>\n",
              "      <td>1.0</td>\n",
              "      <td>0.610176</td>\n",
              "    </tr>\n",
              "  </tbody>\n",
              "</table>\n",
              "</div>"
            ],
            "text/plain": [
              "   situacao_do_registro_cancelado  ...        uf\n",
              "0                             0.0  ...  0.386429\n",
              "1                             0.0  ...  0.663215\n",
              "2                             1.0  ...  0.516731\n",
              "3                             0.0  ...  1.000000\n",
              "4                             1.0  ...  0.610176\n",
              "\n",
              "[5 rows x 18 columns]"
            ]
          },
          "metadata": {
            "tags": []
          },
          "execution_count": 68
        }
      ]
    },
    {
      "cell_type": "code",
      "metadata": {
        "id": "df5b866c"
      },
      "source": [
        "from sklearn.feature_selection import SelectKBest\n",
        "from sklearn.feature_selection import chi2\n",
        "\n",
        "fs_chi2 = SelectKBest(score_func=chi2, k='all')\n",
        "\n",
        "# Analise de Atributos nos dados de Treino\n",
        "fs_chi2.fit(df_train.loc[:,df_train.columns != 'rotulo'], df_train.rotulo)"
      ],
      "id": "df5b866c",
      "execution_count": 69,
      "outputs": []
    },
    {
      "cell_type": "code",
      "metadata": {
        "colab": {
          "base_uri": "https://localhost:8080/",
          "height": 1000
        },
        "id": "da030c2c",
        "outputId": "0e6b5a4e-2c84-4eb3-e52c-cb8a6c385f1b"
      },
      "source": [
        "from matplotlib import pyplot\n",
        "\n",
        "scores = [fs_chi2.scores_[i] for i in range(len(fs_chi2.scores_))]\n",
        "colunas = [df_train.columns[1:][i] for i in range(len(fs_chi2.scores_))]\n",
        "\n",
        "colunas_finais = []\n",
        "\n",
        "for i, score in enumerate(scores):\n",
        "    if score > 0.05:\n",
        "        print('Atributo: %s: %f -- IN' % (colunas[i], score))\n",
        "        colunas_finais.append(colunas[i])\n",
        "    else:\n",
        "        print('Atributo: %s: %f -- OUT' % (colunas[i], score))\n",
        "\n",
        "# plot the scores\n",
        "pyplot.bar(colunas, scores)\n",
        "pyplot.xticks(rotation=90)\n",
        "pyplot.show()"
      ],
      "id": "da030c2c",
      "execution_count": 84,
      "outputs": [
        {
          "output_type": "stream",
          "text": [
            "Atributo: situacao_do_registro_desfiliado: 20.716242 -- IN\n",
            "Atributo: situacao_do_registro_regular: 5.653615 -- IN\n",
            "Atributo: situacao_do_registro_sub_judice: 13.831126 -- IN\n",
            "Atributo: tipo_do_registro_oficial: 0.048347 -- OUT\n",
            "Atributo: motivo_do_cancelamento_a_pedido_do_eleitor: 0.000000 -- OUT\n",
            "Atributo: motivo_do_cancelamento_a_pedido_do_partido: 15.009217 -- IN\n",
            "Atributo: motivo_do_cancelamento_cancelamento_automatico: 2.427026 -- IN\n",
            "Atributo: motivo_do_cancelamento_judicial: 79.205195 -- IN\n",
            "Atributo: motivo_do_cancelamento_nan: 1.662131 -- IN\n",
            "Atributo: mes_filiacao: 19.000368 -- IN\n",
            "Atributo: nr_dias_filiado: 0.276492 -- IN\n",
            "Atributo: ano_filiacao: 0.003351 -- OUT\n",
            "Atributo: sigla_do_partido: 0.070024 -- IN\n",
            "Atributo: bl_desfiliacao: 7.981234 -- IN\n",
            "Atributo: bl_cancelamento: 33.343051 -- IN\n",
            "Atributo: rotulo: 39.939067 -- IN\n",
            "Atributo: uf: 89.343190 -- IN\n"
          ],
          "name": "stdout"
        },
        {
          "output_type": "display_data",
          "data": {
            "image/png": "[encoded data removed]",
            "text/plain": [
              "<Figure size 1058.4x595.44 with 1 Axes>"
            ]
          },
          "metadata": {
            "tags": []
          }
        }
      ]
    },
    {
      "cell_type": "code",
      "metadata": {
        "colab": {
          "base_uri": "https://localhost:8080/"
        },
        "id": "xu7g-7ZH7wou",
        "outputId": "d10c1fb1-17cd-4429-868f-2443dcd618f2"
      },
      "source": [
        "colunas_finais"
      ],
      "id": "xu7g-7ZH7wou",
      "execution_count": 85,
      "outputs": [
        {
          "output_type": "execute_result",
          "data": {
            "text/plain": [
              "['situacao_do_registro_desfiliado',\n",
              " 'situacao_do_registro_regular',\n",
              " 'situacao_do_registro_sub_judice',\n",
              " 'motivo_do_cancelamento_a_pedido_do_partido',\n",
              " 'motivo_do_cancelamento_cancelamento_automatico',\n",
              " 'motivo_do_cancelamento_judicial',\n",
              " 'motivo_do_cancelamento_nan',\n",
              " 'mes_filiacao',\n",
              " 'nr_dias_filiado',\n",
              " 'sigla_do_partido',\n",
              " 'bl_desfiliacao',\n",
              " 'bl_cancelamento',\n",
              " 'rotulo',\n",
              " 'uf']"
            ]
          },
          "metadata": {
            "tags": []
          },
          "execution_count": 85
        }
      ]
    },
    {
      "cell_type": "code",
      "metadata": {
        "colab": {
          "base_uri": "https://localhost:8080/",
          "height": 790
        },
        "id": "57c711f7",
        "outputId": "9cc02611-fc5b-4105-ca11-807f73c47e79"
      },
      "source": [
        "# Matrix de Correlacao (valores absolutos)\n",
        "corr_matrix = df_train[colunas_finais].corr().abs()\n",
        "\n",
        "# Plotar\n",
        "f, ax = plt.subplots(figsize=(10, 8))\n",
        "sns.heatmap(corr_matrix, mask=np.zeros_like(corr_matrix, dtype=np.bool), cmap=sns.diverging_palette(220, 10, as_cmap=True),\n",
        "            square=True, ax=ax)"
      ],
      "id": "57c711f7",
      "execution_count": 87,
      "outputs": [
        {
          "output_type": "execute_result",
          "data": {
            "text/plain": [
              "<matplotlib.axes._subplots.AxesSubplot at 0x7fc64553c410>"
            ]
          },
          "metadata": {
            "tags": []
          },
          "execution_count": 87
        },
        {
          "output_type": "display_data",
          "data": {
            "image/png": "[encoded data removed]",
            "text/plain": [
              "<Figure size 720x576 with 2 Axes>"
            ]
          },
          "metadata": {
            "tags": []
          }
        }
      ]
    },
    {
      "cell_type": "code",
      "metadata": {
        "colab": {
          "base_uri": "https://localhost:8080/"
        },
        "id": "153916f4",
        "outputId": "a15688f9-e941-43c6-9631-63308784b7b4"
      },
      "source": [
        "# Limite para correlacao\n",
        "limite = 0.8\n",
        "\n",
        "# Selecionar colunas com correlacao acima do limite\n",
        "upper = corr_matrix.where(np.triu(np.ones(corr_matrix.shape), k=1).astype(np.bool))\n",
        "alta_correlacao = [column for column in upper.columns if any(upper[column] > limite)]\n",
        "alta_correlacao"
      ],
      "id": "153916f4",
      "execution_count": 90,
      "outputs": [
        {
          "output_type": "execute_result",
          "data": {
            "text/plain": [
              "['bl_cancelamento']"
            ]
          },
          "metadata": {
            "tags": []
          },
          "execution_count": 90
        }
      ]
    },
    {
      "cell_type": "code",
      "metadata": {
        "colab": {
          "base_uri": "https://localhost:8080/"
        },
        "id": "90c8749f",
        "outputId": "4077b3c0-ae61-4da8-d76d-211ff5caa102"
      },
      "source": [
        "# Eliminar as de alta_correlacao\n",
        "colunas_finais = list(set(colunas_finais) - set(alta_correlacao))\n",
        "colunas_finais"
      ],
      "id": "90c8749f",
      "execution_count": 92,
      "outputs": [
        {
          "output_type": "execute_result",
          "data": {
            "text/plain": [
              "['situacao_do_registro_desfiliado',\n",
              " 'mes_filiacao',\n",
              " 'motivo_do_cancelamento_a_pedido_do_partido',\n",
              " 'nr_dias_filiado',\n",
              " 'motivo_do_cancelamento_judicial',\n",
              " 'sigla_do_partido',\n",
              " 'bl_desfiliacao',\n",
              " 'situacao_do_registro_regular',\n",
              " 'situacao_do_registro_sub_judice',\n",
              " 'rotulo',\n",
              " 'motivo_do_cancelamento_cancelamento_automatico',\n",
              " 'uf',\n",
              " 'motivo_do_cancelamento_nan']"
            ]
          },
          "metadata": {
            "tags": []
          },
          "execution_count": 92
        }
      ]
    },
    {
      "cell_type": "code",
      "metadata": {
        "id": "57a9ce0a"
      },
      "source": [
        "# Filtrar colunas finais\n",
        "df_train = df_train[colunas_finais]"
      ],
      "id": "57a9ce0a",
      "execution_count": 93,
      "outputs": []
    },
    {
      "cell_type": "code",
      "metadata": {
        "colab": {
          "base_uri": "https://localhost:8080/"
        },
        "id": "34cb4728",
        "outputId": "51729f92-7ff6-4065-a70b-a957eb8d4076"
      },
      "source": [
        "df_train.shape"
      ],
      "id": "34cb4728",
      "execution_count": 94,
      "outputs": [
        {
          "output_type": "execute_result",
          "data": {
            "text/plain": [
              "(198277, 13)"
            ]
          },
          "metadata": {
            "tags": []
          },
          "execution_count": 94
        }
      ]
    },
    {
      "cell_type": "code",
      "metadata": {
        "colab": {
          "base_uri": "https://localhost:8080/",
          "height": 224
        },
        "id": "7d1f408f",
        "outputId": "f5605d4b-b018-4448-e203-2f8eca6e652e"
      },
      "source": [
        "df_train.head()"
      ],
      "id": "7d1f408f",
      "execution_count": 95,
      "outputs": [
        {
          "output_type": "execute_result",
          "data": {
            "text/html": [
              "<div>\n",
              "<style scoped>\n",
              "    .dataframe tbody tr th:only-of-type {\n",
              "        vertical-align: middle;\n",
              "    }\n",
              "\n",
              "    .dataframe tbody tr th {\n",
              "        vertical-align: top;\n",
              "    }\n",
              "\n",
              "    .dataframe thead th {\n",
              "        text-align: right;\n",
              "    }\n",
              "</style>\n",
              "<table border=\"1\" class=\"dataframe\">\n",
              "  <thead>\n",
              "    <tr style=\"text-align: right;\">\n",
              "      <th></th>\n",
              "      <th>situacao_do_registro_desfiliado</th>\n",
              "      <th>mes_filiacao</th>\n",
              "      <th>motivo_do_cancelamento_a_pedido_do_partido</th>\n",
              "      <th>nr_dias_filiado</th>\n",
              "      <th>motivo_do_cancelamento_judicial</th>\n",
              "      <th>sigla_do_partido</th>\n",
              "      <th>bl_desfiliacao</th>\n",
              "      <th>situacao_do_registro_regular</th>\n",
              "      <th>situacao_do_registro_sub_judice</th>\n",
              "      <th>rotulo</th>\n",
              "      <th>motivo_do_cancelamento_cancelamento_automatico</th>\n",
              "      <th>uf</th>\n",
              "      <th>motivo_do_cancelamento_nan</th>\n",
              "    </tr>\n",
              "  </thead>\n",
              "  <tbody>\n",
              "    <tr>\n",
              "      <th>0</th>\n",
              "      <td>0.0</td>\n",
              "      <td>1.0</td>\n",
              "      <td>0.0</td>\n",
              "      <td>0.125196</td>\n",
              "      <td>0.0</td>\n",
              "      <td>0.570350</td>\n",
              "      <td>0.0</td>\n",
              "      <td>1.0</td>\n",
              "      <td>0.0</td>\n",
              "      <td>1.0</td>\n",
              "      <td>0.0</td>\n",
              "      <td>0.386429</td>\n",
              "      <td>1.0</td>\n",
              "    </tr>\n",
              "    <tr>\n",
              "      <th>1</th>\n",
              "      <td>0.0</td>\n",
              "      <td>1.0</td>\n",
              "      <td>0.0</td>\n",
              "      <td>0.120311</td>\n",
              "      <td>0.0</td>\n",
              "      <td>0.704820</td>\n",
              "      <td>0.0</td>\n",
              "      <td>1.0</td>\n",
              "      <td>0.0</td>\n",
              "      <td>1.0</td>\n",
              "      <td>0.0</td>\n",
              "      <td>0.663215</td>\n",
              "      <td>1.0</td>\n",
              "    </tr>\n",
              "    <tr>\n",
              "      <th>2</th>\n",
              "      <td>0.0</td>\n",
              "      <td>9.0</td>\n",
              "      <td>0.0</td>\n",
              "      <td>0.104966</td>\n",
              "      <td>0.0</td>\n",
              "      <td>0.000000</td>\n",
              "      <td>0.0</td>\n",
              "      <td>0.0</td>\n",
              "      <td>0.0</td>\n",
              "      <td>1.0</td>\n",
              "      <td>1.0</td>\n",
              "      <td>0.516731</td>\n",
              "      <td>0.0</td>\n",
              "    </tr>\n",
              "    <tr>\n",
              "      <th>3</th>\n",
              "      <td>0.0</td>\n",
              "      <td>3.0</td>\n",
              "      <td>0.0</td>\n",
              "      <td>0.113845</td>\n",
              "      <td>0.0</td>\n",
              "      <td>0.635835</td>\n",
              "      <td>0.0</td>\n",
              "      <td>1.0</td>\n",
              "      <td>0.0</td>\n",
              "      <td>1.0</td>\n",
              "      <td>0.0</td>\n",
              "      <td>1.000000</td>\n",
              "      <td>1.0</td>\n",
              "    </tr>\n",
              "    <tr>\n",
              "      <th>4</th>\n",
              "      <td>0.0</td>\n",
              "      <td>4.0</td>\n",
              "      <td>0.0</td>\n",
              "      <td>0.192303</td>\n",
              "      <td>0.0</td>\n",
              "      <td>0.524619</td>\n",
              "      <td>1.0</td>\n",
              "      <td>0.0</td>\n",
              "      <td>0.0</td>\n",
              "      <td>1.0</td>\n",
              "      <td>1.0</td>\n",
              "      <td>0.610176</td>\n",
              "      <td>0.0</td>\n",
              "    </tr>\n",
              "  </tbody>\n",
              "</table>\n",
              "</div>"
            ],
            "text/plain": [
              "   situacao_do_registro_desfiliado  ...  motivo_do_cancelamento_nan\n",
              "0                              0.0  ...                         1.0\n",
              "1                              0.0  ...                         1.0\n",
              "2                              0.0  ...                         0.0\n",
              "3                              0.0  ...                         1.0\n",
              "4                              0.0  ...                         0.0\n",
              "\n",
              "[5 rows x 13 columns]"
            ]
          },
          "metadata": {
            "tags": []
          },
          "execution_count": 95
        }
      ]
    },
    {
      "cell_type": "code",
      "metadata": {
        "id": "34f50d5c"
      },
      "source": [
        ""
      ],
      "id": "34f50d5c",
      "execution_count": null,
      "outputs": []
    },
    {
      "cell_type": "markdown",
      "metadata": {
        "id": "63ae957b"
      },
      "source": [
        "# Dados de Teste"
      ],
      "id": "63ae957b"
    },
    {
      "cell_type": "code",
      "metadata": {
        "id": "a9ac1f5a"
      },
      "source": [
        "df_test = df_test[colunas_selecionadas]\n",
        "df_test['data_final'] = df_test.apply(lambda x: merge_datas_finais(x), axis=1)\n",
        "df_test['nr_dias_filiado'] = df_test.apply(lambda x: contar_dias(x), axis=1)\n",
        "\n",
        "df_test['bl_desfiliacao'] = df_test['data_da_desfiliacao'].apply(coluna_nao_nat)\n",
        "df_test['bl_cancelamento'] = df_test['data_do_cancelamento'].apply(coluna_nao_nat)\n",
        "\n",
        "df_test['mes_filiacao'] = df_test.data_da_filiacao.dt.month\n",
        "df_test['mes_filiacao'].fillna(0, inplace=True)\n",
        "df_test['mes_filiacao'] = df_test['mes_filiacao'].astype('int')\n",
        "\n",
        "df_test['ano_filiacao'] = df_test.data_da_filiacao.dt.year % 2\n",
        "df_test['ano_filiacao'].fillna(0, inplace=True)\n",
        "df_test['ano_filiacao'] = df_test['ano_filiacao'].astype('int')\n",
        "\n",
        "df_test.drop(columns=['data_da_filiacao', 'data_da_desfiliacao', \n",
        "                      'data_do_cancelamento', 'data_final'], axis=1, inplace=True)\n",
        "\n",
        "df_test.sigla_do_partido = df_test.sigla_do_partido.apply(lambda x: diff_sigla_do_partido.get(x,0))\n",
        "df_test.uf = df_test.uf.apply(lambda x: diff_uf.get(x,0))\n",
        "\n",
        "# Limpar valores das colunas dummy: Virarao nomes das colunas\n",
        "for col in colunas_dummy:\n",
        "    df_test[col] = df_test[col].apply(lambda x: limpar_texto(str(x)).replace(\" \", \"_\"))\n",
        "\n",
        "df_dummy_test = pd.get_dummies(df_test[colunas_dummy])\n",
        "\n",
        "df_test = pd.concat([df_dummy_test, df_test[colunas_nao_dummy]], axis=1)\n",
        "\n",
        "transformed_test = impute_dias.transform(df_test)\n",
        "df_test = pd.DataFrame(data=transformed_test, columns=df_test.columns)\n",
        "\n",
        "df_test.nr_dias_filiado = df_test.nr_dias_filiado.apply(normalizar_nr_dias)\n",
        "\n",
        "df_test = df_test[colunas_finais]"
      ],
      "id": "a9ac1f5a",
      "execution_count": 96,
      "outputs": []
    },
    {
      "cell_type": "code",
      "metadata": {
        "colab": {
          "base_uri": "https://localhost:8080/"
        },
        "id": "f863c838",
        "outputId": "915cdcb9-ac11-4daf-dc9e-34a56509c298"
      },
      "source": [
        "df_test.shape"
      ],
      "id": "f863c838",
      "execution_count": 103,
      "outputs": [
        {
          "output_type": "execute_result",
          "data": {
            "text/plain": [
              "(49570, 13)"
            ]
          },
          "metadata": {
            "tags": []
          },
          "execution_count": 103
        }
      ]
    },
    {
      "cell_type": "code",
      "metadata": {
        "colab": {
          "base_uri": "https://localhost:8080/",
          "height": 224
        },
        "id": "ed53916c",
        "outputId": "3befdb20-d8bb-4648-d061-51d27d9c5529"
      },
      "source": [
        "df_test.head()"
      ],
      "id": "ed53916c",
      "execution_count": 147,
      "outputs": [
        {
          "output_type": "execute_result",
          "data": {
            "text/html": [
              "<div>\n",
              "<style scoped>\n",
              "    .dataframe tbody tr th:only-of-type {\n",
              "        vertical-align: middle;\n",
              "    }\n",
              "\n",
              "    .dataframe tbody tr th {\n",
              "        vertical-align: top;\n",
              "    }\n",
              "\n",
              "    .dataframe thead th {\n",
              "        text-align: right;\n",
              "    }\n",
              "</style>\n",
              "<table border=\"1\" class=\"dataframe\">\n",
              "  <thead>\n",
              "    <tr style=\"text-align: right;\">\n",
              "      <th></th>\n",
              "      <th>situacao_do_registro_desfiliado</th>\n",
              "      <th>mes_filiacao</th>\n",
              "      <th>motivo_do_cancelamento_a_pedido_do_partido</th>\n",
              "      <th>nr_dias_filiado</th>\n",
              "      <th>motivo_do_cancelamento_judicial</th>\n",
              "      <th>sigla_do_partido</th>\n",
              "      <th>bl_desfiliacao</th>\n",
              "      <th>situacao_do_registro_regular</th>\n",
              "      <th>situacao_do_registro_sub_judice</th>\n",
              "      <th>rotulo</th>\n",
              "      <th>motivo_do_cancelamento_cancelamento_automatico</th>\n",
              "      <th>uf</th>\n",
              "      <th>motivo_do_cancelamento_nan</th>\n",
              "    </tr>\n",
              "  </thead>\n",
              "  <tbody>\n",
              "    <tr>\n",
              "      <th>0</th>\n",
              "      <td>0.0</td>\n",
              "      <td>9.0</td>\n",
              "      <td>0.0</td>\n",
              "      <td>0.118946</td>\n",
              "      <td>0.0</td>\n",
              "      <td>0.338453</td>\n",
              "      <td>0.0</td>\n",
              "      <td>1.0</td>\n",
              "      <td>0.0</td>\n",
              "      <td>1.0</td>\n",
              "      <td>0.0</td>\n",
              "      <td>0.615570</td>\n",
              "      <td>1.0</td>\n",
              "    </tr>\n",
              "    <tr>\n",
              "      <th>1</th>\n",
              "      <td>0.0</td>\n",
              "      <td>2.0</td>\n",
              "      <td>0.0</td>\n",
              "      <td>0.202060</td>\n",
              "      <td>0.0</td>\n",
              "      <td>0.172450</td>\n",
              "      <td>0.0</td>\n",
              "      <td>0.0</td>\n",
              "      <td>0.0</td>\n",
              "      <td>1.0</td>\n",
              "      <td>1.0</td>\n",
              "      <td>0.610176</td>\n",
              "      <td>0.0</td>\n",
              "    </tr>\n",
              "    <tr>\n",
              "      <th>2</th>\n",
              "      <td>0.0</td>\n",
              "      <td>5.0</td>\n",
              "      <td>0.0</td>\n",
              "      <td>0.120273</td>\n",
              "      <td>0.0</td>\n",
              "      <td>0.546998</td>\n",
              "      <td>0.0</td>\n",
              "      <td>1.0</td>\n",
              "      <td>0.0</td>\n",
              "      <td>1.0</td>\n",
              "      <td>0.0</td>\n",
              "      <td>0.205507</td>\n",
              "      <td>1.0</td>\n",
              "    </tr>\n",
              "    <tr>\n",
              "      <th>3</th>\n",
              "      <td>0.0</td>\n",
              "      <td>4.0</td>\n",
              "      <td>0.0</td>\n",
              "      <td>0.125317</td>\n",
              "      <td>0.0</td>\n",
              "      <td>0.388531</td>\n",
              "      <td>0.0</td>\n",
              "      <td>1.0</td>\n",
              "      <td>0.0</td>\n",
              "      <td>1.0</td>\n",
              "      <td>0.0</td>\n",
              "      <td>0.615570</td>\n",
              "      <td>1.0</td>\n",
              "    </tr>\n",
              "    <tr>\n",
              "      <th>4</th>\n",
              "      <td>0.0</td>\n",
              "      <td>3.0</td>\n",
              "      <td>0.0</td>\n",
              "      <td>0.132703</td>\n",
              "      <td>0.0</td>\n",
              "      <td>0.116684</td>\n",
              "      <td>0.0</td>\n",
              "      <td>1.0</td>\n",
              "      <td>0.0</td>\n",
              "      <td>1.0</td>\n",
              "      <td>0.0</td>\n",
              "      <td>0.481551</td>\n",
              "      <td>1.0</td>\n",
              "    </tr>\n",
              "  </tbody>\n",
              "</table>\n",
              "</div>"
            ],
            "text/plain": [
              "   situacao_do_registro_desfiliado  ...  motivo_do_cancelamento_nan\n",
              "0                              0.0  ...                         1.0\n",
              "1                              0.0  ...                         0.0\n",
              "2                              0.0  ...                         1.0\n",
              "3                              0.0  ...                         1.0\n",
              "4                              0.0  ...                         1.0\n",
              "\n",
              "[5 rows x 13 columns]"
            ]
          },
          "metadata": {
            "tags": []
          },
          "execution_count": 147
        }
      ]
    },
    {
      "cell_type": "code",
      "metadata": {
        "colab": {
          "base_uri": "https://localhost:8080/"
        },
        "id": "97d67896",
        "outputId": "6dc891b3-2730-446e-f053-693d208fa8d8"
      },
      "source": [
        "df_train.info()"
      ],
      "id": "97d67896",
      "execution_count": 145,
      "outputs": [
        {
          "output_type": "stream",
          "text": [
            "<class 'pandas.core.frame.DataFrame'>\n",
            "RangeIndex: 198277 entries, 0 to 198276\n",
            "Data columns (total 13 columns):\n",
            " #   Column                                          Non-Null Count   Dtype  \n",
            "---  ------                                          --------------   -----  \n",
            " 0   situacao_do_registro_desfiliado                 198277 non-null  float64\n",
            " 1   mes_filiacao                                    198277 non-null  float64\n",
            " 2   motivo_do_cancelamento_a_pedido_do_partido      198277 non-null  float64\n",
            " 3   nr_dias_filiado                                 198277 non-null  float64\n",
            " 4   motivo_do_cancelamento_judicial                 198277 non-null  float64\n",
            " 5   sigla_do_partido                                198277 non-null  float64\n",
            " 6   bl_desfiliacao                                  198277 non-null  float64\n",
            " 7   situacao_do_registro_regular                    198277 non-null  float64\n",
            " 8   situacao_do_registro_sub_judice                 198277 non-null  float64\n",
            " 9   rotulo                                          198277 non-null  float64\n",
            " 10  motivo_do_cancelamento_cancelamento_automatico  198277 non-null  float64\n",
            " 11  uf                                              198277 non-null  float64\n",
            " 12  motivo_do_cancelamento_nan                      198277 non-null  float64\n",
            "dtypes: float64(13)\n",
            "memory usage: 19.7 MB\n"
          ],
          "name": "stdout"
        }
      ]
    },
    {
      "cell_type": "markdown",
      "metadata": {
        "id": "54e97984"
      },
      "source": [
        "# Machine Learning"
      ],
      "id": "54e97984"
    },
    {
      "cell_type": "markdown",
      "metadata": {
        "id": "06w-7VxFP1Tu"
      },
      "source": [
        "## Balanceamento dos dados"
      ],
      "id": "06w-7VxFP1Tu"
    },
    {
      "cell_type": "code",
      "metadata": {
        "colab": {
          "base_uri": "https://localhost:8080/"
        },
        "id": "388dbdd8",
        "outputId": "e5879a8e-7536-4529-c711-869af4e614c2"
      },
      "source": [
        "features = df_train.columns[df_train.columns != 'rotulo'].values.tolist()\n",
        "features"
      ],
      "id": "388dbdd8",
      "execution_count": 105,
      "outputs": [
        {
          "output_type": "execute_result",
          "data": {
            "text/plain": [
              "['situacao_do_registro_desfiliado',\n",
              " 'mes_filiacao',\n",
              " 'motivo_do_cancelamento_a_pedido_do_partido',\n",
              " 'nr_dias_filiado',\n",
              " 'motivo_do_cancelamento_judicial',\n",
              " 'sigla_do_partido',\n",
              " 'bl_desfiliacao',\n",
              " 'situacao_do_registro_regular',\n",
              " 'situacao_do_registro_sub_judice',\n",
              " 'motivo_do_cancelamento_cancelamento_automatico',\n",
              " 'uf',\n",
              " 'motivo_do_cancelamento_nan']"
            ]
          },
          "metadata": {
            "tags": []
          },
          "execution_count": 105
        }
      ]
    },
    {
      "cell_type": "code",
      "metadata": {
        "id": "296f757f"
      },
      "source": [
        "X_train = df_train.loc[:,features].to_numpy()\n",
        "X_test = df_test.loc[:,features].to_numpy()\n",
        "y_train = df_train.rotulo.values.tolist()\n",
        "y_test = df_test.rotulo.values.tolist()"
      ],
      "id": "296f757f",
      "execution_count": 106,
      "outputs": []
    },
    {
      "cell_type": "code",
      "metadata": {
        "colab": {
          "base_uri": "https://localhost:8080/"
        },
        "id": "f4727657",
        "outputId": "77361138-20ee-461f-cafa-a71249d01199"
      },
      "source": [
        "X_train.shape, X_test.shape, len(y_train), len(y_test)"
      ],
      "id": "f4727657",
      "execution_count": 107,
      "outputs": [
        {
          "output_type": "execute_result",
          "data": {
            "text/plain": [
              "((198277, 12), (49570, 12), 198277, 49570)"
            ]
          },
          "metadata": {
            "tags": []
          },
          "execution_count": 107
        }
      ]
    },
    {
      "cell_type": "code",
      "metadata": {
        "colab": {
          "base_uri": "https://localhost:8080/"
        },
        "id": "df2767e0",
        "outputId": "cbcd5cce-abad-4fec-dd0b-84a11fb8a154"
      },
      "source": [
        "from collections import Counter\n",
        "\n",
        "ct_tr = Counter(y_train)\n",
        "ct_te = Counter(y_test)\n",
        "ct_tr, ct_te"
      ],
      "id": "df2767e0",
      "execution_count": 108,
      "outputs": [
        {
          "output_type": "execute_result",
          "data": {
            "text/plain": [
              "(Counter({0.0: 197323, 1.0: 954}), Counter({0.0: 49331, 1.0: 239}))"
            ]
          },
          "metadata": {
            "tags": []
          },
          "execution_count": 108
        }
      ]
    },
    {
      "cell_type": "code",
      "metadata": {
        "colab": {
          "base_uri": "https://localhost:8080/"
        },
        "id": "b372751e",
        "outputId": "6752862d-6294-45ec-e7b9-24029d9642f0"
      },
      "source": [
        "np.random.seed(171)\n",
        "nsmp = Counter(y_train)[0]-Counter(y_train)[1]\n",
        "print(nsmp)\n",
        "indices = np.random.choice(range(Counter(y_train)[1]), size=nsmp, replace=True)\n",
        "X_train = np.concatenate((X_train, X_train[np.array(y_train) == 1][indices]))\n",
        "print(X_train.shape)\n",
        "\n",
        "y_train = y_train + [1]*nsmp\n",
        "Counter(y_train), Counter(y_test)"
      ],
      "id": "b372751e",
      "execution_count": 109,
      "outputs": [
        {
          "output_type": "stream",
          "text": [
            "196369\n",
            "(394646, 12)\n"
          ],
          "name": "stdout"
        },
        {
          "output_type": "execute_result",
          "data": {
            "text/plain": [
              "(Counter({0.0: 197323, 1.0: 197323}), Counter({0.0: 49331, 1.0: 239}))"
            ]
          },
          "metadata": {
            "tags": []
          },
          "execution_count": 109
        }
      ]
    },
    {
      "cell_type": "markdown",
      "metadata": {
        "id": "MclLEATnP4LC"
      },
      "source": [
        "## Treinamento"
      ],
      "id": "MclLEATnP4LC"
    },
    {
      "cell_type": "code",
      "metadata": {
        "id": "c45078cb"
      },
      "source": [
        "from keras.models import Sequential\n",
        "from keras.layers import LSTM\n",
        "from keras.layers import Dense\n",
        "from keras import metrics\n",
        "from keras.optimizers import Adam\n",
        "from keras.callbacks import EarlyStopping\n",
        "\n",
        "np.random.seed(171)"
      ],
      "id": "c45078cb",
      "execution_count": 110,
      "outputs": []
    },
    {
      "cell_type": "code",
      "metadata": {
        "id": "9af14244"
      },
      "source": [
        "model = Sequential()\n",
        "model.add(Dense(64, input_dim=len(features), activation='relu'))\n",
        "model.add(Dense(32, activation='relu'))\n",
        "model.add(Dense(2, activation='sigmoid'))\n",
        "\n",
        "opt = Adam(learning_rate=0.001)\n",
        "model.compile(loss='categorical_crossentropy', optimizer=opt, metrics=['accuracy', metrics.Precision(), metrics.Recall(), metrics.AUC()])"
      ],
      "id": "9af14244",
      "execution_count": 171,
      "outputs": []
    },
    {
      "cell_type": "code",
      "metadata": {
        "colab": {
          "base_uri": "https://localhost:8080/"
        },
        "id": "82e00e15",
        "outputId": "0120fd22-72a8-4c80-85d2-f97a22b603a0"
      },
      "source": [
        "print(model.summary())"
      ],
      "id": "82e00e15",
      "execution_count": 172,
      "outputs": [
        {
          "output_type": "stream",
          "text": [
            "Model: \"sequential_8\"\n",
            "_________________________________________________________________\n",
            "Layer (type)                 Output Shape              Param #   \n",
            "=================================================================\n",
            "dense_19 (Dense)             (None, 64)                832       \n",
            "_________________________________________________________________\n",
            "dense_20 (Dense)             (None, 32)                2080      \n",
            "_________________________________________________________________\n",
            "dense_21 (Dense)             (None, 2)                 66        \n",
            "=================================================================\n",
            "Total params: 2,978\n",
            "Trainable params: 2,978\n",
            "Non-trainable params: 0\n",
            "_________________________________________________________________\n",
            "None\n"
          ],
          "name": "stdout"
        }
      ]
    },
    {
      "cell_type": "code",
      "metadata": {
        "colab": {
          "base_uri": "https://localhost:8080/"
        },
        "id": "Xa4I8uQY-ar0",
        "outputId": "82132e61-246f-443a-d180-e48dcb58d731"
      },
      "source": [
        "y_train_k = tf.keras.utils.to_categorical(y_train, num_classes=2)\n",
        "y_test_k = tf.keras.utils.to_categorical(y_test, num_classes=2)\n",
        "\n",
        "X_train_k = X_train.reshape((X_train.shape[0],X_train.shape[1]))\n",
        "X_test_k = X_test.reshape((X_test.shape[0],X_test.shape[1]))\n",
        "\n",
        "y_train_k.shape, y_test_k.shape, X_train_k.shape, X_test_k.shape"
      ],
      "id": "Xa4I8uQY-ar0",
      "execution_count": 173,
      "outputs": [
        {
          "output_type": "execute_result",
          "data": {
            "text/plain": [
              "((394646, 2), (49570, 2), (394646, 12), (49570, 12))"
            ]
          },
          "metadata": {
            "tags": []
          },
          "execution_count": 173
        }
      ]
    },
    {
      "cell_type": "code",
      "metadata": {
        "colab": {
          "base_uri": "https://localhost:8080/"
        },
        "id": "f36893fe",
        "outputId": "d5938f16-02a2-428d-9374-4c670ac12ff5"
      },
      "source": [
        "callb = EarlyStopping(monitor='loss', patience=5, restore_best_weights=True)\n",
        "\n",
        "model.fit(X_train, y_train_k, validation_data=(X_test, y_test_k), epochs=50, initial_epoch=0, batch_size=256, callbacks=[callb])"
      ],
      "id": "f36893fe",
      "execution_count": 174,
      "outputs": [
        {
          "output_type": "stream",
          "text": [
            "Epoch 1/50\n",
            "1542/1542 [==============================] - 8s 4ms/step - loss: 0.6441 - accuracy: 0.6278 - precision_5: 0.7439 - recall_5: 0.0712 - auc_5: 0.6184 - val_loss: 0.6479 - val_accuracy: 0.6535 - val_precision_5: 0.5382 - val_recall_5: 0.0946 - val_auc_5: 0.6611\n",
            "Epoch 2/50\n",
            "1542/1542 [==============================] - 6s 4ms/step - loss: 0.6111 - accuracy: 0.6658 - precision_5: 0.7977 - recall_5: 0.1760 - auc_5: 0.7026 - val_loss: 0.5468 - val_accuracy: 0.7393 - val_precision_5: 0.8095 - val_recall_5: 0.2810 - val_auc_5: 0.8001\n",
            "Epoch 3/50\n",
            "1542/1542 [==============================] - 6s 4ms/step - loss: 0.5979 - accuracy: 0.6761 - precision_5: 0.7924 - recall_5: 0.2569 - auc_5: 0.7291 - val_loss: 0.5961 - val_accuracy: 0.6877 - val_precision_5: 0.7737 - val_recall_5: 0.2663 - val_auc_5: 0.7354\n",
            "Epoch 4/50\n",
            "1542/1542 [==============================] - 6s 4ms/step - loss: 0.5842 - accuracy: 0.6861 - precision_5: 0.8033 - recall_5: 0.2914 - auc_5: 0.7435 - val_loss: 0.5077 - val_accuracy: 0.7506 - val_precision_5: 0.8658 - val_recall_5: 0.3581 - val_auc_5: 0.8306\n",
            "Epoch 5/50\n",
            "1542/1542 [==============================] - 6s 4ms/step - loss: 0.5735 - accuracy: 0.6956 - precision_5: 0.8153 - recall_5: 0.2917 - auc_5: 0.7522 - val_loss: 0.6766 - val_accuracy: 0.6001 - val_precision_5: 0.6603 - val_recall_5: 0.2120 - val_auc_5: 0.6360\n",
            "Epoch 6/50\n",
            "1542/1542 [==============================] - 6s 4ms/step - loss: 0.5627 - accuracy: 0.7020 - precision_5: 0.8279 - recall_5: 0.3074 - auc_5: 0.7613 - val_loss: 0.5726 - val_accuracy: 0.7034 - val_precision_5: 0.7939 - val_recall_5: 0.2891 - val_auc_5: 0.7564\n",
            "Epoch 7/50\n",
            "1542/1542 [==============================] - 6s 4ms/step - loss: 0.5405 - accuracy: 0.7205 - precision_5: 0.8570 - recall_5: 0.3008 - auc_5: 0.7813 - val_loss: 0.6088 - val_accuracy: 0.6898 - val_precision_5: 0.7276 - val_recall_5: 0.1915 - val_auc_5: 0.7153\n",
            "Epoch 8/50\n",
            "1542/1542 [==============================] - 6s 4ms/step - loss: 0.5020 - accuracy: 0.7610 - precision_5: 0.8875 - recall_5: 0.2878 - auc_5: 0.8116 - val_loss: 0.4081 - val_accuracy: 0.8368 - val_precision_5: 0.8838 - val_recall_5: 0.4313 - val_auc_5: 0.8891\n",
            "Epoch 9/50\n",
            "1542/1542 [==============================] - 6s 4ms/step - loss: 0.4644 - accuracy: 0.7954 - precision_5: 0.9033 - recall_5: 0.3158 - auc_5: 0.8452 - val_loss: 0.3566 - val_accuracy: 0.8856 - val_precision_5: 0.9350 - val_recall_5: 0.4300 - val_auc_5: 0.9267\n",
            "Epoch 10/50\n",
            "1542/1542 [==============================] - 6s 4ms/step - loss: 0.4227 - accuracy: 0.8243 - precision_5: 0.9179 - recall_5: 0.3747 - auc_5: 0.8773 - val_loss: 0.4460 - val_accuracy: 0.8232 - val_precision_5: 0.8810 - val_recall_5: 0.3542 - val_auc_5: 0.8660\n",
            "Epoch 11/50\n",
            "1542/1542 [==============================] - 6s 4ms/step - loss: 0.3874 - accuracy: 0.8411 - precision_5: 0.9294 - recall_5: 0.4339 - auc_5: 0.8990 - val_loss: 0.4371 - val_accuracy: 0.8086 - val_precision_5: 0.8769 - val_recall_5: 0.4104 - val_auc_5: 0.8713\n",
            "Epoch 12/50\n",
            "1542/1542 [==============================] - 6s 4ms/step - loss: 0.3575 - accuracy: 0.8528 - precision_5: 0.9363 - recall_5: 0.4886 - auc_5: 0.9139 - val_loss: 0.3890 - val_accuracy: 0.8281 - val_precision_5: 0.9251 - val_recall_5: 0.4443 - val_auc_5: 0.9022\n",
            "Epoch 13/50\n",
            "1542/1542 [==============================] - 6s 4ms/step - loss: 0.3352 - accuracy: 0.8594 - precision_5: 0.9426 - recall_5: 0.5240 - auc_5: 0.9230 - val_loss: 0.4124 - val_accuracy: 0.8109 - val_precision_5: 0.9030 - val_recall_5: 0.4924 - val_auc_5: 0.8865\n",
            "Epoch 14/50\n",
            "1542/1542 [==============================] - 6s 4ms/step - loss: 0.3196 - accuracy: 0.8652 - precision_5: 0.9469 - recall_5: 0.5466 - auc_5: 0.9288 - val_loss: 0.3461 - val_accuracy: 0.8399 - val_precision_5: 0.9393 - val_recall_5: 0.5773 - val_auc_5: 0.9229\n",
            "Epoch 15/50\n",
            "1542/1542 [==============================] - 6s 4ms/step - loss: 0.3070 - accuracy: 0.8682 - precision_5: 0.9512 - recall_5: 0.5663 - auc_5: 0.9335 - val_loss: 0.2681 - val_accuracy: 0.8974 - val_precision_5: 0.9678 - val_recall_5: 0.6986 - val_auc_5: 0.9579\n",
            "Epoch 16/50\n",
            "1542/1542 [==============================] - 6s 4ms/step - loss: 0.2971 - accuracy: 0.8715 - precision_5: 0.9528 - recall_5: 0.5842 - auc_5: 0.9374 - val_loss: 0.4665 - val_accuracy: 0.7769 - val_precision_5: 0.8964 - val_recall_5: 0.4424 - val_auc_5: 0.8560\n",
            "Epoch 17/50\n",
            "1542/1542 [==============================] - 6s 4ms/step - loss: 0.2881 - accuracy: 0.8745 - precision_5: 0.9548 - recall_5: 0.5940 - auc_5: 0.9406 - val_loss: 0.3926 - val_accuracy: 0.8099 - val_precision_5: 0.8985 - val_recall_5: 0.6253 - val_auc_5: 0.9048\n",
            "Epoch 18/50\n",
            "1542/1542 [==============================] - 6s 4ms/step - loss: 0.2832 - accuracy: 0.8753 - precision_5: 0.9568 - recall_5: 0.5983 - auc_5: 0.9421 - val_loss: 0.2800 - val_accuracy: 0.8708 - val_precision_5: 0.9590 - val_recall_5: 0.7156 - val_auc_5: 0.9519\n",
            "Epoch 19/50\n",
            "1542/1542 [==============================] - 6s 4ms/step - loss: 0.2775 - accuracy: 0.8783 - precision_5: 0.9597 - recall_5: 0.5990 - auc_5: 0.9437 - val_loss: 0.4206 - val_accuracy: 0.7959 - val_precision_5: 0.9129 - val_recall_5: 0.5227 - val_auc_5: 0.8890\n",
            "Epoch 20/50\n",
            "1542/1542 [==============================] - 6s 4ms/step - loss: 0.2739 - accuracy: 0.8799 - precision_5: 0.9620 - recall_5: 0.5986 - auc_5: 0.9446 - val_loss: 0.2886 - val_accuracy: 0.8635 - val_precision_5: 0.9489 - val_recall_5: 0.7205 - val_auc_5: 0.9501\n",
            "Epoch 21/50\n",
            "1542/1542 [==============================] - 6s 4ms/step - loss: 0.2663 - accuracy: 0.8842 - precision_5: 0.9657 - recall_5: 0.5980 - auc_5: 0.9475 - val_loss: 0.3345 - val_accuracy: 0.8325 - val_precision_5: 0.9475 - val_recall_5: 0.6587 - val_auc_5: 0.9310\n",
            "Epoch 22/50\n",
            "1542/1542 [==============================] - 6s 4ms/step - loss: 0.2668 - accuracy: 0.8824 - precision_5: 0.9670 - recall_5: 0.5958 - auc_5: 0.9469 - val_loss: 0.2907 - val_accuracy: 0.8694 - val_precision_5: 0.9745 - val_recall_5: 0.6782 - val_auc_5: 0.9483\n",
            "Epoch 23/50\n",
            "1542/1542 [==============================] - 6s 4ms/step - loss: 0.2629 - accuracy: 0.8846 - precision_5: 0.9688 - recall_5: 0.5930 - auc_5: 0.9481 - val_loss: 0.2257 - val_accuracy: 0.8964 - val_precision_5: 0.9744 - val_recall_5: 0.7581 - val_auc_5: 0.9695\n",
            "Epoch 24/50\n",
            "1542/1542 [==============================] - 6s 4ms/step - loss: 0.2613 - accuracy: 0.8839 - precision_5: 0.9706 - recall_5: 0.5931 - auc_5: 0.9480 - val_loss: 0.3006 - val_accuracy: 0.8564 - val_precision_5: 0.9614 - val_recall_5: 0.6984 - val_auc_5: 0.9460\n",
            "Epoch 25/50\n",
            "1542/1542 [==============================] - 6s 4ms/step - loss: 0.2573 - accuracy: 0.8854 - precision_5: 0.9715 - recall_5: 0.5920 - auc_5: 0.9492 - val_loss: 0.2328 - val_accuracy: 0.9037 - val_precision_5: 0.9805 - val_recall_5: 0.7310 - val_auc_5: 0.9670\n",
            "Epoch 26/50\n",
            "1542/1542 [==============================] - 6s 4ms/step - loss: 0.2581 - accuracy: 0.8863 - precision_5: 0.9718 - recall_5: 0.5904 - auc_5: 0.9490 - val_loss: 0.2967 - val_accuracy: 0.8620 - val_precision_5: 0.9686 - val_recall_5: 0.6823 - val_auc_5: 0.9468\n",
            "Epoch 27/50\n",
            "1542/1542 [==============================] - 6s 4ms/step - loss: 0.2560 - accuracy: 0.8880 - precision_5: 0.9731 - recall_5: 0.5917 - auc_5: 0.9497 - val_loss: 0.2924 - val_accuracy: 0.8628 - val_precision_5: 0.9605 - val_recall_5: 0.6995 - val_auc_5: 0.9485\n",
            "Epoch 28/50\n",
            "1542/1542 [==============================] - 6s 4ms/step - loss: 0.2560 - accuracy: 0.8873 - precision_5: 0.9741 - recall_5: 0.5901 - auc_5: 0.9494 - val_loss: 0.3532 - val_accuracy: 0.8325 - val_precision_5: 0.9307 - val_recall_5: 0.6899 - val_auc_5: 0.9317\n",
            "Epoch 29/50\n",
            "1542/1542 [==============================] - 6s 4ms/step - loss: 0.2516 - accuracy: 0.8893 - precision_5: 0.9749 - recall_5: 0.5920 - auc_5: 0.9506 - val_loss: 0.2329 - val_accuracy: 0.9045 - val_precision_5: 0.9840 - val_recall_5: 0.7320 - val_auc_5: 0.9671\n",
            "Epoch 30/50\n",
            "1542/1542 [==============================] - 6s 4ms/step - loss: 0.2455 - accuracy: 0.8938 - precision_5: 0.9769 - recall_5: 0.5875 - auc_5: 0.9528 - val_loss: 0.4247 - val_accuracy: 0.8016 - val_precision_5: 0.9495 - val_recall_5: 0.5279 - val_auc_5: 0.9002\n",
            "Epoch 31/50\n",
            "1542/1542 [==============================] - 6s 4ms/step - loss: 0.2429 - accuracy: 0.8946 - precision_5: 0.9787 - recall_5: 0.5849 - auc_5: 0.9534 - val_loss: 0.1830 - val_accuracy: 0.9291 - val_precision_5: 0.9875 - val_recall_5: 0.7742 - val_auc_5: 0.9805\n",
            "Epoch 32/50\n",
            "1542/1542 [==============================] - 6s 4ms/step - loss: 0.2454 - accuracy: 0.8926 - precision_5: 0.9778 - recall_5: 0.5843 - auc_5: 0.9522 - val_loss: 0.2939 - val_accuracy: 0.8621 - val_precision_5: 0.9784 - val_recall_5: 0.6683 - val_auc_5: 0.9473\n",
            "Epoch 33/50\n",
            "1542/1542 [==============================] - 6s 4ms/step - loss: 0.2391 - accuracy: 0.8966 - precision_5: 0.9801 - recall_5: 0.5856 - auc_5: 0.9543 - val_loss: 0.3060 - val_accuracy: 0.8479 - val_precision_5: 0.9654 - val_recall_5: 0.7036 - val_auc_5: 0.9452\n",
            "Epoch 34/50\n",
            "1542/1542 [==============================] - 6s 4ms/step - loss: 0.2409 - accuracy: 0.8960 - precision_5: 0.9793 - recall_5: 0.5846 - auc_5: 0.9535 - val_loss: 0.2921 - val_accuracy: 0.8612 - val_precision_5: 0.9681 - val_recall_5: 0.7054 - val_auc_5: 0.9491\n",
            "Epoch 35/50\n",
            "1542/1542 [==============================] - 6s 4ms/step - loss: 0.2411 - accuracy: 0.8946 - precision_5: 0.9799 - recall_5: 0.5849 - auc_5: 0.9532 - val_loss: 0.2386 - val_accuracy: 0.8912 - val_precision_5: 0.9828 - val_recall_5: 0.7337 - val_auc_5: 0.9651\n",
            "Epoch 36/50\n",
            "1542/1542 [==============================] - 6s 4ms/step - loss: 0.2401 - accuracy: 0.8953 - precision_5: 0.9803 - recall_5: 0.5823 - auc_5: 0.9535 - val_loss: 0.2681 - val_accuracy: 0.8772 - val_precision_5: 0.9849 - val_recall_5: 0.7070 - val_auc_5: 0.9567\n",
            "Epoch 37/50\n",
            "1542/1542 [==============================] - 6s 4ms/step - loss: 0.2387 - accuracy: 0.8957 - precision_5: 0.9811 - recall_5: 0.5850 - auc_5: 0.9540 - val_loss: 0.2949 - val_accuracy: 0.8572 - val_precision_5: 0.9830 - val_recall_5: 0.6890 - val_auc_5: 0.9512\n",
            "Epoch 38/50\n",
            "1542/1542 [==============================] - 6s 4ms/step - loss: 0.2405 - accuracy: 0.8943 - precision_5: 0.9809 - recall_5: 0.5866 - auc_5: 0.9534 - val_loss: 0.2454 - val_accuracy: 0.8930 - val_precision_5: 0.9838 - val_recall_5: 0.7111 - val_auc_5: 0.9626\n",
            "Epoch 39/50\n",
            "1542/1542 [==============================] - 6s 4ms/step - loss: 0.2347 - accuracy: 0.8988 - precision_5: 0.9823 - recall_5: 0.5810 - auc_5: 0.9552 - val_loss: 0.2730 - val_accuracy: 0.8799 - val_precision_5: 0.9762 - val_recall_5: 0.6876 - val_auc_5: 0.9538\n",
            "Epoch 40/50\n",
            "1542/1542 [==============================] - 6s 4ms/step - loss: 0.2302 - accuracy: 0.9009 - precision_5: 0.9846 - recall_5: 0.5798 - auc_5: 0.9567 - val_loss: 0.1903 - val_accuracy: 0.9311 - val_precision_5: 0.9906 - val_recall_5: 0.7604 - val_auc_5: 0.9777\n",
            "Epoch 41/50\n",
            "1542/1542 [==============================] - 6s 4ms/step - loss: 0.2342 - accuracy: 0.8990 - precision_5: 0.9824 - recall_5: 0.5828 - auc_5: 0.9552 - val_loss: 0.2553 - val_accuracy: 0.8869 - val_precision_5: 0.9793 - val_recall_5: 0.7268 - val_auc_5: 0.9617\n",
            "Epoch 42/50\n",
            "1542/1542 [==============================] - 6s 4ms/step - loss: 0.2305 - accuracy: 0.9015 - precision_5: 0.9837 - recall_5: 0.5806 - auc_5: 0.9566 - val_loss: 0.2925 - val_accuracy: 0.8659 - val_precision_5: 0.9738 - val_recall_5: 0.6981 - val_auc_5: 0.9500\n",
            "Epoch 43/50\n",
            "1542/1542 [==============================] - 6s 4ms/step - loss: 0.2313 - accuracy: 0.9000 - precision_5: 0.9837 - recall_5: 0.5818 - auc_5: 0.9564 - val_loss: 0.2071 - val_accuracy: 0.9217 - val_precision_5: 0.9899 - val_recall_5: 0.7272 - val_auc_5: 0.9735\n",
            "Epoch 44/50\n",
            "1542/1542 [==============================] - 6s 4ms/step - loss: 0.2272 - accuracy: 0.9019 - precision_5: 0.9850 - recall_5: 0.5779 - auc_5: 0.9572 - val_loss: 0.1653 - val_accuracy: 0.9431 - val_precision_5: 0.9931 - val_recall_5: 0.7657 - val_auc_5: 0.9843\n",
            "Epoch 45/50\n",
            "1542/1542 [==============================] - 6s 4ms/step - loss: 0.2266 - accuracy: 0.9028 - precision_5: 0.9853 - recall_5: 0.5758 - auc_5: 0.9574 - val_loss: 0.2722 - val_accuracy: 0.8800 - val_precision_5: 0.9846 - val_recall_5: 0.6925 - val_auc_5: 0.9561\n",
            "Epoch 46/50\n",
            "1542/1542 [==============================] - 6s 4ms/step - loss: 0.2247 - accuracy: 0.9030 - precision_5: 0.9854 - recall_5: 0.5779 - auc_5: 0.9579 - val_loss: 0.2992 - val_accuracy: 0.8679 - val_precision_5: 0.9747 - val_recall_5: 0.6899 - val_auc_5: 0.9487\n",
            "Epoch 47/50\n",
            "1542/1542 [==============================] - 6s 4ms/step - loss: 0.2249 - accuracy: 0.9033 - precision_5: 0.9858 - recall_5: 0.5765 - auc_5: 0.9573 - val_loss: 0.2739 - val_accuracy: 0.8748 - val_precision_5: 0.9778 - val_recall_5: 0.7201 - val_auc_5: 0.9569\n",
            "Epoch 48/50\n",
            "1542/1542 [==============================] - 6s 4ms/step - loss: 0.2210 - accuracy: 0.9066 - precision_5: 0.9864 - recall_5: 0.5708 - auc_5: 0.9584 - val_loss: 0.1823 - val_accuracy: 0.9261 - val_precision_5: 0.9906 - val_recall_5: 0.7564 - val_auc_5: 0.9803\n",
            "Epoch 49/50\n",
            "1542/1542 [==============================] - 6s 4ms/step - loss: 0.2237 - accuracy: 0.9046 - precision_5: 0.9867 - recall_5: 0.5708 - auc_5: 0.9574 - val_loss: 0.3208 - val_accuracy: 0.8345 - val_precision_5: 0.9761 - val_recall_5: 0.6975 - val_auc_5: 0.9425\n",
            "Epoch 50/50\n",
            "1542/1542 [==============================] - 6s 4ms/step - loss: 0.2164 - accuracy: 0.9098 - precision_5: 0.9872 - recall_5: 0.5667 - auc_5: 0.9596 - val_loss: 0.2669 - val_accuracy: 0.8785 - val_precision_5: 0.9792 - val_recall_5: 0.7089 - val_auc_5: 0.9588\n"
          ],
          "name": "stdout"
        },
        {
          "output_type": "execute_result",
          "data": {
            "text/plain": [
              "<keras.callbacks.History at 0x7fc5f0c33110>"
            ]
          },
          "metadata": {
            "tags": []
          },
          "execution_count": 174
        }
      ]
    },
    {
      "cell_type": "code",
      "metadata": {
        "colab": {
          "base_uri": "https://localhost:8080/",
          "height": 502
        },
        "id": "d99efa81",
        "outputId": "6511e1d9-2fed-404f-ff5c-0cac1b42ea4c"
      },
      "source": [
        "import matplotlib.pyplot as plt\n",
        "\n",
        "val_loss = model.history.history['val_loss']\n",
        "loss = model.history.history['loss']\n",
        "\n",
        "plt.figure()\n",
        "plt.plot(val_loss, label='teste_loss')\n",
        "plt.plot(loss, label = 'treino_loss')\n",
        "plt.legend()\n",
        "plt.show()"
      ],
      "id": "d99efa81",
      "execution_count": 176,
      "outputs": [
        {
          "output_type": "display_data",
          "data": {
            "image/png": "[encoded data removed]",
            "text/plain": [
              "<Figure size 1058.4x595.44 with 1 Axes>"
            ]
          },
          "metadata": {
            "tags": []
          }
        }
      ]
    },
    {
      "cell_type": "code",
      "metadata": {
        "id": "iz76m5LIP9Tx"
      },
      "source": [
        ""
      ],
      "id": "iz76m5LIP9Tx",
      "execution_count": null,
      "outputs": []
    },
    {
      "cell_type": "markdown",
      "metadata": {
        "id": "AxxpEAiOP-vy"
      },
      "source": [
        "## Resultados em dados de teste"
      ],
      "id": "AxxpEAiOP-vy"
    },
    {
      "cell_type": "code",
      "metadata": {
        "id": "7UgGSNKcLCDw"
      },
      "source": [
        "# RANDOM FOREST\n",
        "\n",
        "from sklearn.ensemble import RandomForestClassifier\n",
        "\n",
        "rf = RandomForestClassifier(max_depth=3, n_estimators=10)\n",
        "rf.fit(X_train, y_train)\n",
        "\n",
        "y_pred_rf = rf.predict_proba(X_test)[:, 1]\n",
        "fpr_rf, tpr_rf, thresholds_rf = roc_curve(y_test, y_pred_rf)\n",
        "auc_rf = auc(fpr_rf, tpr_rf)"
      ],
      "id": "7UgGSNKcLCDw",
      "execution_count": 227,
      "outputs": []
    },
    {
      "cell_type": "code",
      "metadata": {
        "colab": {
          "base_uri": "https://localhost:8080/",
          "height": 587
        },
        "id": "an93OngvLBRG",
        "outputId": "49f71ab3-9709-46d7-9c1e-6cbc09f2d92c"
      },
      "source": [
        "from sklearn.metrics import roc_curve\n",
        "from sklearn.metrics import auc\n",
        "\n",
        "y_pred_keras = model.predict_classes(X_test)\n",
        "# y_pred_keras = model.predict(X_test)\n",
        "# y_pred_keras = np.array([1 if p > 0.95 else 0 for p in y_pred_keras[:,1].tolist()])\n",
        "fpr_keras, tpr_keras, thresholds_keras = roc_curve(y_test_k[:,1], y_pred_keras)\n",
        "auc_keras = auc(fpr_keras, tpr_keras)\n",
        "\n",
        "plt.figure(1)\n",
        "plt.plot([0, 1], [0, 1], 'k--')\n",
        "plt.plot(fpr_keras, tpr_keras, label='Keras (area = {:.3f})'.format(auc_keras))\n",
        "plt.plot(fpr_rf, tpr_rf, label='RF (area = {:.3f})'.format(auc_rf))\n",
        "plt.xlabel('False positive rate')\n",
        "plt.ylabel('True positive rate')\n",
        "plt.title('ROC curve')\n",
        "plt.legend(loc='best')\n",
        "plt.show()"
      ],
      "id": "an93OngvLBRG",
      "execution_count": 228,
      "outputs": [
        {
          "output_type": "stream",
          "text": [
            "/usr/local/lib/python3.7/dist-packages/keras/engine/sequential.py:450: UserWarning: `model.predict_classes()` is deprecated and will be removed after 2021-01-01. Please use instead:* `np.argmax(model.predict(x), axis=-1)`,   if your model does multi-class classification   (e.g. if it uses a `softmax` last-layer activation).* `(model.predict(x) > 0.5).astype(\"int32\")`,   if your model does binary classification   (e.g. if it uses a `sigmoid` last-layer activation).\n",
            "  warnings.warn('`model.predict_classes()` is deprecated and '\n"
          ],
          "name": "stderr"
        },
        {
          "output_type": "display_data",
          "data": {
            "image/png": "[encoded data removed]",
            "text/plain": [
              "<Figure size 1058.4x595.44 with 1 Axes>"
            ]
          },
          "metadata": {
            "tags": []
          }
        }
      ]
    },
    {
      "cell_type": "code",
      "metadata": {
        "colab": {
          "base_uri": "https://localhost:8080/"
        },
        "id": "17570055",
        "outputId": "f3862f2f-95f0-413c-ba9c-7f729803a0a2"
      },
      "source": [
        "from sklearn.metrics import classification_report\n",
        "from sklearn.metrics import confusion_matrix\n",
        "from sklearn.metrics import precision_score, recall_score, f1_score, accuracy_score, roc_auc_score\n",
        "\n",
        "y_pred = model.predict_classes(X_test)\n",
        "# y_pred = model.predict(X_test)\n",
        "# y_pred = np.array([1 if p > 0.95 else 0 for p in y_pred[:,1].tolist()])\n",
        "\n",
        "#print(classification_report(y_test, y_pred))\n",
        "print(confusion_matrix(y_test, y_pred))\n",
        "\n",
        "print(\"Precision:\", precision_score(y_test, y_pred))\n",
        "print(\"Recall:\", recall_score(y_test_k[:,1], y_pred))\n",
        "print(\"Acuracia:\", accuracy_score(y_test_k[:,1], y_pred))\n",
        "print(\"AUC:\", roc_auc_score(y_test_k[:,1], y_pred))"
      ],
      "id": "17570055",
      "execution_count": 225,
      "outputs": [
        {
          "output_type": "stream",
          "text": [
            "/usr/local/lib/python3.7/dist-packages/keras/engine/sequential.py:450: UserWarning: `model.predict_classes()` is deprecated and will be removed after 2021-01-01. Please use instead:* `np.argmax(model.predict(x), axis=-1)`,   if your model does multi-class classification   (e.g. if it uses a `softmax` last-layer activation).* `(model.predict(x) > 0.5).astype(\"int32\")`,   if your model does binary classification   (e.g. if it uses a `sigmoid` last-layer activation).\n",
            "  warnings.warn('`model.predict_classes()` is deprecated and '\n"
          ],
          "name": "stderr"
        },
        {
          "output_type": "stream",
          "text": [
            "              precision    recall  f1-score   support\n",
            "\n",
            "         0.0       1.00      0.88      0.94     49331\n",
            "         1.0       0.03      0.70      0.05       239\n",
            "\n",
            "    accuracy                           0.88     49570\n",
            "   macro avg       0.51      0.79      0.49     49570\n",
            "weighted avg       0.99      0.88      0.93     49570\n",
            "\n",
            "[[43378  5953]\n",
            " [   72   167]]\n",
            "Precision: 0.027287581699346405\n",
            "Recall: 0.698744769874477\n",
            "Acuracia: 0.8784547105103894\n",
            "AUC: 0.7890350716859361\n"
          ],
          "name": "stdout"
        }
      ]
    },
    {
      "cell_type": "code",
      "metadata": {
        "id": "719b8ce0"
      },
      "source": [
        ""
      ],
      "id": "719b8ce0",
      "execution_count": null,
      "outputs": []
    },
    {
      "cell_type": "markdown",
      "metadata": {
        "id": "Eujde_mlQmXP"
      },
      "source": [
        "## Salvar modelo"
      ],
      "id": "Eujde_mlQmXP"
    },
    {
      "cell_type": "code",
      "metadata": {
        "colab": {
          "base_uri": "https://localhost:8080/"
        },
        "id": "d8733261",
        "outputId": "5d2d6f04-9535-48df-f7ef-046f2bec9f93"
      },
      "source": [
        "# serialize model to JSON\n",
        "model_json = model.to_json()\n",
        "with open(\"model.json\", \"w\") as json_file:\n",
        "    json_file.write(model_json)\n",
        "# serialize weights to HDF5\n",
        "model.save_weights(\"model.h5\")\n",
        "print(\"Saved model to disk\")"
      ],
      "id": "d8733261",
      "execution_count": 241,
      "outputs": [
        {
          "output_type": "stream",
          "text": [
            "Saved model to disk\n"
          ],
          "name": "stdout"
        }
      ]
    },
    {
      "cell_type": "code",
      "metadata": {
        "id": "TVrnaz-CQqe7"
      },
      "source": [
        ""
      ],
      "id": "TVrnaz-CQqe7",
      "execution_count": null,
      "outputs": []
    }
  ]
}